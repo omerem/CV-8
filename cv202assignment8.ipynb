{
 "cells": [
  {
   "cell_type": "code",
   "execution_count": null,
   "metadata": {},
   "outputs": [],
   "source": []
  },
  {
   "cell_type": "markdown",
   "metadata": {
    "colab_type": "text",
    "id": "HJbu44cTsbRs"
   },
   "source": [
    "### Access"
   ]
  },
  {
   "cell_type": "code",
   "execution_count": null,
   "metadata": {
    "colab": {
     "base_uri": "https://localhost:8080/",
     "height": 54
    },
    "colab_type": "code",
    "id": "LQO9HoLUr3NQ",
    "outputId": "228a39a3-9824-4500-c8e3-2f3974b9653e"
   },
   "outputs": [
    {
     "name": "stdout",
     "output_type": "stream",
     "text": [
      "Drive already mounted at /content/drive; to attempt to forcibly remount, call drive.mount(\"/content/drive\", force_remount=True).\n"
     ]
    }
   ],
   "source": [
    "from google.colab import drive\n",
    "drive.mount('/content/drive')"
   ]
  },
  {
   "cell_type": "markdown",
   "metadata": {
    "colab_type": "text",
    "id": "7BSJitDDsmGJ"
   },
   "source": [
    "### Prepare the data "
   ]
  },
  {
   "cell_type": "code",
   "execution_count": null,
   "metadata": {
    "colab": {},
    "colab_type": "code",
    "id": "itLTUPxzsj21"
   },
   "outputs": [],
   "source": [
    "num_of_epochs = 30\n",
    "\n",
    "import torch\n",
    "import random\n",
    "import numpy as np\n",
    "from matplotlib import pyplot as plt\n",
    "import torchvision\n",
    "plt.show()\n",
    "import scipy.io as sio\n",
    "from torch.utils.data import Dataset, DataLoader\n",
    "\n",
    "device = 'cuda' if torch.cuda.is_available() else 'cpu'\n",
    "\n",
    "test = sio.loadmat(\"drive/My Drive/Colab Notebooks/cv202/assignment 8/test_32x32.mat\" )\n",
    "train = sio.loadmat(\"drive/My Drive/Colab Notebooks/cv202/assignment 8/train_32x32.mat\"  )\n",
    "\n",
    "test_X = test['X'].swapaxes(2,3).swapaxes(1,2).swapaxes(0,1)\n",
    "original_train_X = train['X'].swapaxes(2,3).swapaxes(1,2).swapaxes(0,1)\n",
    "original_train_X = (torch.from_numpy(original_train_X)\n",
    "  .type(torch.FloatTensor)\n",
    "  .permute(0,3,1,2))\n",
    "\n",
    "test_X = (torch.from_numpy(test_X)\n",
    "  .type(torch.FloatTensor)\n",
    "  .permute(0,3,1,2))\n",
    "\n",
    "test_Y = torch.fmod(\n",
    "    torch.from_numpy(test['y']).type(torch.LongTensor),\n",
    "    10)\n",
    "original_train_Y = torch.fmod(\n",
    "    torch.from_numpy(train['y']).type(torch.LongTensor),\n",
    "    10)\n",
    "\n",
    "\n",
    "original_train_len = 73257\n",
    "test_len = 26032\n",
    "\n",
    "\n",
    "train_len = int(0.8 * original_train_X.shape[0])\n",
    "validation_len = original_train_X.shape[0] - train_len\n",
    "\n",
    "train_X, validation_X = (torch.utils.data.random_split\n",
    "                         (original_train_X, [train_len, validation_len]))\n",
    "train_Y = original_train_Y[train_X.indices]\n",
    "validation_Y = original_train_Y[validation_X.indices]"
   ]
  },
  {
   "cell_type": "markdown",
   "metadata": {
    "colab_type": "text",
    "id": "hXO-dYcAu8xP"
   },
   "source": [
    "### Augmentation"
   ]
  },
  {
   "cell_type": "code",
   "execution_count": null,
   "metadata": {
    "colab": {},
    "colab_type": "code",
    "id": "coUtAzBpvLOy"
   },
   "outputs": [],
   "source": [
    "from torchvision import transforms\n",
    "trans = [\n",
    "                    #transforms.ToTensor(),\n",
    "                    transforms.ColorJitter(brightness=0.5, contrast=0.5, saturation=0.5, hue=0.5),\n",
    "                    #transforms.RandomGrayscale(p=0.1),\n",
    "                    transforms.RandomAffine(degrees = 20),\n",
    "                    transforms.RandomPerspective()\n",
    "]\n",
    "#transforms.RandomApply(trans)\n",
    "#transforms.RandomChoice(transforms)"
   ]
  },
  {
   "cell_type": "code",
   "execution_count": null,
   "metadata": {
    "colab": {},
    "colab_type": "code",
    "id": "7fk-HhviskG7"
   },
   "outputs": [],
   "source": [
    "agmn_X = [None] * len(train_X)\n",
    "for i in range(len(train_X)):\n",
    "  agmn_X[i] = transforms.ToTensor()(\n",
    "      transforms.RandomOrder(trans)(\n",
    "          transforms.ToPILImage()(\n",
    "              train_X[i])))"
   ]
  },
  {
   "cell_type": "markdown",
   "metadata": {
    "colab_type": "text",
    "id": "mc7-SQhTMKoz"
   },
   "source": [
    "### `Dataset`s classes\n",
    "\n"
   ]
  },
  {
   "cell_type": "markdown",
   "metadata": {
    "colab_type": "text",
    "id": "gMKpiuDDMqqa"
   },
   "source": [
    "#### `TrainDataset`"
   ]
  },
  {
   "cell_type": "code",
   "execution_count": null,
   "metadata": {
    "colab": {},
    "colab_type": "code",
    "id": "IXUwacr7OcSI"
   },
   "outputs": [],
   "source": [
    "class TrainDataset(Dataset):\n",
    "    \n",
    "    def __init__(self):\n",
    "        self.x = train_X\n",
    "        self.y = train_Y\n",
    "        self.n_samples = len(train_X)\n",
    "        self.order = np.random.permutation(self.n_samples)\n",
    "        \n",
    "    def __getitem__(self, index):\n",
    "        place = self.order[index]\n",
    "        return self.x[place], self.y[place]\n",
    "        \n",
    "    def __len__(self):\n",
    "        return self.n_samples"
   ]
  },
  {
   "cell_type": "markdown",
   "metadata": {
    "colab_type": "text",
    "id": "YNJBAFzRJSYs"
   },
   "source": [
    "##### Visualize the first batch of images"
   ]
  },
  {
   "cell_type": "code",
   "execution_count": null,
   "metadata": {
    "colab": {
     "base_uri": "https://localhost:8080/",
     "height": 1000
    },
    "colab_type": "code",
    "id": "lkv-KedUJBsL",
    "outputId": "32126720-494b-4608-a04b-719df557514a"
   },
   "outputs": [
    {
     "data": {
      "image/png": "[encoded data removed]",
      "text/plain": [
       "<PIL.Image.Image image mode=RGB size=32x32 at 0x7FE5674DCEF0>"
      ]
     },
     "metadata": {
      "tags": []
     },
     "output_type": "display_data"
    },
    {
     "data": {
      "image/png": "[encoded data removed]",
      "text/plain": [
       "<PIL.Image.Image image mode=RGB size=32x32 at 0x7FE51820C470>"
      ]
     },
     "metadata": {
      "tags": []
     },
     "output_type": "display_data"
    },
    {
     "data": {
      "image/png": "[encoded data removed]",
      "text/plain": [
       "<PIL.Image.Image image mode=RGB size=32x32 at 0x7FE518216BA8>"
      ]
     },
     "metadata": {
      "tags": []
     },
     "output_type": "display_data"
    },
    {
     "data": {
      "image/png": "[encoded data removed]",
      "text/plain": [
       "<PIL.Image.Image image mode=RGB size=32x32 at 0x7FE5674DCEF0>"
      ]
     },
     "metadata": {
      "tags": []
     },
     "output_type": "display_data"
    },
    {
     "data": {
      "image/png": "[encoded data removed]",
      "text/plain": [
       "<PIL.Image.Image image mode=RGB size=32x32 at 0x7FE518216BA8>"
      ]
     },
     "metadata": {
      "tags": []
     },
     "output_type": "display_data"
    },
    {
     "data": {
      "image/png": "[encoded data removed]",
      "text/plain": [
       "<PIL.Image.Image image mode=RGB size=32x32 at 0x7FE5674DCE48>"
      ]
     },
     "metadata": {
      "tags": []
     },
     "output_type": "display_data"
    },
    {
     "data": {
      "image/png": "[encoded data removed]",
      "text/plain": [
       "<PIL.Image.Image image mode=RGB size=32x32 at 0x7FE51820CD30>"
      ]
     },
     "metadata": {
      "tags": []
     },
     "output_type": "display_data"
    },
    {
     "data": {
      "image/png": "[encoded data removed]",
      "text/plain": [
       "<PIL.Image.Image image mode=RGB size=32x32 at 0x7FE5674DCE48>"
      ]
     },
     "metadata": {
      "tags": []
     },
     "output_type": "display_data"
    },
    {
     "data": {
      "image/png": "[encoded data removed]",
      "text/plain": [
       "<PIL.Image.Image image mode=RGB size=32x32 at 0x7FE51820CD30>"
      ]
     },
     "metadata": {
      "tags": []
     },
     "output_type": "display_data"
    },
    {
     "data": {
      "image/png": "[encoded data removed]",
      "text/plain": [
       "<PIL.Image.Image image mode=RGB size=32x32 at 0x7FE5674DC860>"
      ]
     },
     "metadata": {
      "tags": []
     },
     "output_type": "display_data"
    },
    {
     "data": {
      "image/png": "[encoded data removed]",
      "text/plain": [
       "<PIL.Image.Image image mode=RGB size=32x32 at 0x7FE51820CD30>"
      ]
     },
     "metadata": {
      "tags": []
     },
     "output_type": "display_data"
    },
    {
     "data": {
      "image/png": "[encoded data removed]",
      "text/plain": [
       "<PIL.Image.Image image mode=RGB size=32x32 at 0x7FE5674DCEF0>"
      ]
     },
     "metadata": {
      "tags": []
     },
     "output_type": "display_data"
    },
    {
     "data": {
      "image/png": "[encoded data removed]",
      "text/plain": [
       "<PIL.Image.Image image mode=RGB size=32x32 at 0x7FE51820C470>"
      ]
     },
     "metadata": {
      "tags": []
     },
     "output_type": "display_data"
    },
    {
     "data": {
      "image/png": "[encoded data removed]",
      "text/plain": [
       "<PIL.Image.Image image mode=RGB size=32x32 at 0x7FE5674DC860>"
      ]
     },
     "metadata": {
      "tags": []
     },
     "output_type": "display_data"
    },
    {
     "data": {
      "image/png": "[encoded data removed]",
      "text/plain": [
       "<PIL.Image.Image image mode=RGB size=32x32 at 0x7FE51820C470>"
      ]
     },
     "metadata": {
      "tags": []
     },
     "output_type": "display_data"
    },
    {
     "data": {
      "image/png": "[encoded data removed]",
      "text/plain": [
       "<PIL.Image.Image image mode=RGB size=32x32 at 0x7FE5674DCE48>"
      ]
     },
     "metadata": {
      "tags": []
     },
     "output_type": "display_data"
    },
    {
     "data": {
      "image/png": "[encoded data removed]",
      "text/plain": [
       "<PIL.Image.Image image mode=RGB size=32x32 at 0x7FE51820CD30>"
      ]
     },
     "metadata": {
      "tags": []
     },
     "output_type": "display_data"
    },
    {
     "data": {
      "image/png": "[encoded data removed]",
      "text/plain": [
       "<PIL.Image.Image image mode=RGB size=32x32 at 0x7FE5674DC860>"
      ]
     },
     "metadata": {
      "tags": []
     },
     "output_type": "display_data"
    },
    {
     "data": {
      "image/png": "[encoded data removed]",
      "text/plain": [
       "<PIL.Image.Image image mode=RGB size=32x32 at 0x7FE51820C470>"
      ]
     },
     "metadata": {
      "tags": []
     },
     "output_type": "display_data"
    },
    {
     "data": {
      "image/png": "[encoded data removed]",
      "text/plain": [
       "<PIL.Image.Image image mode=RGB size=32x32 at 0x7FE5674DCE48>"
      ]
     },
     "metadata": {
      "tags": []
     },
     "output_type": "display_data"
    },
    {
     "data": {
      "image/png": "[encoded data removed]",
      "text/plain": [
       "<PIL.Image.Image image mode=RGB size=32x32 at 0x7FE51820CD30>"
      ]
     },
     "metadata": {
      "tags": []
     },
     "output_type": "display_data"
    },
    {
     "data": {
      "image/png": "[encoded data removed]",
      "text/plain": [
       "<PIL.Image.Image image mode=RGB size=32x32 at 0x7FE5674DC860>"
      ]
     },
     "metadata": {
      "tags": []
     },
     "output_type": "display_data"
    },
    {
     "data": {
      "image/png": "[encoded data removed]",
      "text/plain": [
       "<PIL.Image.Image image mode=RGB size=32x32 at 0x7FE51820C470>"
      ]
     },
     "metadata": {
      "tags": []
     },
     "output_type": "display_data"
    },
    {
     "data": {
      "image/png": "[encoded data removed]",
      "text/plain": [
       "<PIL.Image.Image image mode=RGB size=32x32 at 0x7FE5674DCE48>"
      ]
     },
     "metadata": {
      "tags": []
     },
     "output_type": "display_data"
    },
    {
     "data": {
      "image/png": "[encoded data removed]",
      "text/plain": [
       "<PIL.Image.Image image mode=RGB size=32x32 at 0x7FE51820CD30>"
      ]
     },
     "metadata": {
      "tags": []
     },
     "output_type": "display_data"
    },
    {
     "data": {
      "image/png": "[encoded data removed]",
      "text/plain": [
       "<PIL.Image.Image image mode=RGB size=32x32 at 0x7FE5674DC860>"
      ]
     },
     "metadata": {
      "tags": []
     },
     "output_type": "display_data"
    },
    {
     "data": {
      "image/png": "[encoded data removed]",
      "text/plain": [
       "<PIL.Image.Image image mode=RGB size=32x32 at 0x7FE51820C470>"
      ]
     },
     "metadata": {
      "tags": []
     },
     "output_type": "display_data"
    },
    {
     "data": {
      "image/png": "[encoded data removed]",
      "text/plain": [
       "<PIL.Image.Image image mode=RGB size=32x32 at 0x7FE5674DCE48>"
      ]
     },
     "metadata": {
      "tags": []
     },
     "output_type": "display_data"
    },
    {
     "data": {
      "image/png": "[encoded data removed]",
      "text/plain": [
       "<PIL.Image.Image image mode=RGB size=32x32 at 0x7FE51820CD30>"
      ]
     },
     "metadata": {
      "tags": []
     },
     "output_type": "display_data"
    },
    {
     "data": {
      "image/png": "[encoded data removed]",
      "text/plain": [
       "<PIL.Image.Image image mode=RGB size=32x32 at 0x7FE5674DC860>"
      ]
     },
     "metadata": {
      "tags": []
     },
     "output_type": "display_data"
    },
    {
     "data": {
      "image/png": "[encoded data removed]",
      "text/plain": [
       "<PIL.Image.Image image mode=RGB size=32x32 at 0x7FE51820C470>"
      ]
     },
     "metadata": {
      "tags": []
     },
     "output_type": "display_data"
    },
    {
     "data": {
      "image/png": "[encoded data removed]",
      "text/plain": [
       "<PIL.Image.Image image mode=RGB size=32x32 at 0x7FE5674DCE48>"
      ]
     },
     "metadata": {
      "tags": []
     },
     "output_type": "display_data"
    },
    {
     "data": {
      "image/png": "[encoded data removed]",
      "text/plain": [
       "<PIL.Image.Image image mode=RGB size=32x32 at 0x7FE51820CD30>"
      ]
     },
     "metadata": {
      "tags": []
     },
     "output_type": "display_data"
    },
    {
     "data": {
      "image/png": "[encoded data removed]",
      "text/plain": [
       "<PIL.Image.Image image mode=RGB size=32x32 at 0x7FE5674DC860>"
      ]
     },
     "metadata": {
      "tags": []
     },
     "output_type": "display_data"
    },
    {
     "data": {
      "image/png": "[encoded data removed]",
      "text/plain": [
       "<PIL.Image.Image image mode=RGB size=32x32 at 0x7FE51820C470>"
      ]
     },
     "metadata": {
      "tags": []
     },
     "output_type": "display_data"
    },
    {
     "data": {
      "image/png": "[encoded data removed]",
      "text/plain": [
       "<PIL.Image.Image image mode=RGB size=32x32 at 0x7FE5674DCE48>"
      ]
     },
     "metadata": {
      "tags": []
     },
     "output_type": "display_data"
    },
    {
     "data": {
      "image/png": "[encoded data removed]",
      "text/plain": [
       "<PIL.Image.Image image mode=RGB size=32x32 at 0x7FE51820CD30>"
      ]
     },
     "metadata": {
      "tags": []
     },
     "output_type": "display_data"
    },
    {
     "data": {
      "image/png": "[encoded data removed]",
      "text/plain": [
       "<PIL.Image.Image image mode=RGB size=32x32 at 0x7FE5674DC860>"
      ]
     },
     "metadata": {
      "tags": []
     },
     "output_type": "display_data"
    },
    {
     "data": {
      "image/png": "[encoded data removed]",
      "text/plain": [
       "<PIL.Image.Image image mode=RGB size=32x32 at 0x7FE51820C470>"
      ]
     },
     "metadata": {
      "tags": []
     },
     "output_type": "display_data"
    },
    {
     "data": {
      "image/png": "[encoded data removed]",
      "text/plain": [
       "<PIL.Image.Image image mode=RGB size=32x32 at 0x7FE5674DCE48>"
      ]
     },
     "metadata": {
      "tags": []
     },
     "output_type": "display_data"
    },
    {
     "data": {
      "image/png": "[encoded data removed]",
      "text/plain": [
       "<PIL.Image.Image image mode=RGB size=32x32 at 0x7FE51820CD30>"
      ]
     },
     "metadata": {
      "tags": []
     },
     "output_type": "display_data"
    },
    {
     "data": {
      "image/png": "[encoded data removed]",
      "text/plain": [
       "<PIL.Image.Image image mode=RGB size=32x32 at 0x7FE5674DC860>"
      ]
     },
     "metadata": {
      "tags": []
     },
     "output_type": "display_data"
    },
    {
     "data": {
      "image/png": "[encoded data removed]",
      "text/plain": [
       "<PIL.Image.Image image mode=RGB size=32x32 at 0x7FE51820C470>"
      ]
     },
     "metadata": {
      "tags": []
     },
     "output_type": "display_data"
    },
    {
     "data": {
      "image/png": "[encoded data removed]",
      "text/plain": [
       "<PIL.Image.Image image mode=RGB size=32x32 at 0x7FE5674DCE48>"
      ]
     },
     "metadata": {
      "tags": []
     },
     "output_type": "display_data"
    },
    {
     "data": {
      "image/png": "[encoded data removed]",
      "text/plain": [
       "<PIL.Image.Image image mode=RGB size=32x32 at 0x7FE51820CD30>"
      ]
     },
     "metadata": {
      "tags": []
     },
     "output_type": "display_data"
    },
    {
     "data": {
      "image/png": "[encoded data removed]",
      "text/plain": [
       "<PIL.Image.Image image mode=RGB size=32x32 at 0x7FE5674DC860>"
      ]
     },
     "metadata": {
      "tags": []
     },
     "output_type": "display_data"
    },
    {
     "data": {
      "image/png": "[encoded data removed]",
      "text/plain": [
       "<PIL.Image.Image image mode=RGB size=32x32 at 0x7FE51820C470>"
      ]
     },
     "metadata": {
      "tags": []
     },
     "output_type": "display_data"
    },
    {
     "data": {
      "image/png": "[encoded data removed]",
      "text/plain": [
       "<PIL.Image.Image image mode=RGB size=32x32 at 0x7FE5674DCE48>"
      ]
     },
     "metadata": {
      "tags": []
     },
     "output_type": "display_data"
    },
    {
     "data": {
      "image/png": "[encoded data removed]",
      "text/plain": [
       "<PIL.Image.Image image mode=RGB size=32x32 at 0x7FE51820CD30>"
      ]
     },
     "metadata": {
      "tags": []
     },
     "output_type": "display_data"
    },
    {
     "data": {
      "image/png": "[encoded data removed]",
      "text/plain": [
       "<PIL.Image.Image image mode=RGB size=32x32 at 0x7FE5674DC860>"
      ]
     },
     "metadata": {
      "tags": []
     },
     "output_type": "display_data"
    },
    {
     "data": {
      "image/png": "[encoded data removed]",
      "text/plain": [
       "<PIL.Image.Image image mode=RGB size=32x32 at 0x7FE51820C470>"
      ]
     },
     "metadata": {
      "tags": []
     },
     "output_type": "display_data"
    },
    {
     "data": {
      "image/png": "[encoded data removed]",
      "text/plain": [
       "<PIL.Image.Image image mode=RGB size=32x32 at 0x7FE5674DCE48>"
      ]
     },
     "metadata": {
      "tags": []
     },
     "output_type": "display_data"
    },
    {
     "data": {
      "image/png": "[encoded data removed]",
      "text/plain": [
       "<PIL.Image.Image image mode=RGB size=32x32 at 0x7FE51820CD30>"
      ]
     },
     "metadata": {
      "tags": []
     },
     "output_type": "display_data"
    },
    {
     "data": {
      "image/png": "[encoded data removed]",
      "text/plain": [
       "<PIL.Image.Image image mode=RGB size=32x32 at 0x7FE5674DC860>"
      ]
     },
     "metadata": {
      "tags": []
     },
     "output_type": "display_data"
    },
    {
     "data": {
      "image/png": "[encoded data removed]",
      "text/plain": [
       "<PIL.Image.Image image mode=RGB size=32x32 at 0x7FE51820C470>"
      ]
     },
     "metadata": {
      "tags": []
     },
     "output_type": "display_data"
    },
    {
     "data": {
      "image/png": "[encoded data removed]",
      "text/plain": [
       "<PIL.Image.Image image mode=RGB size=32x32 at 0x7FE5674DCE48>"
      ]
     },
     "metadata": {
      "tags": []
     },
     "output_type": "display_data"
    },
    {
     "data": {
      "image/png": "[encoded data removed]",
      "text/plain": [
       "<PIL.Image.Image image mode=RGB size=32x32 at 0x7FE51820CD30>"
      ]
     },
     "metadata": {
      "tags": []
     },
     "output_type": "display_data"
    },
    {
     "data": {
      "image/png": "[encoded data removed]",
      "text/plain": [
       "<PIL.Image.Image image mode=RGB size=32x32 at 0x7FE5674DC860>"
      ]
     },
     "metadata": {
      "tags": []
     },
     "output_type": "display_data"
    },
    {
     "data": {
      "image/png": "[encoded data removed]",
      "text/plain": [
       "<PIL.Image.Image image mode=RGB size=32x32 at 0x7FE51820C470>"
      ]
     },
     "metadata": {
      "tags": []
     },
     "output_type": "display_data"
    },
    {
     "data": {
      "image/png": "[encoded data removed]",
      "text/plain": [
       "<PIL.Image.Image image mode=RGB size=32x32 at 0x7FE5674DCE48>"
      ]
     },
     "metadata": {
      "tags": []
     },
     "output_type": "display_data"
    },
    {
     "data": {
      "image/png": "[encoded data removed]",
      "text/plain": [
       "<PIL.Image.Image image mode=RGB size=32x32 at 0x7FE51820CD30>"
      ]
     },
     "metadata": {
      "tags": []
     },
     "output_type": "display_data"
    },
    {
     "data": {
      "image/png": "[encoded data removed]",
      "text/plain": [
       "<PIL.Image.Image image mode=RGB size=32x32 at 0x7FE5674DC860>"
      ]
     },
     "metadata": {
      "tags": []
     },
     "output_type": "display_data"
    },
    {
     "data": {
      "image/png": "[encoded data removed]",
      "text/plain": [
       "<PIL.Image.Image image mode=RGB size=32x32 at 0x7FE51820C470>"
      ]
     },
     "metadata": {
      "tags": []
     },
     "output_type": "display_data"
    },
    {
     "data": {
      "image/png": "[encoded data removed]",
      "text/plain": [
       "<PIL.Image.Image image mode=RGB size=32x32 at 0x7FE5674DCE48>"
      ]
     },
     "metadata": {
      "tags": []
     },
     "output_type": "display_data"
    }
   ],
   "source": [
    "train = TrainDataset()\n",
    "loader = torch.utils.data.DataLoader(train, batch_size=64)\n",
    "images,_ = next(iter(loader))\n",
    "\n",
    "for i in range(len(images)):\n",
    "  display(transforms.ToPILImage()(images[i]))"
   ]
  },
  {
   "cell_type": "markdown",
   "metadata": {
    "colab_type": "text",
    "id": "c52textzOKGI"
   },
   "source": [
    "#### `AgmnTrainDataset`"
   ]
  },
  {
   "cell_type": "code",
   "execution_count": null,
   "metadata": {
    "colab": {},
    "colab_type": "code",
    "id": "xW7omdPNOwUo"
   },
   "outputs": [],
   "source": [
    "class AgmnTrainDataset(Dataset):\n",
    "    \n",
    "    def __init__(self):\n",
    "        self.x = (train_X, agmn_X)\n",
    "        self.y = train_Y\n",
    "        self.n_samples = 2*len(train_X)\n",
    "        self.order = np.random.permutation(self.n_samples)\n",
    "\n",
    "    def __getitem__(self, index):\n",
    "      place = self.order[index]\n",
    "      if (place < self.n_samples/2):\n",
    "        return self.x[0][place], self.y[place]\n",
    "      return self.x[1][place-self.n_samples], self.y[place-self.n_samples]\n",
    "        \n",
    "    def __len__(self):\n",
    "        return self.n_samples"
   ]
  },
  {
   "cell_type": "markdown",
   "metadata": {
    "colab_type": "text",
    "id": "TPdTACvtOKk5"
   },
   "source": [
    "#### `ValidationDataset`"
   ]
  },
  {
   "cell_type": "code",
   "execution_count": null,
   "metadata": {
    "colab": {},
    "colab_type": "code",
    "id": "Vg-zi7TUPB-H"
   },
   "outputs": [],
   "source": [
    "class ValidationDataset(Dataset):\n",
    "    \n",
    "    def __init__(self):\n",
    "        self.x = validation_X\n",
    "        self.y = validation_Y\n",
    "        self.n_samples = len(validation_X)\n",
    "        #self.order = np.random.permutation(self.n_samples)\n",
    "    \n",
    "    def __getitem__(self, index):\n",
    "        #place = self.order[index]\n",
    "        #return self.x[place], self.y[place]\n",
    "        return self.x[index], self.y[index]\n",
    "\n",
    "    def __len__(self):\n",
    "        return self.n_samples"
   ]
  },
  {
   "cell_type": "markdown",
   "metadata": {
    "colab_type": "text",
    "id": "I1nIevruOXgd"
   },
   "source": [
    "#### `TestDataset`"
   ]
  },
  {
   "cell_type": "code",
   "execution_count": null,
   "metadata": {
    "colab": {},
    "colab_type": "code",
    "id": "mX5nkSpuMqDG"
   },
   "outputs": [],
   "source": [
    "class TestDataset(Dataset):\n",
    "    \n",
    "    def __init__(self):\n",
    "        self.x = test_X\n",
    "        self.y = test_Y\n",
    "        self.n_samples = len(test_X)\n",
    "        self.order = np.random.permutation(self.n_samples)\n",
    "    \n",
    "    def __getitem__(self, index):\n",
    "        place = self.order[index]\n",
    "        return self.x[place], self.y[place]\n",
    "        \n",
    "    def __len__(self):\n",
    "        return self.n_samples"
   ]
  },
  {
   "cell_type": "markdown",
   "metadata": {
    "colab_type": "text",
    "id": "urIKYKAgUYTe"
   },
   "source": [
    "### Define the nets"
   ]
  },
  {
   "cell_type": "markdown",
   "metadata": {
    "colab_type": "text",
    "id": "T0AV6-qlUfCP"
   },
   "source": [
    "#### FC"
   ]
  },
  {
   "cell_type": "code",
   "execution_count": null,
   "metadata": {
    "colab": {},
    "colab_type": "code",
    "id": "yhyLxGpVUgGa"
   },
   "outputs": [],
   "source": [
    "import torch\n",
    "import torch.nn as nn\n",
    "import torch.nn.functional as F\n",
    "\n",
    "\n",
    "class Net_FC(nn.Module):\n",
    "\n",
    "    def __init__(self):\n",
    "        super(Net_FC, self).__init__()\n",
    "        \n",
    "        self.fc1 = nn.Linear(3 * 32 * 32, 128)\n",
    "        self.fc2 = nn.Linear(128, 64)\n",
    "        self.fc3 = nn.Linear(64, 10)\n",
    "\n",
    "    def forward(self, x):\n",
    "        x = x.view(-1, self.num_flat_features(x))\n",
    "        x = F.relu(self.fc1(x))\n",
    "        x = F.relu(self.fc2(x))\n",
    "        x = self.fc3(x)\n",
    "        return x\n",
    "\n",
    "    def num_flat_features(self, x):\n",
    "        size = x.size()[1:] \n",
    "        num_features = 1\n",
    "        for s in size:\n",
    "            num_features *= s\n",
    "        return num_features"
   ]
  },
  {
   "cell_type": "code",
   "execution_count": null,
   "metadata": {
    "colab": {},
    "colab_type": "code",
    "id": "Z0p_Nt3k8r4K"
   },
   "outputs": [],
   "source": [
    "class Net_FC_With_Drop(nn.Module):\n",
    "\n",
    "    def __init__(self):\n",
    "        super(Net_FC_With_Drop, self).__init__()\n",
    "        \n",
    "        self.fc1 = nn.Linear(3 * 32 * 32, 128)  \n",
    "        self.fc2 = nn.Linear(128, 64)\n",
    "        self.fc3 = nn.Linear(64, 10)\n",
    "        self.drop = nn.Dropout(p=0.1)\n",
    "\n",
    "    def forward(self, x):\n",
    "        x = x.view(-1, self.num_flat_features(x))\n",
    "        x = self.drop(F.relu(self.fc1(x)))\n",
    "        x = self.drop(F.relu(self.fc2(x)))\n",
    "        x = self.fc3(x)\n",
    "        return x\n",
    "\n",
    "    def num_flat_features(self, x):\n",
    "        size = x.size()[1:] \n",
    "        num_features = 1\n",
    "        for s in size:\n",
    "            num_features *= s\n",
    "        return num_features"
   ]
  },
  {
   "cell_type": "markdown",
   "metadata": {
    "colab_type": "text",
    "id": "2mhJ4uqrUnFo"
   },
   "source": [
    "#### CNN"
   ]
  },
  {
   "cell_type": "code",
   "execution_count": null,
   "metadata": {
    "colab": {},
    "colab_type": "code",
    "id": "EUnIoW8eUlBA"
   },
   "outputs": [],
   "source": [
    "import torch\n",
    "import torch.nn as nn\n",
    "import torch.nn.functional as F\n",
    "\n",
    "\n",
    "class Net_CNN(nn.Module):\n",
    "\n",
    "    def __init__(self):\n",
    "        super(Net_CNN, self).__init__()\n",
    "        \n",
    "        \n",
    "        self.conv1 = nn.Conv2d(in_channels=3,\n",
    "                               out_channels=10,\n",
    "                               kernel_size=3,\n",
    "                               stride=1,\n",
    "                               padding=1)\n",
    "        self.M_pool2 = nn.MaxPool2d(kernel_size=2,\n",
    "                                    stride=2,\n",
    "                                    padding=0)\n",
    "        self.conv3 = nn.Conv2d(in_channels=10,\n",
    "                               out_channels=20,\n",
    "                               kernel_size=3,\n",
    "                               stride=1,\n",
    "                               padding=1)\n",
    "        self.M_pool4 = nn.MaxPool2d(kernel_size=2,\n",
    "                                    stride=2,\n",
    "                                    padding=0)\n",
    "        self.fc5 = nn.Linear(20*8*8,64)\n",
    "        self.fc6 = nn.Linear(64, 10)\n",
    "\n",
    "    def forward(self, x):\n",
    "        x = F.relu(self.conv1(x))\n",
    "        x = self.M_pool2(x)\n",
    "        x = F.relu(self.conv3(x))\n",
    "        x = self.M_pool4(x)\n",
    "        x = x.view(-1, 20*8*8)\n",
    "        x = self.fc5(x)\n",
    "        x = self.fc6(x)\n",
    "        return x\n",
    "\n",
    "    def num_flat_features(self, x):\n",
    "        size = x.size()[1:] \n",
    "        num_features = 1\n",
    "        for s in size:\n",
    "            num_features *= s\n",
    "        return num_features"
   ]
  },
  {
   "cell_type": "code",
   "execution_count": null,
   "metadata": {
    "colab": {},
    "colab_type": "code",
    "id": "G3WRCwc3k7jB"
   },
   "outputs": [],
   "source": [
    "class Net_CNN_With_Drop(nn.Module):\n",
    "\n",
    "    def __init__(self):\n",
    "        super(Net_CNN_With_Drop, self).__init__()\n",
    "        \n",
    "        \n",
    "        self.conv1 = nn.Conv2d(in_channels=3,\n",
    "                               out_channels=10,\n",
    "                               kernel_size=3,\n",
    "                               stride=1,\n",
    "                               padding=1)\n",
    "        self.M_pool2 = nn.MaxPool2d(kernel_size=2,\n",
    "                                    stride=2,\n",
    "                                    padding=0)\n",
    "        self.conv3 = nn.Conv2d(in_channels=10,\n",
    "                               out_channels=20,\n",
    "                               kernel_size=3,\n",
    "                               stride=1,\n",
    "                               padding=1)\n",
    "        self.M_pool4 = nn.MaxPool2d(kernel_size=2,\n",
    "                                    stride=2,\n",
    "                                    padding=0)\n",
    "        self.fc5 = nn.Linear(20*8*8,64)\n",
    "        self.fc6 = nn.Linear(64, 10)\n",
    "        self.drop = nn.Dropout(p=0.15)\n",
    "\n",
    "    def forward(self, x):\n",
    "        x = F.relu(self.conv1(x))\n",
    "        x = self.drop(self.M_pool2(x))\n",
    "        x = self.drop(F.relu(self.conv3(x)))\n",
    "        x = self.drop(self.M_pool4(x))\n",
    "        x = x.view(-1, 20*8*8)\n",
    "        x = self.drop(self.fc5(x))\n",
    "        x = self.fc6(x)\n",
    "        return x\n",
    "\n",
    "    def num_flat_features(self, x):\n",
    "        size = x.size()[1:] \n",
    "        num_features = 1\n",
    "        for s in size:\n",
    "            num_features *= s\n",
    "        return num_features"
   ]
  },
  {
   "cell_type": "markdown",
   "metadata": {
    "colab_type": "text",
    "id": "1_uro0nXF_tM"
   },
   "source": [
    "#### My NN with drop"
   ]
  },
  {
   "cell_type": "code",
   "execution_count": null,
   "metadata": {
    "colab": {},
    "colab_type": "code",
    "id": "G3sy4AIhF_Tv"
   },
   "outputs": [],
   "source": [
    "import torch\n",
    "import torch.nn as nn\n",
    "import torch.nn.functional as F\n",
    "\n",
    "class My_NN_With_Drop(nn.Module):\n",
    "\n",
    "    def __init__(self):\n",
    "        super(My_NN_With_Drop, self).__init__()\n",
    "        \n",
    "        \n",
    "        self.conv1 = nn.Conv2d(in_channels=3,\n",
    "                               out_channels=20,\n",
    "                               kernel_size=3,\n",
    "                               stride=1,\n",
    "                               padding=1)\n",
    "        self.M_pool1 = nn.MaxPool2d(kernel_size=2,\n",
    "                                    stride=2,\n",
    "                                    padding=0)\n",
    "        self.conv2 = nn.Conv2d(in_channels=20,\n",
    "                               out_channels=30,\n",
    "                               kernel_size=3,\n",
    "                               stride=1,\n",
    "                               padding=1)\n",
    "        self.M_pool2 = nn.MaxPool2d(kernel_size=2,\n",
    "                                    stride=2,\n",
    "                                    padding=0)\n",
    "        self.conv3 = nn.Conv2d(\n",
    "            in_channels = 30,\n",
    "            out_channels = 40,\n",
    "            kernel_size = 3,\n",
    "            stride = 1,\n",
    "            padding = 1\n",
    "        )\n",
    "        self.M_pool3 = nn.MaxPool2d(kernel_size=2,\n",
    "                                    stride=2,\n",
    "                                    padding=0)\n",
    "        self.fc1 = nn.Linear(40*4*4,64)\n",
    "        self.fc2 = nn.Linear(64, 10)\n",
    "        #self.fc3 = nn.Linear(96,40)\n",
    "        #self.fc4 = nn.Linear(40,10)\n",
    "        self.drop = nn.Dropout(p=0.1)\n",
    "\n",
    "    def forward(self, x):\n",
    "        x = self.conv1(x)\n",
    "        x = F.relu(x)\n",
    "        #x = self.drop(x)\n",
    "        x = self.M_pool1(x)\n",
    "        x = self.conv2(x)\n",
    "        x = F.relu(x)\n",
    "        #x = self.drop(x)\n",
    "        x = self.M_pool2(x)\n",
    "        x = self.conv3(x)\n",
    "        #x = self.drop(x)\n",
    "        x = self.M_pool3(x)\n",
    "        x = x.view(-1, 40*4*4)\n",
    "        x = self.fc1(x)\n",
    "        x = self.fc2(x)\n",
    "\n",
    "        return x\n",
    "\n",
    "    def num_flat_features(self, x):\n",
    "        size = x.size()[1:]\n",
    "        num_features = 1\n",
    "        for s in size:\n",
    "            num_features *= s\n",
    "        return num_features"
   ]
  },
  {
   "cell_type": "markdown",
   "metadata": {
    "colab_type": "text",
    "id": "ss-sLxUKDMSD"
   },
   "source": [
    "#### My NN with no drop"
   ]
  },
  {
   "cell_type": "code",
   "execution_count": null,
   "metadata": {
    "colab": {},
    "colab_type": "code",
    "id": "8EVD1h0qDMSK"
   },
   "outputs": [],
   "source": [
    "import torch\n",
    "import torch.nn as nn\n",
    "import torch.nn.functional as F\n",
    "\n",
    "class My_NN_With_No_Drop(nn.Module):\n",
    "\n",
    "    def __init__(self):\n",
    "        super(My_NN_With_No_Drop, self).__init__()\n",
    "        \n",
    "        \n",
    "        self.conv1 = nn.Conv2d(in_channels=3,\n",
    "                               out_channels=20,\n",
    "                               kernel_size=3,\n",
    "                               stride=1,\n",
    "                               padding=1)\n",
    "        self.M_pool1 = nn.MaxPool2d(kernel_size=2,\n",
    "                                    stride=2,\n",
    "                                    padding=0)\n",
    "        self.conv2 = nn.Conv2d(in_channels=20,\n",
    "                               out_channels=30,\n",
    "                               kernel_size=3,\n",
    "                               stride=1,\n",
    "                               padding=1)\n",
    "        self.M_pool2 = nn.MaxPool2d(kernel_size=2,\n",
    "                                    stride=2,\n",
    "                                    padding=0)\n",
    "        self.conv3 = nn.Conv2d(\n",
    "            in_channels = 30,\n",
    "            out_channels = 40,\n",
    "            kernel_size = 3,\n",
    "            stride = 1,\n",
    "            padding = 1\n",
    "        )\n",
    "        self.M_pool3 = nn.MaxPool2d(kernel_size=2,\n",
    "                                    stride=2,\n",
    "                                    padding=0)\n",
    "        self.fc1 = nn.Linear(40*4*4,64)\n",
    "        self.fc2 = nn.Linear(64, 10)\n",
    "        #self.fc3 = nn.Linear(96,40)\n",
    "        #self.fc4 = nn.Linear(40,10)\n",
    "        self.drop = nn.Dropout(p=0.1)\n",
    "\n",
    "    def forward(self, x):\n",
    "        x = self.conv1(x)\n",
    "        x = F.relu(x)\n",
    "        #x = self.drop(x)\n",
    "        x = self.M_pool1(x)\n",
    "        x = self.conv2(x)\n",
    "        x = F.relu(x)\n",
    "        #x = self.drop(x)\n",
    "        x = self.M_pool2(x)\n",
    "        x = self.conv3(x)\n",
    "        #x = self.drop(x)\n",
    "        x = self.M_pool3(x)\n",
    "        x = x.view(-1, 40*4*4)\n",
    "        x = self.fc1(x)\n",
    "        x = self.fc2(x)\n",
    "\n",
    "        return x\n",
    "\n",
    "    def num_flat_features(self, x):\n",
    "        size = x.size()[1:] \n",
    "        num_features = 1\n",
    "        for s in size:\n",
    "            num_features *= s\n",
    "        return num_features"
   ]
  },
  {
   "cell_type": "markdown",
   "metadata": {
    "colab_type": "text",
    "id": "Yel2_KAnU7qx"
   },
   "source": [
    "### training"
   ]
  },
  {
   "cell_type": "markdown",
   "metadata": {
    "colab_type": "text",
    "id": "9N3KU4pKKGg7"
   },
   "source": [
    "#### training function"
   ]
  },
  {
   "cell_type": "code",
   "execution_count": null,
   "metadata": {
    "colab": {},
    "colab_type": "code",
    "id": "Il9Eug7HKJ65"
   },
   "outputs": [],
   "source": [
    "import torch.optim as optim\n",
    "def train_fun(num_of_epochs, data_set_class, nn_class, learning_rate = 0.001):\n",
    "  data_set = data_set_class()\n",
    "  data_set_loader = torch.utils.data.DataLoader(data_set, batch_size=64)\n",
    "  net = nn_class().to(device)\n",
    "  criterion = nn.CrossEntropyLoss().to(device)\n",
    "  optimizer = torch.optim.Adam(params = net.parameters(), lr=learning_rate)\n",
    "  running_loss_values_net = np.empty(num_of_epochs \n",
    "                                        * int(len(data_set_loader)/100))\n",
    "  for epoch in range(num_of_epochs):\n",
    "    running_loss = 0.0\n",
    "    for i, data in enumerate(data_set_loader, 0):\n",
    "      inputs, labels = data\n",
    "      inputs = inputs.to(device)\n",
    "      labels = labels.to(device)\n",
    "      optimizer.zero_grad()\n",
    "      target = labels.view(-1).to(device)\n",
    "      outputs = net(inputs).to(device)\n",
    "      loss = criterion(outputs, target).to(device)\n",
    "\n",
    "      loss.backward()\n",
    "      optimizer.step()\n",
    "\n",
    "      running_loss += loss.item()\n",
    "      if i % 100 == 99:\n",
    "        running_loss_values_net[epoch*int(len(data_set_loader)/100)+int((i-99)/100)]= running_loss/100\n",
    "        print('[%d, %5d] loss: %.4f' %\n",
    "                    (epoch + 1, i + 1, running_loss / 100))\n",
    "        running_loss = 0.0\n",
    "  return net, running_loss_values_net"
   ]
  },
  {
   "cell_type": "markdown",
   "metadata": {
    "colab_type": "text",
    "id": "F7qnQAtOV43_"
   },
   "source": [
    "#### FC"
   ]
  },
  {
   "cell_type": "code",
   "execution_count": null,
   "metadata": {
    "colab": {
     "base_uri": "https://localhost:8080/",
     "height": 1000
    },
    "colab_type": "code",
    "id": "DOf0P5lgVoaV",
    "outputId": "cd8fb6aa-f48a-4084-8c08-814a7ec118e0"
   },
   "outputs": [
    {
     "name": "stdout",
     "output_type": "stream",
     "text": [
      "[1,   100] loss: 18.3993\n",
      "[1,   200] loss: 2.6369\n",
      "[1,   300] loss: 2.8900\n",
      "[1,   400] loss: 2.5141\n",
      "[1,   500] loss: 2.3963\n",
      "[1,   600] loss: 2.6392\n",
      "[1,   700] loss: 2.5132\n",
      "[1,   800] loss: 2.3691\n",
      "[1,   900] loss: 2.8491\n",
      "[2,   100] loss: 2.3941\n",
      "[2,   200] loss: 2.2992\n",
      "[2,   300] loss: 2.3004\n",
      "[2,   400] loss: 2.2976\n",
      "[2,   500] loss: 2.2899\n",
      "[2,   600] loss: 2.2670\n",
      "[2,   700] loss: 2.2683\n",
      "[2,   800] loss: 2.2227\n",
      "[2,   900] loss: 2.1881\n",
      "[3,   100] loss: 2.1153\n",
      "[3,   200] loss: 1.9970\n",
      "[3,   300] loss: 1.9484\n",
      "[3,   400] loss: 1.8772\n",
      "[3,   500] loss: 1.8881\n",
      "[3,   600] loss: 1.7809\n",
      "[3,   700] loss: 1.8213\n",
      "[3,   800] loss: 1.7520\n",
      "[3,   900] loss: 1.7010\n",
      "[4,   100] loss: 1.6957\n",
      "[4,   200] loss: 1.6822\n",
      "[4,   300] loss: 1.6422\n",
      "[4,   400] loss: 1.6443\n",
      "[4,   500] loss: 1.6977\n",
      "[4,   600] loss: 1.5969\n",
      "[4,   700] loss: 1.5891\n",
      "[4,   800] loss: 1.6261\n",
      "[4,   900] loss: 1.5568\n",
      "[5,   100] loss: 1.6001\n",
      "[5,   200] loss: 1.5484\n",
      "[5,   300] loss: 1.5278\n",
      "[5,   400] loss: 1.5524\n",
      "[5,   500] loss: 1.6022\n",
      "[5,   600] loss: 1.5039\n",
      "[5,   700] loss: 1.4779\n",
      "[5,   800] loss: 1.5381\n",
      "[5,   900] loss: 1.5083\n",
      "[6,   100] loss: 1.5791\n",
      "[6,   200] loss: 1.5464\n",
      "[6,   300] loss: 1.5270\n",
      "[6,   400] loss: 1.5487\n",
      "[6,   500] loss: 1.5902\n",
      "[6,   600] loss: 1.4668\n",
      "[6,   700] loss: 1.4813\n",
      "[6,   800] loss: 1.5276\n",
      "[6,   900] loss: 1.4820\n",
      "[7,   100] loss: 1.5174\n",
      "[7,   200] loss: 1.4930\n",
      "[7,   300] loss: 1.4983\n",
      "[7,   400] loss: 1.5238\n",
      "[7,   500] loss: 1.5480\n",
      "[7,   600] loss: 1.4650\n",
      "[7,   700] loss: 1.4690\n",
      "[7,   800] loss: 1.4857\n",
      "[7,   900] loss: 1.4426\n",
      "[8,   100] loss: 1.4887\n",
      "[8,   200] loss: 1.4656\n",
      "[8,   300] loss: 1.4536\n",
      "[8,   400] loss: 1.5349\n",
      "[8,   500] loss: 1.5455\n",
      "[8,   600] loss: 1.4384\n",
      "[8,   700] loss: 1.4643\n",
      "[8,   800] loss: 1.5102\n",
      "[8,   900] loss: 1.4415\n",
      "[9,   100] loss: 1.4441\n",
      "[9,   200] loss: 1.4423\n",
      "[9,   300] loss: 1.4272\n",
      "[9,   400] loss: 1.4963\n",
      "[9,   500] loss: 1.5078\n",
      "[9,   600] loss: 1.4248\n",
      "[9,   700] loss: 1.4378\n",
      "[9,   800] loss: 1.4367\n",
      "[9,   900] loss: 1.4425\n",
      "[10,   100] loss: 1.4307\n",
      "[10,   200] loss: 1.4385\n",
      "[10,   300] loss: 1.4214\n",
      "[10,   400] loss: 1.4684\n",
      "[10,   500] loss: 1.4922\n",
      "[10,   600] loss: 1.4145\n",
      "[10,   700] loss: 1.3944\n",
      "[10,   800] loss: 1.4656\n",
      "[10,   900] loss: 1.4452\n",
      "[11,   100] loss: 1.4209\n",
      "[11,   200] loss: 1.4289\n",
      "[11,   300] loss: 1.4263\n",
      "[11,   400] loss: 1.4508\n",
      "[11,   500] loss: 1.4898\n",
      "[11,   600] loss: 1.4148\n",
      "[11,   700] loss: 1.4019\n",
      "[11,   800] loss: 1.4341\n",
      "[11,   900] loss: 1.4129\n",
      "[12,   100] loss: 1.4275\n",
      "[12,   200] loss: 1.4182\n",
      "[12,   300] loss: 1.4363\n",
      "[12,   400] loss: 1.4849\n",
      "[12,   500] loss: 1.4921\n",
      "[12,   600] loss: 1.4031\n",
      "[12,   700] loss: 1.3830\n",
      "[12,   800] loss: 1.4358\n",
      "[12,   900] loss: 1.4152\n",
      "[13,   100] loss: 1.4049\n",
      "[13,   200] loss: 1.4159\n",
      "[13,   300] loss: 1.4105\n",
      "[13,   400] loss: 1.4744\n",
      "[13,   500] loss: 1.4632\n",
      "[13,   600] loss: 1.3988\n",
      "[13,   700] loss: 1.3747\n",
      "[13,   800] loss: 1.4266\n",
      "[13,   900] loss: 1.3897\n",
      "[14,   100] loss: 1.4097\n",
      "[14,   200] loss: 1.3959\n",
      "[14,   300] loss: 1.3998\n",
      "[14,   400] loss: 1.4727\n",
      "[14,   500] loss: 1.4685\n",
      "[14,   600] loss: 1.4085\n",
      "[14,   700] loss: 1.3572\n",
      "[14,   800] loss: 1.4165\n",
      "[14,   900] loss: 1.4294\n",
      "[15,   100] loss: 1.4382\n",
      "[15,   200] loss: 1.4046\n",
      "[15,   300] loss: 1.3923\n",
      "[15,   400] loss: 1.4390\n",
      "[15,   500] loss: 1.4801\n",
      "[15,   600] loss: 1.3983\n",
      "[15,   700] loss: 1.3544\n",
      "[15,   800] loss: 1.4050\n",
      "[15,   900] loss: 1.4140\n",
      "[16,   100] loss: 1.4279\n",
      "[16,   200] loss: 1.3959\n",
      "[16,   300] loss: 1.3816\n",
      "[16,   400] loss: 1.4476\n",
      "[16,   500] loss: 1.4666\n",
      "[16,   600] loss: 1.3806\n",
      "[16,   700] loss: 1.3704\n",
      "[16,   800] loss: 1.3993\n",
      "[16,   900] loss: 1.4166\n",
      "[17,   100] loss: 1.4159\n",
      "[17,   200] loss: 1.4061\n",
      "[17,   300] loss: 1.4100\n",
      "[17,   400] loss: 1.4478\n",
      "[17,   500] loss: 1.4523\n",
      "[17,   600] loss: 1.4020\n",
      "[17,   700] loss: 1.3528\n",
      "[17,   800] loss: 1.4192\n",
      "[17,   900] loss: 1.4095\n",
      "[18,   100] loss: 1.4030\n",
      "[18,   200] loss: 1.4264\n",
      "[18,   300] loss: 1.3889\n",
      "[18,   400] loss: 1.4507\n",
      "[18,   500] loss: 1.4548\n",
      "[18,   600] loss: 1.4065\n",
      "[18,   700] loss: 1.3461\n",
      "[18,   800] loss: 1.4293\n",
      "[18,   900] loss: 1.3874\n",
      "[19,   100] loss: 1.3976\n",
      "[19,   200] loss: 1.3877\n",
      "[19,   300] loss: 1.4038\n",
      "[19,   400] loss: 1.4548\n",
      "[19,   500] loss: 1.4365\n",
      "[19,   600] loss: 1.3802\n",
      "[19,   700] loss: 1.3652\n",
      "[19,   800] loss: 1.4178\n",
      "[19,   900] loss: 1.4070\n",
      "[20,   100] loss: 1.4210\n",
      "[20,   200] loss: 1.3908\n",
      "[20,   300] loss: 1.4052\n",
      "[20,   400] loss: 1.4570\n",
      "[20,   500] loss: 1.4650\n",
      "[20,   600] loss: 1.3824\n",
      "[20,   700] loss: 1.3546\n",
      "[20,   800] loss: 1.4179\n",
      "[20,   900] loss: 1.4267\n",
      "[21,   100] loss: 1.3821\n",
      "[21,   200] loss: 1.4008\n",
      "[21,   300] loss: 1.4159\n",
      "[21,   400] loss: 1.4339\n",
      "[21,   500] loss: 1.4527\n",
      "[21,   600] loss: 1.3854\n",
      "[21,   700] loss: 1.3641\n",
      "[21,   800] loss: 1.4517\n",
      "[21,   900] loss: 1.4102\n",
      "[22,   100] loss: 1.3776\n",
      "[22,   200] loss: 1.4151\n",
      "[22,   300] loss: 1.3889\n",
      "[22,   400] loss: 1.4007\n",
      "[22,   500] loss: 1.4231\n",
      "[22,   600] loss: 1.3920\n",
      "[22,   700] loss: 1.3583\n",
      "[22,   800] loss: 1.4196\n",
      "[22,   900] loss: 1.4030\n",
      "[23,   100] loss: 1.3918\n",
      "[23,   200] loss: 1.3870\n",
      "[23,   300] loss: 1.3823\n",
      "[23,   400] loss: 1.4381\n",
      "[23,   500] loss: 1.4418\n",
      "[23,   600] loss: 1.4019\n",
      "[23,   700] loss: 1.3510\n",
      "[23,   800] loss: 1.4418\n",
      "[23,   900] loss: 1.4176\n",
      "[24,   100] loss: 1.3692\n",
      "[24,   200] loss: 1.3925\n",
      "[24,   300] loss: 1.4183\n",
      "[24,   400] loss: 1.4463\n",
      "[24,   500] loss: 1.4317\n",
      "[24,   600] loss: 1.3846\n",
      "[24,   700] loss: 1.3628\n",
      "[24,   800] loss: 1.4305\n",
      "[24,   900] loss: 1.4323\n",
      "[25,   100] loss: 1.3976\n",
      "[25,   200] loss: 1.3760\n",
      "[25,   300] loss: 1.3897\n",
      "[25,   400] loss: 1.4029\n",
      "[25,   500] loss: 1.4538\n",
      "[25,   600] loss: 1.4155\n",
      "[25,   700] loss: 1.3950\n",
      "[25,   800] loss: 1.4299\n",
      "[25,   900] loss: 1.4063\n",
      "[26,   100] loss: 1.4031\n",
      "[26,   200] loss: 1.4036\n",
      "[26,   300] loss: 1.4050\n",
      "[26,   400] loss: 1.4283\n",
      "[26,   500] loss: 1.4418\n",
      "[26,   600] loss: 1.3779\n",
      "[26,   700] loss: 1.3477\n",
      "[26,   800] loss: 1.4009\n",
      "[26,   900] loss: 1.4245\n",
      "[27,   100] loss: 1.3951\n",
      "[27,   200] loss: 1.3830\n",
      "[27,   300] loss: 1.4064\n",
      "[27,   400] loss: 1.4135\n",
      "[27,   500] loss: 1.4271\n",
      "[27,   600] loss: 1.4013\n",
      "[27,   700] loss: 1.3689\n",
      "[27,   800] loss: 1.3903\n",
      "[27,   900] loss: 1.4229\n",
      "[28,   100] loss: 1.3834\n",
      "[28,   200] loss: 1.4099\n",
      "[28,   300] loss: 1.3962\n",
      "[28,   400] loss: 1.4007\n",
      "[28,   500] loss: 1.4964\n",
      "[28,   600] loss: 1.3810\n",
      "[28,   700] loss: 1.3491\n",
      "[28,   800] loss: 1.4222\n",
      "[28,   900] loss: 1.3650\n",
      "[29,   100] loss: 1.3792\n",
      "[29,   200] loss: 1.3942\n",
      "[29,   300] loss: 1.4000\n",
      "[29,   400] loss: 1.4393\n",
      "[29,   500] loss: 1.4461\n",
      "[29,   600] loss: 1.4158\n",
      "[29,   700] loss: 1.3758\n",
      "[29,   800] loss: 1.3909\n",
      "[29,   900] loss: 1.3739\n",
      "[30,   100] loss: 1.3926\n",
      "[30,   200] loss: 1.3959\n",
      "[30,   300] loss: 1.4105\n",
      "[30,   400] loss: 1.4280\n",
      "[30,   500] loss: 1.4444\n",
      "[30,   600] loss: 1.3917\n",
      "[30,   700] loss: 1.3610\n",
      "[30,   800] loss: 1.3755\n",
      "[30,   900] loss: 1.3888\n"
     ]
    }
   ],
   "source": [
    "net_FC, running_loss_values_net_FC = train_fun(\n",
    "    num_of_epochs=num_of_epochs,\n",
    "    data_set_class = TrainDataset,\n",
    "    nn_class = Net_FC,\n",
    "    learning_rate = 0.001\n",
    ")"
   ]
  },
  {
   "cell_type": "markdown",
   "metadata": {
    "colab_type": "text",
    "id": "w7H4LNKMde1I"
   },
   "source": [
    "#### CNN"
   ]
  },
  {
   "cell_type": "code",
   "execution_count": null,
   "metadata": {
    "colab": {
     "base_uri": "https://localhost:8080/",
     "height": 1000
    },
    "colab_type": "code",
    "id": "j04vFUIMeDqz",
    "outputId": "d8e5e842-5e74-461f-f77f-2996be2e9aa5"
   },
   "outputs": [
    {
     "name": "stdout",
     "output_type": "stream",
     "text": [
      "[1,   100] loss: 2.7371\n",
      "[1,   200] loss: 1.7097\n",
      "[1,   300] loss: 1.1184\n",
      "[1,   400] loss: 0.9181\n",
      "[1,   500] loss: 0.8631\n",
      "[1,   600] loss: 0.8078\n",
      "[1,   700] loss: 0.7692\n",
      "[1,   800] loss: 0.7345\n",
      "[1,   900] loss: 0.7306\n",
      "[2,   100] loss: 0.6901\n",
      "[2,   200] loss: 0.6760\n",
      "[2,   300] loss: 0.6594\n",
      "[2,   400] loss: 0.6050\n",
      "[2,   500] loss: 0.6218\n",
      "[2,   600] loss: 0.6250\n",
      "[2,   700] loss: 0.6263\n",
      "[2,   800] loss: 0.5973\n",
      "[2,   900] loss: 0.6289\n",
      "[3,   100] loss: 0.5937\n",
      "[3,   200] loss: 0.6025\n",
      "[3,   300] loss: 0.5911\n",
      "[3,   400] loss: 0.5289\n",
      "[3,   500] loss: 0.5526\n",
      "[3,   600] loss: 0.5685\n",
      "[3,   700] loss: 0.5762\n",
      "[3,   800] loss: 0.5422\n",
      "[3,   900] loss: 0.5884\n",
      "[4,   100] loss: 0.5410\n",
      "[4,   200] loss: 0.5588\n",
      "[4,   300] loss: 0.5580\n",
      "[4,   400] loss: 0.4954\n",
      "[4,   500] loss: 0.5147\n",
      "[4,   600] loss: 0.5373\n",
      "[4,   700] loss: 0.5412\n",
      "[4,   800] loss: 0.5178\n",
      "[4,   900] loss: 0.5703\n",
      "[5,   100] loss: 0.5204\n",
      "[5,   200] loss: 0.5303\n",
      "[5,   300] loss: 0.5399\n",
      "[5,   400] loss: 0.4748\n",
      "[5,   500] loss: 0.4862\n",
      "[5,   600] loss: 0.5107\n",
      "[5,   700] loss: 0.5128\n",
      "[5,   800] loss: 0.4993\n",
      "[5,   900] loss: 0.5458\n",
      "[6,   100] loss: 0.5066\n",
      "[6,   200] loss: 0.5178\n",
      "[6,   300] loss: 0.5113\n",
      "[6,   400] loss: 0.4673\n",
      "[6,   500] loss: 0.4773\n",
      "[6,   600] loss: 0.4909\n",
      "[6,   700] loss: 0.4961\n",
      "[6,   800] loss: 0.4832\n",
      "[6,   900] loss: 0.5390\n",
      "[7,   100] loss: 0.4934\n",
      "[7,   200] loss: 0.5005\n",
      "[7,   300] loss: 0.5057\n",
      "[7,   400] loss: 0.4439\n",
      "[7,   500] loss: 0.4517\n",
      "[7,   600] loss: 0.4773\n",
      "[7,   700] loss: 0.4835\n",
      "[7,   800] loss: 0.4727\n",
      "[7,   900] loss: 0.5179\n",
      "[8,   100] loss: 0.4817\n",
      "[8,   200] loss: 0.4995\n",
      "[8,   300] loss: 0.4932\n",
      "[8,   400] loss: 0.4386\n",
      "[8,   500] loss: 0.4560\n",
      "[8,   600] loss: 0.4695\n",
      "[8,   700] loss: 0.4781\n",
      "[8,   800] loss: 0.4586\n",
      "[8,   900] loss: 0.5104\n",
      "[9,   100] loss: 0.4680\n",
      "[9,   200] loss: 0.4915\n",
      "[9,   300] loss: 0.4880\n",
      "[9,   400] loss: 0.4270\n",
      "[9,   500] loss: 0.4407\n",
      "[9,   600] loss: 0.4656\n",
      "[9,   700] loss: 0.4789\n",
      "[9,   800] loss: 0.4551\n",
      "[9,   900] loss: 0.5070\n",
      "[10,   100] loss: 0.4579\n",
      "[10,   200] loss: 0.4693\n",
      "[10,   300] loss: 0.4796\n",
      "[10,   400] loss: 0.4179\n",
      "[10,   500] loss: 0.4337\n",
      "[10,   600] loss: 0.4649\n",
      "[10,   700] loss: 0.4747\n",
      "[10,   800] loss: 0.4583\n",
      "[10,   900] loss: 0.4859\n",
      "[11,   100] loss: 0.4492\n",
      "[11,   200] loss: 0.4707\n",
      "[11,   300] loss: 0.4828\n",
      "[11,   400] loss: 0.4062\n",
      "[11,   500] loss: 0.4201\n",
      "[11,   600] loss: 0.4542\n",
      "[11,   700] loss: 0.4650\n",
      "[11,   800] loss: 0.4495\n",
      "[11,   900] loss: 0.4789\n",
      "[12,   100] loss: 0.4476\n",
      "[12,   200] loss: 0.4661\n",
      "[12,   300] loss: 0.4647\n",
      "[12,   400] loss: 0.4026\n",
      "[12,   500] loss: 0.4069\n",
      "[12,   600] loss: 0.4539\n",
      "[12,   700] loss: 0.4623\n",
      "[12,   800] loss: 0.4387\n",
      "[12,   900] loss: 0.4566\n",
      "[13,   100] loss: 0.4350\n",
      "[13,   200] loss: 0.4541\n",
      "[13,   300] loss: 0.4471\n",
      "[13,   400] loss: 0.3960\n",
      "[13,   500] loss: 0.4123\n",
      "[13,   600] loss: 0.4405\n",
      "[13,   700] loss: 0.4536\n",
      "[13,   800] loss: 0.4265\n",
      "[13,   900] loss: 0.4579\n",
      "[14,   100] loss: 0.4267\n",
      "[14,   200] loss: 0.4614\n",
      "[14,   300] loss: 0.4644\n",
      "[14,   400] loss: 0.3952\n",
      "[14,   500] loss: 0.4052\n",
      "[14,   600] loss: 0.4371\n",
      "[14,   700] loss: 0.4387\n",
      "[14,   800] loss: 0.4148\n",
      "[14,   900] loss: 0.4554\n",
      "[15,   100] loss: 0.4287\n",
      "[15,   200] loss: 0.4519\n",
      "[15,   300] loss: 0.4408\n",
      "[15,   400] loss: 0.3873\n",
      "[15,   500] loss: 0.3978\n",
      "[15,   600] loss: 0.4205\n",
      "[15,   700] loss: 0.4170\n",
      "[15,   800] loss: 0.4083\n",
      "[15,   900] loss: 0.4384\n",
      "[16,   100] loss: 0.4165\n",
      "[16,   200] loss: 0.4447\n",
      "[16,   300] loss: 0.4412\n",
      "[16,   400] loss: 0.3768\n",
      "[16,   500] loss: 0.3917\n",
      "[16,   600] loss: 0.4118\n",
      "[16,   700] loss: 0.4165\n",
      "[16,   800] loss: 0.4096\n",
      "[16,   900] loss: 0.4542\n",
      "[17,   100] loss: 0.4208\n",
      "[17,   200] loss: 0.4517\n",
      "[17,   300] loss: 0.4389\n",
      "[17,   400] loss: 0.3758\n",
      "[17,   500] loss: 0.3840\n",
      "[17,   600] loss: 0.4113\n",
      "[17,   700] loss: 0.4058\n",
      "[17,   800] loss: 0.4055\n",
      "[17,   900] loss: 0.4297\n",
      "[18,   100] loss: 0.4175\n",
      "[18,   200] loss: 0.4508\n",
      "[18,   300] loss: 0.4321\n",
      "[18,   400] loss: 0.3724\n",
      "[18,   500] loss: 0.3810\n",
      "[18,   600] loss: 0.4067\n",
      "[18,   700] loss: 0.4020\n",
      "[18,   800] loss: 0.3966\n",
      "[18,   900] loss: 0.4419\n",
      "[19,   100] loss: 0.4266\n",
      "[19,   200] loss: 0.4290\n",
      "[19,   300] loss: 0.4204\n",
      "[19,   400] loss: 0.3866\n",
      "[19,   500] loss: 0.3907\n",
      "[19,   600] loss: 0.4006\n",
      "[19,   700] loss: 0.4164\n",
      "[19,   800] loss: 0.3915\n",
      "[19,   900] loss: 0.4267\n",
      "[20,   100] loss: 0.4079\n",
      "[20,   200] loss: 0.4260\n",
      "[20,   300] loss: 0.4201\n",
      "[20,   400] loss: 0.3830\n",
      "[20,   500] loss: 0.3828\n",
      "[20,   600] loss: 0.4033\n",
      "[20,   700] loss: 0.4072\n",
      "[20,   800] loss: 0.3841\n",
      "[20,   900] loss: 0.4140\n",
      "[21,   100] loss: 0.3937\n",
      "[21,   200] loss: 0.4205\n",
      "[21,   300] loss: 0.4133\n",
      "[21,   400] loss: 0.3888\n",
      "[21,   500] loss: 0.3763\n",
      "[21,   600] loss: 0.3936\n",
      "[21,   700] loss: 0.3981\n",
      "[21,   800] loss: 0.3837\n",
      "[21,   900] loss: 0.4215\n",
      "[22,   100] loss: 0.3916\n",
      "[22,   200] loss: 0.4175\n",
      "[22,   300] loss: 0.4118\n",
      "[22,   400] loss: 0.3844\n",
      "[22,   500] loss: 0.3825\n",
      "[22,   600] loss: 0.3967\n",
      "[22,   700] loss: 0.4058\n",
      "[22,   800] loss: 0.3794\n",
      "[22,   900] loss: 0.4092\n",
      "[23,   100] loss: 0.3839\n",
      "[23,   200] loss: 0.4035\n",
      "[23,   300] loss: 0.3975\n",
      "[23,   400] loss: 0.3726\n",
      "[23,   500] loss: 0.3728\n",
      "[23,   600] loss: 0.3980\n",
      "[23,   700] loss: 0.3951\n",
      "[23,   800] loss: 0.3915\n",
      "[23,   900] loss: 0.4179\n",
      "[24,   100] loss: 0.3830\n",
      "[24,   200] loss: 0.4058\n",
      "[24,   300] loss: 0.4032\n",
      "[24,   400] loss: 0.3735\n",
      "[24,   500] loss: 0.3786\n",
      "[24,   600] loss: 0.3850\n",
      "[24,   700] loss: 0.3979\n",
      "[24,   800] loss: 0.3622\n",
      "[24,   900] loss: 0.4132\n",
      "[25,   100] loss: 0.3787\n",
      "[25,   200] loss: 0.4015\n",
      "[25,   300] loss: 0.4114\n",
      "[25,   400] loss: 0.3630\n",
      "[25,   500] loss: 0.3879\n",
      "[25,   600] loss: 0.3929\n",
      "[25,   700] loss: 0.3881\n",
      "[25,   800] loss: 0.3638\n",
      "[25,   900] loss: 0.4037\n",
      "[26,   100] loss: 0.3682\n",
      "[26,   200] loss: 0.3997\n",
      "[26,   300] loss: 0.4007\n",
      "[26,   400] loss: 0.3562\n",
      "[26,   500] loss: 0.3921\n",
      "[26,   600] loss: 0.3856\n",
      "[26,   700] loss: 0.3892\n",
      "[26,   800] loss: 0.3584\n",
      "[26,   900] loss: 0.4110\n",
      "[27,   100] loss: 0.3785\n",
      "[27,   200] loss: 0.4041\n",
      "[27,   300] loss: 0.4051\n",
      "[27,   400] loss: 0.3459\n",
      "[27,   500] loss: 0.4024\n",
      "[27,   600] loss: 0.3766\n",
      "[27,   700] loss: 0.3891\n",
      "[27,   800] loss: 0.3592\n",
      "[27,   900] loss: 0.4150\n",
      "[28,   100] loss: 0.3640\n",
      "[28,   200] loss: 0.3822\n",
      "[28,   300] loss: 0.3980\n",
      "[28,   400] loss: 0.3646\n",
      "[28,   500] loss: 0.3676\n",
      "[28,   600] loss: 0.3799\n",
      "[28,   700] loss: 0.3822\n",
      "[28,   800] loss: 0.3539\n",
      "[28,   900] loss: 0.4072\n",
      "[29,   100] loss: 0.3699\n",
      "[29,   200] loss: 0.3796\n",
      "[29,   300] loss: 0.3812\n",
      "[29,   400] loss: 0.3427\n",
      "[29,   500] loss: 0.3633\n",
      "[29,   600] loss: 0.3639\n",
      "[29,   700] loss: 0.3813\n",
      "[29,   800] loss: 0.3583\n",
      "[29,   900] loss: 0.3989\n",
      "[30,   100] loss: 0.3784\n",
      "[30,   200] loss: 0.3764\n",
      "[30,   300] loss: 0.3989\n",
      "[30,   400] loss: 0.3540\n",
      "[30,   500] loss: 0.3579\n",
      "[30,   600] loss: 0.3661\n",
      "[30,   700] loss: 0.3779\n",
      "[30,   800] loss: 0.3489\n",
      "[30,   900] loss: 0.4112\n"
     ]
    }
   ],
   "source": [
    "net_CNN, running_loss_values_net_CNN = train_fun(\n",
    "    num_of_epochs=num_of_epochs,\n",
    "    data_set_class = TrainDataset,\n",
    "    nn_class = Net_CNN,\n",
    "    learning_rate = 0.001\n",
    ")"
   ]
  },
  {
   "cell_type": "markdown",
   "metadata": {
    "colab_type": "text",
    "id": "85rE49nFNxZG"
   },
   "source": [
    "#### My NN with drop"
   ]
  },
  {
   "cell_type": "markdown",
   "metadata": {
    "colab_type": "text",
    "id": "gcKH-SCoZ0kE"
   },
   "source": [
    "##### lr big"
   ]
  },
  {
   "cell_type": "code",
   "execution_count": null,
   "metadata": {
    "colab": {
     "base_uri": "https://localhost:8080/",
     "height": 1000
    },
    "colab_type": "code",
    "id": "5yEdnw-ZyKpD",
    "outputId": "a3d5e9ef-8fd6-4766-e21c-bdccd29076c3"
   },
   "outputs": [
    {
     "name": "stdout",
     "output_type": "stream",
     "text": [
      "[1,   100] loss: 20.3772\n",
      "[1,   200] loss: 2.3054\n",
      "[1,   300] loss: 2.2751\n",
      "[1,   400] loss: 2.2890\n",
      "[1,   500] loss: 2.2594\n",
      "[1,   600] loss: 2.2555\n",
      "[1,   700] loss: 2.2528\n",
      "[1,   800] loss: 2.2550\n",
      "[1,   900] loss: 2.2528\n",
      "[1,  1000] loss: 2.2416\n",
      "[1,  1100] loss: 2.2502\n",
      "[1,  1200] loss: 2.2416\n",
      "[1,  1300] loss: 2.2487\n",
      "[1,  1400] loss: 2.2387\n",
      "[1,  1500] loss: 2.2411\n",
      "[1,  1600] loss: 2.2432\n",
      "[1,  1700] loss: 2.2449\n",
      "[1,  1800] loss: 2.2419\n",
      "[2,   100] loss: 2.2402\n",
      "[2,   200] loss: 2.2437\n",
      "[2,   300] loss: 2.2432\n",
      "[2,   400] loss: 2.2370\n",
      "[2,   500] loss: 2.2456\n",
      "[2,   600] loss: 2.2389\n",
      "[2,   700] loss: 2.2480\n",
      "[2,   800] loss: 2.2490\n",
      "[2,   900] loss: 2.2506\n",
      "[2,  1000] loss: 2.2443\n",
      "[2,  1100] loss: 2.2482\n",
      "[2,  1200] loss: 2.2384\n",
      "[2,  1300] loss: 2.2548\n",
      "[2,  1400] loss: 2.2409\n",
      "[2,  1500] loss: 2.2380\n",
      "[2,  1600] loss: 2.2400\n",
      "[2,  1700] loss: 2.2439\n",
      "[2,  1800] loss: 2.2431\n",
      "[3,   100] loss: 2.2417\n",
      "[3,   200] loss: 2.2410\n",
      "[3,   300] loss: 2.2448\n",
      "[3,   400] loss: 2.2360\n",
      "[3,   500] loss: 2.2437\n",
      "[3,   600] loss: 2.2374\n",
      "[3,   700] loss: 2.2459\n",
      "[3,   800] loss: 2.2477\n",
      "[3,   900] loss: 2.2494\n",
      "[3,  1000] loss: 2.2401\n",
      "[3,  1100] loss: 2.2433\n",
      "[3,  1200] loss: 2.2385\n",
      "[3,  1300] loss: 2.2456\n",
      "[3,  1400] loss: 2.2362\n",
      "[3,  1500] loss: 2.2348\n",
      "[3,  1600] loss: 2.2382\n",
      "[3,  1700] loss: 2.2430\n",
      "[3,  1800] loss: 2.2408\n",
      "[4,   100] loss: 2.2381\n",
      "[4,   200] loss: 2.2396\n",
      "[4,   300] loss: 2.2404\n",
      "[4,   400] loss: 2.2345\n",
      "[4,   500] loss: 2.2426\n",
      "[4,   600] loss: 2.2358\n",
      "[4,   700] loss: 2.2437\n",
      "[4,   800] loss: 2.2464\n",
      "[4,   900] loss: 2.2470\n",
      "[4,  1000] loss: 2.2392\n",
      "[4,  1100] loss: 2.2420\n",
      "[4,  1200] loss: 2.2369\n",
      "[4,  1300] loss: 2.2434\n",
      "[4,  1400] loss: 2.2355\n",
      "[4,  1500] loss: 2.2369\n",
      "[4,  1600] loss: 2.2381\n",
      "[4,  1700] loss: 2.2417\n",
      "[4,  1800] loss: 2.2400\n",
      "[5,   100] loss: 2.2390\n",
      "[5,   200] loss: 2.2395\n",
      "[5,   300] loss: 2.2425\n",
      "[5,   400] loss: 2.2351\n",
      "[5,   500] loss: 2.2438\n",
      "[5,   600] loss: 2.2359\n",
      "[5,   700] loss: 2.2441\n",
      "[5,   800] loss: 2.2439\n",
      "[5,   900] loss: 2.2480\n",
      "[5,  1000] loss: 2.2404\n",
      "[5,  1100] loss: 2.2439\n",
      "[5,  1200] loss: 2.2364\n",
      "[5,  1300] loss: 2.2409\n",
      "[5,  1400] loss: 2.2343\n",
      "[5,  1500] loss: 2.2331\n",
      "[5,  1600] loss: 2.2366\n",
      "[5,  1700] loss: 2.2402\n",
      "[5,  1800] loss: 2.2389\n",
      "[6,   100] loss: 2.2407\n",
      "[6,   200] loss: 2.2370\n",
      "[6,   300] loss: 2.2460\n",
      "[6,   400] loss: 2.2367\n",
      "[6,   500] loss: 2.2419\n",
      "[6,   600] loss: 2.2358\n",
      "[6,   700] loss: 2.2441\n",
      "[6,   800] loss: 2.2425\n",
      "[6,   900] loss: 2.2470\n",
      "[6,  1000] loss: 2.2391\n",
      "[6,  1100] loss: 2.2426\n",
      "[6,  1200] loss: 2.2368\n",
      "[6,  1300] loss: 2.2411\n",
      "[6,  1400] loss: 2.2344\n",
      "[6,  1500] loss: 2.2333\n",
      "[6,  1600] loss: 2.2367\n",
      "[6,  1700] loss: 2.2398\n",
      "[6,  1800] loss: 2.2377\n",
      "[7,   100] loss: 2.2367\n",
      "[7,   200] loss: 2.2361\n",
      "[7,   300] loss: 2.2372\n",
      "[7,   400] loss: 2.2342\n",
      "[7,   500] loss: 2.2423\n",
      "[7,   600] loss: 2.2375\n",
      "[7,   700] loss: 281.4207\n",
      "[7,   800] loss: 92.6148\n",
      "[7,   900] loss: 2.7145\n",
      "[7,  1000] loss: 2.3873\n",
      "[7,  1100] loss: 2.3534\n",
      "[7,  1200] loss: 2.3697\n",
      "[7,  1300] loss: 2.3065\n",
      "[7,  1400] loss: 2.2939\n",
      "[7,  1500] loss: 2.2918\n",
      "[7,  1600] loss: 2.2872\n",
      "[7,  1700] loss: 2.2967\n",
      "[7,  1800] loss: 2.2720\n",
      "[8,   100] loss: 2.2682\n",
      "[8,   200] loss: 2.2617\n",
      "[8,   300] loss: 2.2673\n",
      "[8,   400] loss: 2.2547\n",
      "[8,   500] loss: 2.2615\n",
      "[8,   600] loss: 2.2537\n",
      "[8,   700] loss: 2.2683\n",
      "[8,   800] loss: 2.2623\n",
      "[8,   900] loss: 2.2636\n",
      "[8,  1000] loss: 2.3031\n",
      "[8,  1100] loss: 7.5170\n",
      "[8,  1200] loss: 2.2881\n",
      "[8,  1300] loss: 2.2729\n",
      "[8,  1400] loss: 2.2524\n",
      "[8,  1500] loss: 2.2543\n",
      "[8,  1600] loss: 2.2514\n",
      "[8,  1700] loss: 2.2533\n",
      "[8,  1800] loss: 2.2516\n",
      "[9,   100] loss: 2.2486\n",
      "[9,   200] loss: 2.2504\n",
      "[9,   300] loss: 2.2478\n",
      "[9,   400] loss: 2.2424\n",
      "[9,   500] loss: 2.2467\n",
      "[9,   600] loss: 2.2432\n",
      "[9,   700] loss: 2.2476\n",
      "[9,   800] loss: 2.2496\n",
      "[9,   900] loss: 2.2554\n",
      "[9,  1000] loss: 2.2421\n",
      "[9,  1100] loss: 2.2486\n",
      "[9,  1200] loss: 2.2414\n",
      "[9,  1300] loss: 2.2449\n",
      "[9,  1400] loss: 2.2393\n",
      "[9,  1500] loss: 2.2397\n",
      "[9,  1600] loss: 2.2409\n",
      "[9,  1700] loss: 2.2445\n",
      "[9,  1800] loss: 2.2428\n",
      "[10,   100] loss: 2.2424\n",
      "[10,   200] loss: 2.2430\n",
      "[10,   300] loss: 2.2485\n",
      "[10,   400] loss: 2.2391\n",
      "[10,   500] loss: 2.2448\n",
      "[10,   600] loss: 2.2394\n",
      "[10,   700] loss: 2.2486\n",
      "[10,   800] loss: 2.2470\n",
      "[10,   900] loss: 2.2535\n",
      "[10,  1000] loss: 2.2471\n",
      "[10,  1100] loss: 2.2508\n",
      "[10,  1200] loss: 2.2431\n",
      "[10,  1300] loss: 2.2477\n",
      "[10,  1400] loss: 2.2419\n",
      "[10,  1500] loss: 2.2427\n",
      "[10,  1600] loss: 2.2437\n",
      "[10,  1700] loss: 2.2451\n",
      "[10,  1800] loss: 2.2449\n",
      "[11,   100] loss: 2.2499\n",
      "[11,   200] loss: 2.2423\n",
      "[11,   300] loss: 2.2479\n",
      "[11,   400] loss: 2.2386\n",
      "[11,   500] loss: 2.2473\n",
      "[11,   600] loss: 2.2393\n",
      "[11,   700] loss: 2.2485\n",
      "[11,   800] loss: 2.2470\n",
      "[11,   900] loss: 2.2500\n",
      "[11,  1000] loss: 2.2417\n",
      "[11,  1100] loss: 2.2476\n",
      "[11,  1200] loss: 2.2411\n",
      "[11,  1300] loss: 2.2449\n",
      "[11,  1400] loss: 2.2372\n",
      "[11,  1500] loss: 2.2376\n",
      "[11,  1600] loss: 2.2402\n",
      "[11,  1700] loss: 2.2436\n",
      "[11,  1800] loss: 2.2420\n",
      "[12,   100] loss: 2.2413\n",
      "[12,   200] loss: 2.2428\n",
      "[12,   300] loss: 2.2431\n",
      "[12,   400] loss: 2.2381\n",
      "[12,   500] loss: 2.2426\n",
      "[12,   600] loss: 2.2382\n",
      "[12,   700] loss: 2.2477\n",
      "[12,   800] loss: 2.2470\n",
      "[12,   900] loss: 2.2493\n",
      "[12,  1000] loss: 2.2424\n",
      "[12,  1100] loss: 2.2468\n",
      "[12,  1200] loss: 2.2415\n",
      "[12,  1300] loss: 2.2496\n",
      "[12,  1400] loss: 2.2376\n",
      "[12,  1500] loss: 2.2412\n",
      "[12,  1600] loss: 2.2440\n",
      "[12,  1700] loss: 2.2450\n",
      "[12,  1800] loss: 2.2420\n",
      "[13,   100] loss: 2.2461\n",
      "[13,   200] loss: 2.2400\n",
      "[13,   300] loss: 2.2462\n",
      "[13,   400] loss: 2.2372\n",
      "[13,   500] loss: 2.2433\n",
      "[13,   600] loss: 2.2363\n",
      "[13,   700] loss: 2.2444\n",
      "[13,   800] loss: 2.2449\n",
      "[13,   900] loss: 2.2462\n",
      "[13,  1000] loss: 2.2409\n",
      "[13,  1100] loss: 2.2421\n",
      "[13,  1200] loss: 2.2362\n",
      "[13,  1300] loss: 2.2412\n",
      "[13,  1400] loss: 2.2341\n",
      "[13,  1500] loss: 2.2339\n",
      "[13,  1600] loss: 2.2372\n",
      "[13,  1700] loss: 2.2404\n",
      "[13,  1800] loss: 2.2390\n",
      "[14,   100] loss: 2.2374\n",
      "[14,   200] loss: 2.2373\n",
      "[14,   300] loss: 2.2397\n",
      "[14,   400] loss: 2.2334\n",
      "[14,   500] loss: 2.2409\n",
      "[14,   600] loss: 2.2357\n",
      "[14,   700] loss: 2.2425\n",
      "[14,   800] loss: 2.2449\n",
      "[14,   900] loss: 2.2468\n",
      "[14,  1000] loss: 2.2372\n",
      "[14,  1100] loss: 2.2419\n",
      "[14,  1200] loss: 2.2361\n",
      "[14,  1300] loss: 2.2404\n",
      "[14,  1400] loss: 2.2336\n",
      "[14,  1500] loss: 269.6828\n",
      "[14,  1600] loss: 53.7360\n",
      "[14,  1700] loss: 2.3795\n",
      "[14,  1800] loss: 2.3148\n",
      "[15,   100] loss: 2.3178\n",
      "[15,   200] loss: 2.2710\n",
      "[15,   300] loss: 2.2864\n",
      "[15,   400] loss: 2.2616\n",
      "[15,   500] loss: 2.2869\n",
      "[15,   600] loss: 2.2801\n",
      "[15,   700] loss: 2.2728\n",
      "[15,   800] loss: 2.2713\n",
      "[15,   900] loss: 2.2853\n",
      "[15,  1000] loss: 2.2735\n",
      "[15,  1100] loss: 2.2688\n",
      "[15,  1200] loss: 2.2599\n",
      "[15,  1300] loss: 2.2807\n",
      "[15,  1400] loss: 2.2688\n",
      "[15,  1500] loss: 2.2707\n",
      "[15,  1600] loss: 2.2573\n",
      "[15,  1700] loss: 2.2678\n",
      "[15,  1800] loss: 2.2622\n",
      "[16,   100] loss: 2.2623\n",
      "[16,   200] loss: 2.2587\n",
      "[16,   300] loss: 2.2616\n",
      "[16,   400] loss: 2.2512\n",
      "[16,   500] loss: 2.2601\n",
      "[16,   600] loss: 2.2570\n",
      "[16,   700] loss: 2.2618\n",
      "[16,   800] loss: 2.2589\n",
      "[16,   900] loss: 2.2668\n",
      "[16,  1000] loss: 2.2498\n",
      "[16,  1100] loss: 2.2524\n",
      "[16,  1200] loss: 2.2513\n",
      "[16,  1300] loss: 2.2682\n",
      "[16,  1400] loss: 2.2513\n",
      "[16,  1500] loss: 2.2490\n",
      "[16,  1600] loss: 2.2549\n",
      "[16,  1700] loss: 2.2535\n",
      "[16,  1800] loss: 2.2491\n",
      "[17,   100] loss: 2.2473\n",
      "[17,   200] loss: 2.2528\n",
      "[17,   300] loss: 2.2516\n",
      "[17,   400] loss: 2.2455\n",
      "[17,   500] loss: 2.2511\n",
      "[17,   600] loss: 2.2464\n",
      "[17,   700] loss: 2.2544\n",
      "[17,   800] loss: 2.2540\n",
      "[17,   900] loss: 2.2614\n",
      "[17,  1000] loss: 2.2478\n",
      "[17,  1100] loss: 2.2492\n",
      "[17,  1200] loss: 2.2443\n",
      "[17,  1300] loss: 2.2542\n",
      "[17,  1400] loss: 2.2481\n",
      "[17,  1500] loss: 2.2477\n",
      "[17,  1600] loss: 2.2479\n",
      "[17,  1700] loss: 2.2464\n",
      "[17,  1800] loss: 2.2452\n",
      "[18,   100] loss: 2.2436\n",
      "[18,   200] loss: 2.2451\n",
      "[18,   300] loss: 2.2487\n",
      "[18,   400] loss: 2.2413\n",
      "[18,   500] loss: 2.2504\n",
      "[18,   600] loss: 2.2429\n",
      "[18,   700] loss: 2.2518\n",
      "[18,   800] loss: 2.2515\n",
      "[18,   900] loss: 2.2554\n",
      "[18,  1000] loss: 2.2434\n",
      "[18,  1100] loss: 2.2462\n",
      "[18,  1200] loss: 2.2417\n",
      "[18,  1300] loss: 2.2478\n",
      "[18,  1400] loss: 2.2425\n",
      "[18,  1500] loss: 2.2465\n",
      "[18,  1600] loss: 2.2516\n",
      "[18,  1700] loss: 2.2517\n",
      "[18,  1800] loss: 2.2436\n",
      "[19,   100] loss: 2.2435\n",
      "[19,   200] loss: 2.2443\n",
      "[19,   300] loss: 2.2572\n",
      "[19,   400] loss: 2.2443\n",
      "[19,   500] loss: 2.2489\n",
      "[19,   600] loss: 2.2387\n",
      "[19,   700] loss: 2.2469\n",
      "[19,   800] loss: 2.2503\n",
      "[19,   900] loss: 2.2541\n",
      "[19,  1000] loss: 2.2427\n",
      "[19,  1100] loss: 2.2459\n",
      "[19,  1200] loss: 2.2390\n",
      "[19,  1300] loss: 2.2428\n",
      "[19,  1400] loss: 2.2456\n",
      "[19,  1500] loss: 2.2380\n",
      "[19,  1600] loss: 2.2407\n",
      "[19,  1700] loss: 2.2447\n",
      "[19,  1800] loss: 2.2419\n",
      "[20,   100] loss: 2.2479\n",
      "[20,   200] loss: 2.2423\n",
      "[20,   300] loss: 221.2168\n",
      "[20,   400] loss: 47.6358\n",
      "[20,   500] loss: 2.3853\n",
      "[20,   600] loss: 2.3336\n",
      "[20,   700] loss: 2.2913\n",
      "[20,   800] loss: 2.2911\n",
      "[20,   900] loss: 2.3057\n",
      "[20,  1000] loss: 2.2914\n",
      "[20,  1100] loss: 2.2880\n",
      "[20,  1200] loss: 2.2897\n",
      "[20,  1300] loss: 2.2766\n",
      "[20,  1400] loss: 2.2678\n",
      "[20,  1500] loss: 2.2750\n",
      "[20,  1600] loss: 2.2680\n",
      "[20,  1700] loss: 2.2620\n",
      "[20,  1800] loss: 2.2609\n",
      "[21,   100] loss: 2.2614\n",
      "[21,   200] loss: 2.2625\n",
      "[21,   300] loss: 2.2610\n",
      "[21,   400] loss: 2.2449\n",
      "[21,   500] loss: 2.2564\n",
      "[21,   600] loss: 2.2494\n",
      "[21,   700] loss: 2.2592\n",
      "[21,   800] loss: 2.2591\n",
      "[21,   900] loss: 2.2559\n",
      "[21,  1000] loss: 2.2522\n",
      "[21,  1100] loss: 2.2558\n",
      "[21,  1200] loss: 2.2475\n",
      "[21,  1300] loss: 2.2572\n",
      "[21,  1400] loss: 2.2445\n",
      "[21,  1500] loss: 2.2492\n",
      "[21,  1600] loss: 2.2478\n",
      "[21,  1700] loss: 2.2517\n",
      "[21,  1800] loss: 2.2543\n",
      "[22,   100] loss: 2.2453\n",
      "[22,   200] loss: 2.2496\n",
      "[22,   300] loss: 2.2564\n",
      "[22,   400] loss: 2.2428\n",
      "[22,   500] loss: 2.2513\n",
      "[22,   600] loss: 2.2454\n",
      "[22,   700] loss: 2.2521\n",
      "[22,   800] loss: 2.2538\n",
      "[22,   900] loss: 2.2525\n",
      "[22,  1000] loss: 2.2504\n",
      "[22,  1100] loss: 2.2650\n",
      "[22,  1200] loss: 2.2439\n",
      "[22,  1300] loss: 2.2609\n",
      "[22,  1400] loss: 2.2462\n",
      "[22,  1500] loss: 2.2443\n",
      "[22,  1600] loss: 2.2492\n",
      "[22,  1700] loss: 2.2503\n",
      "[22,  1800] loss: 2.2476\n",
      "[23,   100] loss: 2.2486\n",
      "[23,   200] loss: 2.2437\n",
      "[23,   300] loss: 2.2556\n",
      "[23,   400] loss: 2.2445\n",
      "[23,   500] loss: 2.2499\n",
      "[23,   600] loss: 2.2459\n",
      "[23,   700] loss: 2.2552\n",
      "[23,   800] loss: 2.2543\n",
      "[23,   900] loss: 2.2522\n",
      "[23,  1000] loss: 2.2449\n",
      "[23,  1100] loss: 2.2478\n",
      "[23,  1200] loss: 2.2411\n",
      "[23,  1300] loss: 2.2501\n",
      "[23,  1400] loss: 2.2386\n",
      "[23,  1500] loss: 2.2399\n",
      "[23,  1600] loss: 2.2458\n",
      "[23,  1700] loss: 2.2448\n",
      "[23,  1800] loss: 2.2422\n",
      "[24,   100] loss: 2.2435\n",
      "[24,   200] loss: 2.2437\n",
      "[24,   300] loss: 2.2435\n",
      "[24,   400] loss: 2.2373\n",
      "[24,   500] loss: 2.2446\n",
      "[24,   600] loss: 2.2394\n",
      "[24,   700] loss: 2.2473\n",
      "[24,   800] loss: 2.2476\n",
      "[24,   900] loss: 2.2533\n",
      "[24,  1000] loss: 2.2473\n",
      "[24,  1100] loss: 2.2451\n",
      "[24,  1200] loss: 2.2395\n",
      "[24,  1300] loss: 2.2461\n",
      "[24,  1400] loss: 2.2365\n",
      "[24,  1500] loss: 2.2368\n",
      "[24,  1600] loss: 2.2410\n",
      "[24,  1700] loss: 2.2431\n",
      "[24,  1800] loss: 2.2418\n",
      "[25,   100] loss: 2.2435\n",
      "[25,   200] loss: 2.2404\n",
      "[25,   300] loss: 2.2485\n",
      "[25,   400] loss: 2.2376\n",
      "[25,   500] loss: 2.2438\n",
      "[25,   600] loss: 2.2380\n",
      "[25,   700] loss: 2.2490\n",
      "[25,   800] loss: 2.2519\n",
      "[25,   900] loss: 2.2577\n",
      "[25,  1000] loss: 2.2614\n",
      "[25,  1100] loss: 2.2499\n",
      "[25,  1200] loss: 2.2400\n",
      "[25,  1300] loss: 2.2439\n",
      "[25,  1400] loss: 2.2356\n",
      "[25,  1500] loss: 2.2359\n",
      "[25,  1600] loss: 2.2385\n",
      "[25,  1700] loss: 2.2417\n",
      "[25,  1800] loss: 2.2397\n",
      "[26,   100] loss: 2.2381\n",
      "[26,   200] loss: 2.2386\n",
      "[26,   300] loss: 2.2393\n",
      "[26,   400] loss: 2.2372\n",
      "[26,   500] loss: 2.2426\n",
      "[26,   600] loss: 2.2366\n",
      "[26,   700] loss: 2.2433\n",
      "[26,   800] loss: 2.2463\n",
      "[26,   900] loss: 2.2488\n",
      "[26,  1000] loss: 2.2395\n",
      "[26,  1100] loss: 2.2427\n",
      "[26,  1200] loss: 2.2376\n",
      "[26,  1300] loss: 2.2422\n",
      "[26,  1400] loss: 2.2348\n",
      "[26,  1500] loss: 2.2347\n",
      "[26,  1600] loss: 2.2381\n",
      "[26,  1700] loss: 2.2405\n",
      "[26,  1800] loss: 2.2388\n",
      "[27,   100] loss: 2.2364\n",
      "[27,   200] loss: 2.2365\n",
      "[27,   300] loss: 2.2373\n",
      "[27,   400] loss: 2.2337\n",
      "[27,   500] loss: 2.2409\n",
      "[27,   600] loss: 2.2351\n",
      "[27,   700] loss: 2.2424\n",
      "[27,   800] loss: 2.2465\n",
      "[27,   900] loss: 2.2524\n",
      "[27,  1000] loss: 182.9188\n",
      "[27,  1100] loss: 5.4235\n",
      "[27,  1200] loss: 2.3009\n",
      "[27,  1300] loss: 2.2945\n",
      "[27,  1400] loss: 2.2813\n",
      "[27,  1500] loss: 2.2758\n",
      "[27,  1600] loss: 2.2746\n",
      "[27,  1700] loss: 2.2744\n",
      "[27,  1800] loss: 2.2596\n",
      "[28,   100] loss: 2.2589\n",
      "[28,   200] loss: 2.2596\n",
      "[28,   300] loss: 2.2614\n",
      "[28,   400] loss: 2.2479\n",
      "[28,   500] loss: 2.2571\n",
      "[28,   600] loss: 2.2474\n",
      "[28,   700] loss: 2.2558\n",
      "[28,   800] loss: 2.2552\n",
      "[28,   900] loss: 2.2570\n",
      "[28,  1000] loss: 2.2448\n",
      "[28,  1100] loss: 2.2529\n",
      "[28,  1200] loss: 2.2447\n",
      "[28,  1300] loss: 2.2533\n",
      "[28,  1400] loss: 2.2452\n",
      "[28,  1500] loss: 2.2445\n",
      "[28,  1600] loss: 2.2455\n",
      "[28,  1700] loss: 2.2480\n",
      "[28,  1800] loss: 2.2466\n",
      "[29,   100] loss: 2.2449\n",
      "[29,   200] loss: 2.2467\n",
      "[29,   300] loss: 2.2456\n",
      "[29,   400] loss: 2.2384\n",
      "[29,   500] loss: 2.2473\n",
      "[29,   600] loss: 2.2406\n",
      "[29,   700] loss: 2.2474\n",
      "[29,   800] loss: 2.2501\n",
      "[29,   900] loss: 2.2526\n",
      "[29,  1000] loss: 2.2427\n",
      "[29,  1100] loss: 2.2496\n",
      "[29,  1200] loss: 2.2437\n",
      "[29,  1300] loss: 2.2492\n",
      "[29,  1400] loss: 2.2415\n",
      "[29,  1500] loss: 2.2398\n",
      "[29,  1600] loss: 2.2431\n",
      "[29,  1700] loss: 2.2465\n",
      "[29,  1800] loss: 2.2451\n",
      "[30,   100] loss: 2.2431\n",
      "[30,   200] loss: 2.2433\n",
      "[30,   300] loss: 2.2466\n",
      "[30,   400] loss: 2.2379\n",
      "[30,   500] loss: 2.2451\n",
      "[30,   600] loss: 2.2396\n",
      "[30,   700] loss: 2.2480\n",
      "[30,   800] loss: 2.2490\n",
      "[30,   900] loss: 2.2510\n",
      "[30,  1000] loss: 2.2410\n",
      "[30,  1100] loss: 2.2482\n",
      "[30,  1200] loss: 2.2389\n",
      "[30,  1300] loss: 2.2511\n",
      "[30,  1400] loss: 2.2395\n",
      "[30,  1500] loss: 2.2393\n",
      "[30,  1600] loss: 2.2400\n",
      "[30,  1700] loss: 2.2435\n",
      "[30,  1800] loss: 2.2428\n"
     ]
    }
   ],
   "source": [
    "my_nn_with_drop_lr_big, running_loss_values_my_nn_with_drop_lr_big = train_fun(\n",
    "    num_of_epochs=num_of_epochs,\n",
    "    data_set_class = AgmnTrainDataset,\n",
    "    nn_class = My_NN_With_Drop,\n",
    "    learning_rate = 0.01\n",
    ")"
   ]
  },
  {
   "cell_type": "markdown",
   "metadata": {
    "colab_type": "text",
    "id": "JZo9Xtc0Z_52"
   },
   "source": [
    "##### lr small"
   ]
  },
  {
   "cell_type": "code",
   "execution_count": null,
   "metadata": {
    "colab": {
     "base_uri": "https://localhost:8080/",
     "height": 1000
    },
    "colab_type": "code",
    "id": "pq6xxFSrzzRT",
    "outputId": "684af69c-bad1-451e-b0d5-2d53f2ec517f"
   },
   "outputs": [
    {
     "name": "stdout",
     "output_type": "stream",
     "text": [
      "[1,   100] loss: 2.5114\n",
      "[1,   200] loss: 2.2770\n",
      "[1,   300] loss: 2.2201\n",
      "[1,   400] loss: 2.1277\n",
      "[1,   500] loss: 1.9848\n",
      "[1,   600] loss: 1.8368\n",
      "[1,   700] loss: 1.7331\n",
      "[1,   800] loss: 1.6733\n",
      "[1,   900] loss: 1.6394\n",
      "[1,  1000] loss: 1.5994\n",
      "[1,  1100] loss: 1.5948\n",
      "[1,  1200] loss: 1.5842\n",
      "[1,  1300] loss: 1.5816\n",
      "[1,  1400] loss: 1.5703\n",
      "[1,  1500] loss: 1.5444\n",
      "[1,  1600] loss: 1.5420\n",
      "[1,  1700] loss: 1.4822\n",
      "[1,  1800] loss: 1.5172\n",
      "[2,   100] loss: 1.5134\n",
      "[2,   200] loss: 1.4481\n",
      "[2,   300] loss: 1.4848\n",
      "[2,   400] loss: 1.4863\n",
      "[2,   500] loss: 1.5077\n",
      "[2,   600] loss: 1.4634\n",
      "[2,   700] loss: 1.4591\n",
      "[2,   800] loss: 1.4595\n",
      "[2,   900] loss: 1.4717\n",
      "[2,  1000] loss: 1.4439\n",
      "[2,  1100] loss: 1.4653\n",
      "[2,  1200] loss: 1.4683\n",
      "[2,  1300] loss: 1.4716\n",
      "[2,  1400] loss: 1.4720\n",
      "[2,  1500] loss: 1.4600\n",
      "[2,  1600] loss: 1.4699\n",
      "[2,  1700] loss: 1.4082\n",
      "[2,  1800] loss: 1.4506\n",
      "[3,   100] loss: 1.4413\n",
      "[3,   200] loss: 1.3781\n",
      "[3,   300] loss: 1.4321\n",
      "[3,   400] loss: 1.4279\n",
      "[3,   500] loss: 1.4559\n",
      "[3,   600] loss: 1.4127\n",
      "[3,   700] loss: 1.4156\n",
      "[3,   800] loss: 1.4139\n",
      "[3,   900] loss: 1.4245\n",
      "[3,  1000] loss: 1.4008\n",
      "[3,  1100] loss: 1.4273\n",
      "[3,  1200] loss: 1.4238\n",
      "[3,  1300] loss: 1.4311\n",
      "[3,  1400] loss: 1.4410\n",
      "[3,  1500] loss: 1.4262\n",
      "[3,  1600] loss: 1.4397\n",
      "[3,  1700] loss: 1.3727\n",
      "[3,  1800] loss: 1.4154\n",
      "[4,   100] loss: 1.4099\n",
      "[4,   200] loss: 1.3398\n",
      "[4,   300] loss: 1.3967\n",
      "[4,   400] loss: 1.3958\n",
      "[4,   500] loss: 1.4255\n",
      "[4,   600] loss: 1.3822\n",
      "[4,   700] loss: 1.3807\n",
      "[4,   800] loss: 1.3723\n",
      "[4,   900] loss: 1.3972\n",
      "[4,  1000] loss: 1.3721\n",
      "[4,  1100] loss: 1.3930\n",
      "[4,  1200] loss: 1.3991\n",
      "[4,  1300] loss: 1.4083\n",
      "[4,  1400] loss: 1.4110\n",
      "[4,  1500] loss: 1.4005\n",
      "[4,  1600] loss: 1.4133\n",
      "[4,  1700] loss: 1.3504\n",
      "[4,  1800] loss: 1.3880\n",
      "[5,   100] loss: 1.3766\n",
      "[5,   200] loss: 1.3186\n",
      "[5,   300] loss: 1.3714\n",
      "[5,   400] loss: 1.3718\n",
      "[5,   500] loss: 1.3924\n",
      "[5,   600] loss: 1.3609\n",
      "[5,   700] loss: 1.3478\n",
      "[5,   800] loss: 1.3358\n",
      "[5,   900] loss: 1.3765\n",
      "[5,  1000] loss: 1.3534\n",
      "[5,  1100] loss: 1.3754\n",
      "[5,  1200] loss: 1.3731\n",
      "[5,  1300] loss: 1.3728\n",
      "[5,  1400] loss: 1.3966\n",
      "[5,  1500] loss: 1.3593\n",
      "[5,  1600] loss: 1.3927\n",
      "[5,  1700] loss: 1.3244\n",
      "[5,  1800] loss: 1.3576\n",
      "[6,   100] loss: 1.3482\n",
      "[6,   200] loss: 1.2872\n",
      "[6,   300] loss: 1.3351\n",
      "[6,   400] loss: 1.3407\n",
      "[6,   500] loss: 1.3638\n",
      "[6,   600] loss: 1.3249\n",
      "[6,   700] loss: 1.3175\n",
      "[6,   800] loss: 1.3098\n",
      "[6,   900] loss: 1.3478\n",
      "[6,  1000] loss: 1.3141\n",
      "[6,  1100] loss: 1.3303\n",
      "[6,  1200] loss: 1.3368\n",
      "[6,  1300] loss: 1.3303\n",
      "[6,  1400] loss: 1.3547\n",
      "[6,  1500] loss: 1.3294\n",
      "[6,  1600] loss: 1.3471\n",
      "[6,  1700] loss: 1.2866\n",
      "[6,  1800] loss: 1.3116\n",
      "[7,   100] loss: 1.3030\n",
      "[7,   200] loss: 1.2429\n",
      "[7,   300] loss: 1.2840\n",
      "[7,   400] loss: 1.2842\n",
      "[7,   500] loss: 1.3132\n",
      "[7,   600] loss: 1.2686\n",
      "[7,   700] loss: 1.2713\n",
      "[7,   800] loss: 1.2513\n",
      "[7,   900] loss: 1.2884\n",
      "[7,  1000] loss: 1.2509\n",
      "[7,  1100] loss: 1.2725\n",
      "[7,  1200] loss: 1.2688\n",
      "[7,  1300] loss: 1.2667\n",
      "[7,  1400] loss: 1.2808\n",
      "[7,  1500] loss: 1.2458\n",
      "[7,  1600] loss: 1.2646\n",
      "[7,  1700] loss: 1.2129\n",
      "[7,  1800] loss: 1.2380\n",
      "[8,   100] loss: 1.2225\n",
      "[8,   200] loss: 1.1677\n",
      "[8,   300] loss: 1.1811\n",
      "[8,   400] loss: 1.1996\n",
      "[8,   500] loss: 1.2248\n",
      "[8,   600] loss: 1.1674\n",
      "[8,   700] loss: 1.1695\n",
      "[8,   800] loss: 1.1549\n",
      "[8,   900] loss: 1.1981\n",
      "[8,  1000] loss: 1.1556\n",
      "[8,  1100] loss: 1.1789\n",
      "[8,  1200] loss: 1.1757\n",
      "[8,  1300] loss: 1.1525\n",
      "[8,  1400] loss: 1.2024\n",
      "[8,  1500] loss: 1.1585\n",
      "[8,  1600] loss: 1.1711\n",
      "[8,  1700] loss: 1.1102\n",
      "[8,  1800] loss: 1.1576\n",
      "[9,   100] loss: 1.1436\n",
      "[9,   200] loss: 1.0907\n",
      "[9,   300] loss: 1.1049\n",
      "[9,   400] loss: 1.1238\n",
      "[9,   500] loss: 1.1522\n",
      "[9,   600] loss: 1.1010\n",
      "[9,   700] loss: 1.1065\n",
      "[9,   800] loss: 1.0974\n",
      "[9,   900] loss: 1.1152\n",
      "[9,  1000] loss: 1.0930\n",
      "[9,  1100] loss: 1.1174\n",
      "[9,  1200] loss: 1.1081\n",
      "[9,  1300] loss: 1.0981\n",
      "[9,  1400] loss: 1.1251\n",
      "[9,  1500] loss: 1.1000\n",
      "[9,  1600] loss: 1.1071\n",
      "[9,  1700] loss: 1.0601\n",
      "[9,  1800] loss: 1.0959\n",
      "[10,   100] loss: 1.0855\n",
      "[10,   200] loss: 1.0414\n",
      "[10,   300] loss: 1.0545\n",
      "[10,   400] loss: 1.0633\n",
      "[10,   500] loss: 1.0975\n",
      "[10,   600] loss: 1.0502\n",
      "[10,   700] loss: 1.0609\n",
      "[10,   800] loss: 1.0443\n",
      "[10,   900] loss: 1.0696\n",
      "[10,  1000] loss: 1.0303\n",
      "[10,  1100] loss: 1.0677\n",
      "[10,  1200] loss: 1.0531\n",
      "[10,  1300] loss: 1.0566\n",
      "[10,  1400] loss: 1.0914\n",
      "[10,  1500] loss: 1.0687\n",
      "[10,  1600] loss: 1.0581\n",
      "[10,  1700] loss: 1.0204\n",
      "[10,  1800] loss: 1.0512\n",
      "[11,   100] loss: 1.0550\n",
      "[11,   200] loss: 1.0158\n",
      "[11,   300] loss: 1.0238\n",
      "[11,   400] loss: 1.0304\n",
      "[11,   500] loss: 1.0530\n",
      "[11,   600] loss: 1.0184\n",
      "[11,   700] loss: 1.0228\n",
      "[11,   800] loss: 0.9985\n",
      "[11,   900] loss: 1.0349\n",
      "[11,  1000] loss: 0.9906\n",
      "[11,  1100] loss: 1.0369\n",
      "[11,  1200] loss: 1.0273\n",
      "[11,  1300] loss: 1.0106\n",
      "[11,  1400] loss: 1.0603\n",
      "[11,  1500] loss: 1.0245\n",
      "[11,  1600] loss: 1.0158\n",
      "[11,  1700] loss: 0.9984\n",
      "[11,  1800] loss: 1.0375\n",
      "[12,   100] loss: 1.0156\n",
      "[12,   200] loss: 0.9714\n",
      "[12,   300] loss: 0.9986\n",
      "[12,   400] loss: 0.9979\n",
      "[12,   500] loss: 1.0213\n",
      "[12,   600] loss: 0.9941\n",
      "[12,   700] loss: 0.9952\n",
      "[12,   800] loss: 0.9743\n",
      "[12,   900] loss: 1.0149\n",
      "[12,  1000] loss: 0.9743\n",
      "[12,  1100] loss: 1.0087\n",
      "[12,  1200] loss: 1.0098\n",
      "[12,  1300] loss: 0.9830\n",
      "[12,  1400] loss: 1.0279\n",
      "[12,  1500] loss: 0.9984\n",
      "[12,  1600] loss: 0.9973\n",
      "[12,  1700] loss: 0.9626\n",
      "[12,  1800] loss: 1.0026\n",
      "[13,   100] loss: 1.0000\n",
      "[13,   200] loss: 0.9640\n",
      "[13,   300] loss: 0.9532\n",
      "[13,   400] loss: 0.9880\n",
      "[13,   500] loss: 1.0236\n",
      "[13,   600] loss: 0.9834\n",
      "[13,   700] loss: 0.9573\n",
      "[13,   800] loss: 0.9655\n",
      "[13,   900] loss: 0.9993\n",
      "[13,  1000] loss: 0.9533\n",
      "[13,  1100] loss: 0.9904\n",
      "[13,  1200] loss: 0.9824\n",
      "[13,  1300] loss: 0.9864\n",
      "[13,  1400] loss: 0.9962\n",
      "[13,  1500] loss: 0.9843\n",
      "[13,  1600] loss: 0.9886\n",
      "[13,  1700] loss: 0.9507\n",
      "[13,  1800] loss: 0.9777\n",
      "[14,   100] loss: 0.9952\n",
      "[14,   200] loss: 0.9367\n",
      "[14,   300] loss: 0.9512\n",
      "[14,   400] loss: 0.9637\n",
      "[14,   500] loss: 1.0013\n",
      "[14,   600] loss: 0.9474\n",
      "[14,   700] loss: 0.9430\n",
      "[14,   800] loss: 0.9396\n",
      "[14,   900] loss: 0.9689\n",
      "[14,  1000] loss: 0.9337\n",
      "[14,  1100] loss: 0.9727\n",
      "[14,  1200] loss: 0.9705\n",
      "[14,  1300] loss: 0.9566\n",
      "[14,  1400] loss: 0.9919\n",
      "[14,  1500] loss: 0.9635\n",
      "[14,  1600] loss: 0.9574\n",
      "[14,  1700] loss: 0.9181\n",
      "[14,  1800] loss: 0.9682\n",
      "[15,   100] loss: 0.9786\n",
      "[15,   200] loss: 0.9242\n",
      "[15,   300] loss: 0.9297\n",
      "[15,   400] loss: 0.9452\n",
      "[15,   500] loss: 0.9681\n",
      "[15,   600] loss: 0.9326\n",
      "[15,   700] loss: 0.9280\n",
      "[15,   800] loss: 0.9226\n",
      "[15,   900] loss: 0.9511\n",
      "[15,  1000] loss: 0.9246\n",
      "[15,  1100] loss: 0.9591\n",
      "[15,  1200] loss: 0.9481\n",
      "[15,  1300] loss: 0.9457\n",
      "[15,  1400] loss: 0.9899\n",
      "[15,  1500] loss: 0.9445\n",
      "[15,  1600] loss: 0.9421\n",
      "[15,  1700] loss: 0.9092\n",
      "[15,  1800] loss: 0.9546\n",
      "[16,   100] loss: 0.9506\n",
      "[16,   200] loss: 0.8996\n",
      "[16,   300] loss: 0.9230\n",
      "[16,   400] loss: 0.9309\n",
      "[16,   500] loss: 0.9627\n",
      "[16,   600] loss: 0.9194\n",
      "[16,   700] loss: 0.9122\n",
      "[16,   800] loss: 0.9056\n",
      "[16,   900] loss: 0.9366\n",
      "[16,  1000] loss: 0.9125\n",
      "[16,  1100] loss: 0.9441\n",
      "[16,  1200] loss: 0.9322\n",
      "[16,  1300] loss: 0.9278\n",
      "[16,  1400] loss: 0.9578\n",
      "[16,  1500] loss: 0.9380\n",
      "[16,  1600] loss: 0.9399\n",
      "[16,  1700] loss: 0.8901\n",
      "[16,  1800] loss: 0.9391\n",
      "[17,   100] loss: 0.9538\n",
      "[17,   200] loss: 0.8971\n",
      "[17,   300] loss: 0.9007\n",
      "[17,   400] loss: 0.9339\n",
      "[17,   500] loss: 0.9392\n",
      "[17,   600] loss: 0.9005\n",
      "[17,   700] loss: 0.9018\n",
      "[17,   800] loss: 0.8959\n",
      "[17,   900] loss: 0.9173\n",
      "[17,  1000] loss: 0.8934\n",
      "[17,  1100] loss: 0.9304\n",
      "[17,  1200] loss: 0.9150\n",
      "[17,  1300] loss: 0.9112\n",
      "[17,  1400] loss: 0.9500\n",
      "[17,  1500] loss: 0.9162\n",
      "[17,  1600] loss: 0.9195\n",
      "[17,  1700] loss: 0.8858\n",
      "[17,  1800] loss: 0.9173\n",
      "[18,   100] loss: 0.9302\n",
      "[18,   200] loss: 0.8769\n",
      "[18,   300] loss: 0.8988\n",
      "[18,   400] loss: 0.9109\n",
      "[18,   500] loss: 0.9315\n",
      "[18,   600] loss: 0.8868\n",
      "[18,   700] loss: 0.8873\n",
      "[18,   800] loss: 0.8909\n",
      "[18,   900] loss: 0.9026\n",
      "[18,  1000] loss: 0.8808\n",
      "[18,  1100] loss: 0.9215\n",
      "[18,  1200] loss: 0.9191\n",
      "[18,  1300] loss: 0.8990\n",
      "[18,  1400] loss: 0.9339\n",
      "[18,  1500] loss: 0.8970\n",
      "[18,  1600] loss: 0.9180\n",
      "[18,  1700] loss: 0.8718\n",
      "[18,  1800] loss: 0.9103\n",
      "[19,   100] loss: 0.9189\n",
      "[19,   200] loss: 0.8715\n",
      "[19,   300] loss: 0.8772\n",
      "[19,   400] loss: 0.9043\n",
      "[19,   500] loss: 0.9180\n",
      "[19,   600] loss: 0.8758\n",
      "[19,   700] loss: 0.8756\n",
      "[19,   800] loss: 0.8818\n",
      "[19,   900] loss: 0.8996\n",
      "[19,  1000] loss: 0.8789\n",
      "[19,  1100] loss: 0.9034\n",
      "[19,  1200] loss: 0.8984\n",
      "[19,  1300] loss: 0.8897\n",
      "[19,  1400] loss: 0.9349\n",
      "[19,  1500] loss: 0.8909\n",
      "[19,  1600] loss: 0.8965\n",
      "[19,  1700] loss: 0.8639\n",
      "[19,  1800] loss: 0.8947\n",
      "[20,   100] loss: 0.8968\n",
      "[20,   200] loss: 0.8704\n",
      "[20,   300] loss: 0.8726\n",
      "[20,   400] loss: 0.8885\n",
      "[20,   500] loss: 0.9129\n",
      "[20,   600] loss: 0.8638\n",
      "[20,   700] loss: 0.8554\n",
      "[20,   800] loss: 0.8660\n",
      "[20,   900] loss: 0.8835\n",
      "[20,  1000] loss: 0.8689\n",
      "[20,  1100] loss: 0.9025\n",
      "[20,  1200] loss: 0.8886\n",
      "[20,  1300] loss: 0.8732\n",
      "[20,  1400] loss: 0.9084\n",
      "[20,  1500] loss: 0.8776\n",
      "[20,  1600] loss: 0.8942\n",
      "[20,  1700] loss: 0.8637\n",
      "[20,  1800] loss: 0.8836\n",
      "[21,   100] loss: 0.8996\n",
      "[21,   200] loss: 0.8480\n",
      "[21,   300] loss: 0.8596\n",
      "[21,   400] loss: 0.8764\n",
      "[21,   500] loss: 0.8946\n",
      "[21,   600] loss: 0.8520\n",
      "[21,   700] loss: 0.8466\n",
      "[21,   800] loss: 0.8550\n",
      "[21,   900] loss: 0.8733\n",
      "[21,  1000] loss: 0.8477\n",
      "[21,  1100] loss: 0.8966\n",
      "[21,  1200] loss: 0.8769\n",
      "[21,  1300] loss: 0.8554\n",
      "[21,  1400] loss: 0.9027\n",
      "[21,  1500] loss: 0.8701\n",
      "[21,  1600] loss: 0.8889\n",
      "[21,  1700] loss: 0.8563\n",
      "[21,  1800] loss: 0.8790\n",
      "[22,   100] loss: 0.8891\n",
      "[22,   200] loss: 0.8367\n",
      "[22,   300] loss: 0.8556\n",
      "[22,   400] loss: 0.8717\n",
      "[22,   500] loss: 0.8885\n",
      "[22,   600] loss: 0.8459\n",
      "[22,   700] loss: 0.8495\n",
      "[22,   800] loss: 0.8459\n",
      "[22,   900] loss: 0.8667\n",
      "[22,  1000] loss: 0.8546\n",
      "[22,  1100] loss: 0.8732\n",
      "[22,  1200] loss: 0.8607\n",
      "[22,  1300] loss: 0.8519\n",
      "[22,  1400] loss: 0.8860\n",
      "[22,  1500] loss: 0.8639\n",
      "[22,  1600] loss: 0.8745\n",
      "[22,  1700] loss: 0.8387\n",
      "[22,  1800] loss: 0.8740\n",
      "[23,   100] loss: 0.8793\n",
      "[23,   200] loss: 0.8451\n",
      "[23,   300] loss: 0.8399\n",
      "[23,   400] loss: 0.8637\n",
      "[23,   500] loss: 0.8884\n",
      "[23,   600] loss: 0.8297\n",
      "[23,   700] loss: 0.8327\n",
      "[23,   800] loss: 0.8346\n",
      "[23,   900] loss: 0.8532\n",
      "[23,  1000] loss: 0.8406\n",
      "[23,  1100] loss: 0.8741\n",
      "[23,  1200] loss: 0.8620\n",
      "[23,  1300] loss: 0.8582\n",
      "[23,  1400] loss: 0.8766\n",
      "[23,  1500] loss: 0.8481\n",
      "[23,  1600] loss: 0.8620\n",
      "[23,  1700] loss: 0.8335\n",
      "[23,  1800] loss: 0.8563\n",
      "[24,   100] loss: 0.8720\n",
      "[24,   200] loss: 0.8313\n",
      "[24,   300] loss: 0.8254\n",
      "[24,   400] loss: 0.8503\n",
      "[24,   500] loss: 0.8776\n",
      "[24,   600] loss: 0.8364\n",
      "[24,   700] loss: 0.8162\n",
      "[24,   800] loss: 0.8313\n",
      "[24,   900] loss: 0.8411\n",
      "[24,  1000] loss: 0.8309\n",
      "[24,  1100] loss: 0.8584\n",
      "[24,  1200] loss: 0.8495\n",
      "[24,  1300] loss: 0.8390\n",
      "[24,  1400] loss: 0.8824\n",
      "[24,  1500] loss: 0.8574\n",
      "[24,  1600] loss: 0.8591\n",
      "[24,  1700] loss: 0.8228\n",
      "[24,  1800] loss: 0.8358\n",
      "[25,   100] loss: 0.8584\n",
      "[25,   200] loss: 0.8248\n",
      "[25,   300] loss: 0.8175\n",
      "[25,   400] loss: 0.8462\n",
      "[25,   500] loss: 0.8522\n",
      "[25,   600] loss: 0.8084\n",
      "[25,   700] loss: 0.8103\n",
      "[25,   800] loss: 0.8347\n",
      "[25,   900] loss: 0.8339\n",
      "[25,  1000] loss: 0.8156\n",
      "[25,  1100] loss: 0.8566\n",
      "[25,  1200] loss: 0.8528\n",
      "[25,  1300] loss: 0.8199\n",
      "[25,  1400] loss: 0.8689\n",
      "[25,  1500] loss: 0.8381\n",
      "[25,  1600] loss: 0.8525\n",
      "[25,  1700] loss: 0.8177\n",
      "[25,  1800] loss: 0.8415\n",
      "[26,   100] loss: 0.8562\n",
      "[26,   200] loss: 0.8152\n",
      "[26,   300] loss: 0.8168\n",
      "[26,   400] loss: 0.8372\n",
      "[26,   500] loss: 0.8723\n",
      "[26,   600] loss: 0.8140\n",
      "[26,   700] loss: 0.8147\n",
      "[26,   800] loss: 0.8205\n",
      "[26,   900] loss: 0.8326\n",
      "[26,  1000] loss: 0.8100\n",
      "[26,  1100] loss: 0.8300\n",
      "[26,  1200] loss: 0.8309\n",
      "[26,  1300] loss: 0.8237\n",
      "[26,  1400] loss: 0.8652\n",
      "[26,  1500] loss: 0.8330\n",
      "[26,  1600] loss: 0.8449\n",
      "[26,  1700] loss: 0.8095\n",
      "[26,  1800] loss: 0.8465\n",
      "[27,   100] loss: 0.8492\n",
      "[27,   200] loss: 0.8006\n",
      "[27,   300] loss: 0.8021\n",
      "[27,   400] loss: 0.8429\n",
      "[27,   500] loss: 0.8544\n",
      "[27,   600] loss: 0.8110\n",
      "[27,   700] loss: 0.8151\n",
      "[27,   800] loss: 0.8170\n",
      "[27,   900] loss: 0.8224\n",
      "[27,  1000] loss: 0.8035\n",
      "[27,  1100] loss: 0.8482\n",
      "[27,  1200] loss: 0.8401\n",
      "[27,  1300] loss: 0.8218\n",
      "[27,  1400] loss: 0.8559\n",
      "[27,  1500] loss: 0.8266\n",
      "[27,  1600] loss: 0.8302\n",
      "[27,  1700] loss: 0.8005\n",
      "[27,  1800] loss: 0.8239\n",
      "[28,   100] loss: 0.8453\n",
      "[28,   200] loss: 0.7978\n",
      "[28,   300] loss: 0.8102\n",
      "[28,   400] loss: 0.8276\n",
      "[28,   500] loss: 0.8476\n",
      "[28,   600] loss: 0.8043\n",
      "[28,   700] loss: 0.8026\n",
      "[28,   800] loss: 0.8118\n",
      "[28,   900] loss: 0.8217\n",
      "[28,  1000] loss: 0.7900\n",
      "[28,  1100] loss: 0.8335\n",
      "[28,  1200] loss: 0.8249\n",
      "[28,  1300] loss: 0.8037\n",
      "[28,  1400] loss: 0.8514\n",
      "[28,  1500] loss: 0.8195\n",
      "[28,  1600] loss: 0.8330\n",
      "[28,  1700] loss: 0.8049\n",
      "[28,  1800] loss: 0.8167\n",
      "[29,   100] loss: 0.8431\n",
      "[29,   200] loss: 0.8055\n",
      "[29,   300] loss: 0.7895\n",
      "[29,   400] loss: 0.8296\n",
      "[29,   500] loss: 0.8339\n",
      "[29,   600] loss: 0.7920\n",
      "[29,   700] loss: 0.7976\n",
      "[29,   800] loss: 0.7969\n",
      "[29,   900] loss: 0.8044\n",
      "[29,  1000] loss: 0.7877\n",
      "[29,  1100] loss: 0.8311\n",
      "[29,  1200] loss: 0.8241\n",
      "[29,  1300] loss: 0.8012\n",
      "[29,  1400] loss: 0.8453\n",
      "[29,  1500] loss: 0.8227\n",
      "[29,  1600] loss: 0.8202\n",
      "[29,  1700] loss: 0.7942\n",
      "[29,  1800] loss: 0.8076\n",
      "[30,   100] loss: 0.8231\n",
      "[30,   200] loss: 0.7870\n",
      "[30,   300] loss: 0.7816\n",
      "[30,   400] loss: 0.8220\n",
      "[30,   500] loss: 0.8310\n",
      "[30,   600] loss: 0.7914\n",
      "[30,   700] loss: 0.7916\n",
      "[30,   800] loss: 0.7927\n",
      "[30,   900] loss: 0.8005\n",
      "[30,  1000] loss: 0.7872\n",
      "[30,  1100] loss: 0.8317\n",
      "[30,  1200] loss: 0.8024\n",
      "[30,  1300] loss: 0.7969\n",
      "[30,  1400] loss: 0.8412\n",
      "[30,  1500] loss: 0.8236\n",
      "[30,  1600] loss: 0.8188\n",
      "[30,  1700] loss: 0.7942\n",
      "[30,  1800] loss: 0.8089\n"
     ]
    }
   ],
   "source": [
    "my_nn_with_drop_lr_small, running_loss_values_my_nn_with_drop_lr_small = train_fun(\n",
    "    num_of_epochs=num_of_epochs,\n",
    "    data_set_class = AgmnTrainDataset,\n",
    "    nn_class = My_NN_With_Drop,\n",
    "    learning_rate = 0.0001\n",
    ")"
   ]
  },
  {
   "cell_type": "markdown",
   "metadata": {
    "colab_type": "text",
    "id": "pYm0gDeHaGNy"
   },
   "source": [
    "##### lr medium"
   ]
  },
  {
   "cell_type": "code",
   "execution_count": null,
   "metadata": {
    "colab": {
     "base_uri": "https://localhost:8080/",
     "height": 1000
    },
    "colab_type": "code",
    "id": "nqm59o20NxO8",
    "outputId": "a56405e3-1d7e-49a7-ebda-933e8b820ec6"
   },
   "outputs": [
    {
     "name": "stdout",
     "output_type": "stream",
     "text": [
      "[1,   100] loss: 2.4578\n",
      "[1,   200] loss: 2.0964\n",
      "[1,   300] loss: 1.8241\n",
      "[1,   400] loss: 1.6773\n",
      "[1,   500] loss: 1.5885\n",
      "[1,   600] loss: 1.5440\n",
      "[1,   700] loss: 1.5066\n",
      "[1,   800] loss: 1.5102\n",
      "[1,   900] loss: 1.5111\n",
      "[1,  1000] loss: 1.4787\n",
      "[1,  1100] loss: 1.4668\n",
      "[1,  1200] loss: 1.4323\n",
      "[1,  1300] loss: 1.4119\n",
      "[1,  1400] loss: 1.3897\n",
      "[1,  1500] loss: 1.3985\n",
      "[1,  1600] loss: 1.3076\n",
      "[1,  1700] loss: 1.2887\n",
      "[1,  1800] loss: 1.2915\n",
      "[2,   100] loss: 1.1817\n",
      "[2,   200] loss: 1.1902\n",
      "[2,   300] loss: 1.1872\n",
      "[2,   400] loss: 1.1544\n",
      "[2,   500] loss: 1.1087\n",
      "[2,   600] loss: 1.0907\n",
      "[2,   700] loss: 1.0549\n",
      "[2,   800] loss: 1.0894\n",
      "[2,   900] loss: 1.0665\n",
      "[2,  1000] loss: 1.0584\n",
      "[2,  1100] loss: 1.0228\n",
      "[2,  1200] loss: 1.0045\n",
      "[2,  1300] loss: 0.9814\n",
      "[2,  1400] loss: 1.0238\n",
      "[2,  1500] loss: 1.1051\n",
      "[2,  1600] loss: 1.0179\n",
      "[2,  1700] loss: 0.9939\n",
      "[2,  1800] loss: 0.9878\n",
      "[3,   100] loss: 0.9207\n",
      "[3,   200] loss: 0.9597\n",
      "[3,   300] loss: 0.9651\n",
      "[3,   400] loss: 0.9548\n",
      "[3,   500] loss: 0.9336\n",
      "[3,   600] loss: 0.9089\n",
      "[3,   700] loss: 0.8916\n",
      "[3,   800] loss: 0.9385\n",
      "[3,   900] loss: 0.9143\n",
      "[3,  1000] loss: 0.9193\n",
      "[3,  1100] loss: 0.8875\n",
      "[3,  1200] loss: 0.8646\n",
      "[3,  1300] loss: 0.8726\n",
      "[3,  1400] loss: 0.9188\n",
      "[3,  1500] loss: 0.9111\n",
      "[3,  1600] loss: 0.8847\n",
      "[3,  1700] loss: 0.9076\n",
      "[3,  1800] loss: 0.8754\n",
      "[4,   100] loss: 0.8261\n",
      "[4,   200] loss: 0.8539\n",
      "[4,   300] loss: 0.8752\n",
      "[4,   400] loss: 0.8782\n",
      "[4,   500] loss: 0.8595\n",
      "[4,   600] loss: 0.8405\n",
      "[4,   700] loss: 0.8249\n",
      "[4,   800] loss: 0.8512\n",
      "[4,   900] loss: 0.8573\n",
      "[4,  1000] loss: 0.8377\n",
      "[4,  1100] loss: 0.8576\n",
      "[4,  1200] loss: 0.8278\n",
      "[4,  1300] loss: 0.8397\n",
      "[4,  1400] loss: 0.8305\n",
      "[4,  1500] loss: 0.8513\n",
      "[4,  1600] loss: 0.8291\n",
      "[4,  1700] loss: 0.8388\n",
      "[4,  1800] loss: 0.8188\n",
      "[5,   100] loss: 0.7731\n",
      "[5,   200] loss: 0.8197\n",
      "[5,   300] loss: 0.8240\n",
      "[5,   400] loss: 0.8297\n",
      "[5,   500] loss: 0.8171\n",
      "[5,   600] loss: 0.8827\n",
      "[5,   700] loss: 0.7877\n",
      "[5,   800] loss: 0.8048\n",
      "[5,   900] loss: 0.7988\n",
      "[5,  1000] loss: 0.8011\n",
      "[5,  1100] loss: 0.7858\n",
      "[5,  1200] loss: 0.7739\n",
      "[5,  1300] loss: 0.7700\n",
      "[5,  1400] loss: 0.7844\n",
      "[5,  1500] loss: 0.8101\n",
      "[5,  1600] loss: 0.7893\n",
      "[5,  1700] loss: 0.8229\n",
      "[5,  1800] loss: 0.7798\n",
      "[6,   100] loss: 0.7414\n",
      "[6,   200] loss: 0.7736\n",
      "[6,   300] loss: 0.7997\n",
      "[6,   400] loss: 0.8028\n",
      "[6,   500] loss: 0.7952\n",
      "[6,   600] loss: 0.7651\n",
      "[6,   700] loss: 0.7436\n",
      "[6,   800] loss: 0.7830\n",
      "[6,   900] loss: 0.7763\n",
      "[6,  1000] loss: 0.7703\n",
      "[6,  1100] loss: 0.7641\n",
      "[6,  1200] loss: 0.7551\n",
      "[6,  1300] loss: 0.7680\n",
      "[6,  1400] loss: 0.7686\n",
      "[6,  1500] loss: 0.7792\n",
      "[6,  1600] loss: 0.7644\n",
      "[6,  1700] loss: 0.7995\n",
      "[6,  1800] loss: 0.7542\n",
      "[7,   100] loss: 0.7410\n",
      "[7,   200] loss: 0.7602\n",
      "[7,   300] loss: 0.7638\n",
      "[7,   400] loss: 0.7726\n",
      "[7,   500] loss: 0.7799\n",
      "[7,   600] loss: 0.7367\n",
      "[7,   700] loss: 0.7140\n",
      "[7,   800] loss: 0.7622\n",
      "[7,   900] loss: 0.7511\n",
      "[7,  1000] loss: 0.7433\n",
      "[7,  1100] loss: 0.7343\n",
      "[7,  1200] loss: 0.7411\n",
      "[7,  1300] loss: 0.7349\n",
      "[7,  1400] loss: 0.7355\n",
      "[7,  1500] loss: 0.7668\n",
      "[7,  1600] loss: 0.7463\n",
      "[7,  1700] loss: 0.7698\n",
      "[7,  1800] loss: 0.7402\n",
      "[8,   100] loss: 0.7151\n",
      "[8,   200] loss: 0.7348\n",
      "[8,   300] loss: 0.7508\n",
      "[8,   400] loss: 0.7772\n",
      "[8,   500] loss: 0.7586\n",
      "[8,   600] loss: 0.8125\n",
      "[8,   700] loss: 0.7436\n",
      "[8,   800] loss: 0.7398\n",
      "[8,   900] loss: 0.7337\n",
      "[8,  1000] loss: 0.7223\n",
      "[8,  1100] loss: 0.7293\n",
      "[8,  1200] loss: 0.7015\n",
      "[8,  1300] loss: 0.7128\n",
      "[8,  1400] loss: 0.7198\n",
      "[8,  1500] loss: 0.7286\n",
      "[8,  1600] loss: 0.7394\n",
      "[8,  1700] loss: 0.7563\n",
      "[8,  1800] loss: 0.7190\n",
      "[9,   100] loss: 0.6998\n",
      "[9,   200] loss: 0.7285\n",
      "[9,   300] loss: 0.7552\n",
      "[9,   400] loss: 0.7512\n",
      "[9,   500] loss: 0.7269\n",
      "[9,   600] loss: 0.7085\n",
      "[9,   700] loss: 0.6899\n",
      "[9,   800] loss: 0.7306\n",
      "[9,   900] loss: 0.7203\n",
      "[9,  1000] loss: 0.7003\n",
      "[9,  1100] loss: 0.7199\n",
      "[9,  1200] loss: 0.6908\n",
      "[9,  1300] loss: 0.7057\n",
      "[9,  1400] loss: 0.7041\n",
      "[9,  1500] loss: 0.7661\n",
      "[9,  1600] loss: 0.7221\n",
      "[9,  1700] loss: 0.7427\n",
      "[9,  1800] loss: 0.7140\n",
      "[10,   100] loss: 0.6967\n",
      "[10,   200] loss: 0.7034\n",
      "[10,   300] loss: 0.7439\n",
      "[10,   400] loss: 0.7387\n",
      "[10,   500] loss: 0.7155\n",
      "[10,   600] loss: 0.6875\n",
      "[10,   700] loss: 0.6708\n",
      "[10,   800] loss: 0.7186\n",
      "[10,   900] loss: 0.7233\n",
      "[10,  1000] loss: 0.6996\n",
      "[10,  1100] loss: 0.7144\n",
      "[10,  1200] loss: 0.6834\n",
      "[10,  1300] loss: 0.6859\n",
      "[10,  1400] loss: 0.6944\n",
      "[10,  1500] loss: 0.7203\n",
      "[10,  1600] loss: 0.7077\n",
      "[10,  1700] loss: 0.7321\n",
      "[10,  1800] loss: 0.6995\n",
      "[11,   100] loss: 0.6663\n",
      "[11,   200] loss: 0.6923\n",
      "[11,   300] loss: 0.7105\n",
      "[11,   400] loss: 0.7181\n",
      "[11,   500] loss: 0.7074\n",
      "[11,   600] loss: 0.6917\n",
      "[11,   700] loss: 0.6673\n",
      "[11,   800] loss: 0.7193\n",
      "[11,   900] loss: 0.7198\n",
      "[11,  1000] loss: 0.6815\n",
      "[11,  1100] loss: 0.6792\n",
      "[11,  1200] loss: 0.6672\n",
      "[11,  1300] loss: 0.6659\n",
      "[11,  1400] loss: 0.6988\n",
      "[11,  1500] loss: 0.7461\n",
      "[11,  1600] loss: 0.7108\n",
      "[11,  1700] loss: 0.7073\n",
      "[11,  1800] loss: 0.6935\n",
      "[12,   100] loss: 0.6626\n",
      "[12,   200] loss: 0.6747\n",
      "[12,   300] loss: 0.6865\n",
      "[12,   400] loss: 0.7153\n",
      "[12,   500] loss: 0.6983\n",
      "[12,   600] loss: 0.6690\n",
      "[12,   700] loss: 0.6509\n",
      "[12,   800] loss: 0.7100\n",
      "[12,   900] loss: 0.6939\n",
      "[12,  1000] loss: 0.6721\n",
      "[12,  1100] loss: 0.6682\n",
      "[12,  1200] loss: 0.6465\n",
      "[12,  1300] loss: 0.6506\n",
      "[12,  1400] loss: 0.9600\n",
      "[12,  1500] loss: 0.8071\n",
      "[12,  1600] loss: 0.7065\n",
      "[12,  1700] loss: 0.7264\n",
      "[12,  1800] loss: 0.6811\n",
      "[13,   100] loss: 0.6515\n",
      "[13,   200] loss: 0.6643\n",
      "[13,   300] loss: 0.6722\n",
      "[13,   400] loss: 0.6936\n",
      "[13,   500] loss: 0.6918\n",
      "[13,   600] loss: 0.6613\n",
      "[13,   700] loss: 0.6429\n",
      "[13,   800] loss: 0.6832\n",
      "[13,   900] loss: 0.6875\n",
      "[13,  1000] loss: 0.6689\n",
      "[13,  1100] loss: 0.6510\n",
      "[13,  1200] loss: 0.6405\n",
      "[13,  1300] loss: 0.6417\n",
      "[13,  1400] loss: 0.6668\n",
      "[13,  1500] loss: 0.6924\n",
      "[13,  1600] loss: 0.6778\n",
      "[13,  1700] loss: 0.6961\n",
      "[13,  1800] loss: 0.6770\n",
      "[14,   100] loss: 0.6331\n",
      "[14,   200] loss: 0.6588\n",
      "[14,   300] loss: 0.6787\n",
      "[14,   400] loss: 0.6811\n",
      "[14,   500] loss: 0.6739\n",
      "[14,   600] loss: 0.6465\n",
      "[14,   700] loss: 0.6292\n",
      "[14,   800] loss: 0.7083\n",
      "[14,   900] loss: 0.6903\n",
      "[14,  1000] loss: 0.6534\n",
      "[14,  1100] loss: 0.6563\n",
      "[14,  1200] loss: 0.6290\n",
      "[14,  1300] loss: 0.6427\n",
      "[14,  1400] loss: 0.6524\n",
      "[14,  1500] loss: 0.6930\n",
      "[14,  1600] loss: 0.6660\n",
      "[14,  1700] loss: 0.6895\n",
      "[14,  1800] loss: 0.6609\n",
      "[15,   100] loss: 0.6295\n",
      "[15,   200] loss: 0.6448\n",
      "[15,   300] loss: 0.6708\n",
      "[15,   400] loss: 0.6856\n",
      "[15,   500] loss: 0.6577\n",
      "[15,   600] loss: 0.6391\n",
      "[15,   700] loss: 0.6286\n",
      "[15,   800] loss: 0.6788\n",
      "[15,   900] loss: 0.6765\n",
      "[15,  1000] loss: 0.6709\n",
      "[15,  1100] loss: 0.6490\n",
      "[15,  1200] loss: 0.6290\n",
      "[15,  1300] loss: 0.6159\n",
      "[15,  1400] loss: 0.6635\n",
      "[15,  1500] loss: 0.6924\n",
      "[15,  1600] loss: 0.6579\n",
      "[15,  1700] loss: 0.6904\n",
      "[15,  1800] loss: 0.6454\n",
      "[16,   100] loss: 0.6220\n",
      "[16,   200] loss: 0.6560\n",
      "[16,   300] loss: 0.6647\n",
      "[16,   400] loss: 0.6683\n",
      "[16,   500] loss: 0.6734\n",
      "[16,   600] loss: 0.6445\n",
      "[16,   700] loss: 0.6202\n",
      "[16,   800] loss: 0.6635\n",
      "[16,   900] loss: 0.6664\n",
      "[16,  1000] loss: 0.6250\n",
      "[16,  1100] loss: 0.6441\n",
      "[16,  1200] loss: 0.6310\n",
      "[16,  1300] loss: 0.6244\n",
      "[16,  1400] loss: 0.6494\n",
      "[16,  1500] loss: 0.6954\n",
      "[16,  1600] loss: 0.6569\n",
      "[16,  1700] loss: 0.6605\n",
      "[16,  1800] loss: 0.6467\n",
      "[17,   100] loss: 0.6225\n",
      "[17,   200] loss: 0.6588\n",
      "[17,   300] loss: 0.6565\n",
      "[17,   400] loss: 0.6754\n",
      "[17,   500] loss: 0.6451\n",
      "[17,   600] loss: 0.6307\n",
      "[17,   700] loss: 0.6134\n",
      "[17,   800] loss: 0.6594\n",
      "[17,   900] loss: 0.6739\n",
      "[17,  1000] loss: 0.6255\n",
      "[17,  1100] loss: 0.6354\n",
      "[17,  1200] loss: 0.6272\n",
      "[17,  1300] loss: 0.6140\n",
      "[17,  1400] loss: 0.6254\n",
      "[17,  1500] loss: 0.6650\n",
      "[17,  1600] loss: 0.6466\n",
      "[17,  1700] loss: 0.6573\n",
      "[17,  1800] loss: 0.6488\n",
      "[18,   100] loss: 0.6062\n",
      "[18,   200] loss: 0.6171\n",
      "[18,   300] loss: 0.6528\n",
      "[18,   400] loss: 0.6656\n",
      "[18,   500] loss: 0.6416\n",
      "[18,   600] loss: 0.6467\n",
      "[18,   700] loss: 0.6061\n",
      "[18,   800] loss: 0.6677\n",
      "[18,   900] loss: 0.6555\n",
      "[18,  1000] loss: 0.6147\n",
      "[18,  1100] loss: 0.6325\n",
      "[18,  1200] loss: 0.6121\n",
      "[18,  1300] loss: 0.6093\n",
      "[18,  1400] loss: 0.6258\n",
      "[18,  1500] loss: 0.6873\n",
      "[18,  1600] loss: 0.6388\n",
      "[18,  1700] loss: 0.6494\n",
      "[18,  1800] loss: 0.6524\n",
      "[19,   100] loss: 0.6080\n",
      "[19,   200] loss: 0.6329\n",
      "[19,   300] loss: 0.6444\n",
      "[19,   400] loss: 0.6549\n",
      "[19,   500] loss: 0.6314\n",
      "[19,   600] loss: 0.6208\n",
      "[19,   700] loss: 0.6027\n",
      "[19,   800] loss: 0.6497\n",
      "[19,   900] loss: 0.6591\n",
      "[19,  1000] loss: 0.6024\n",
      "[19,  1100] loss: 0.6225\n",
      "[19,  1200] loss: 0.5986\n",
      "[19,  1300] loss: 0.6191\n",
      "[19,  1400] loss: 0.6203\n",
      "[19,  1500] loss: 0.6578\n",
      "[19,  1600] loss: 0.6259\n",
      "[19,  1700] loss: 0.6339\n",
      "[19,  1800] loss: 0.6353\n",
      "[20,   100] loss: 0.6014\n",
      "[20,   200] loss: 0.6119\n",
      "[20,   300] loss: 0.6641\n",
      "[20,   400] loss: 0.6682\n",
      "[20,   500] loss: 0.6279\n",
      "[20,   600] loss: 0.6158\n",
      "[20,   700] loss: 0.6037\n",
      "[20,   800] loss: 0.6390\n",
      "[20,   900] loss: 0.6476\n",
      "[20,  1000] loss: 0.5983\n",
      "[20,  1100] loss: 0.6248\n",
      "[20,  1200] loss: 0.5941\n",
      "[20,  1300] loss: 0.6004\n",
      "[20,  1400] loss: 0.6189\n",
      "[20,  1500] loss: 0.6602\n",
      "[20,  1600] loss: 0.6241\n",
      "[20,  1700] loss: 0.6741\n",
      "[20,  1800] loss: 0.6402\n",
      "[21,   100] loss: 0.5839\n",
      "[21,   200] loss: 0.6120\n",
      "[21,   300] loss: 0.6369\n",
      "[21,   400] loss: 0.6439\n",
      "[21,   500] loss: 0.6309\n",
      "[21,   600] loss: 0.6092\n",
      "[21,   700] loss: 0.5875\n",
      "[21,   800] loss: 0.6375\n",
      "[21,   900] loss: 0.6341\n",
      "[21,  1000] loss: 0.5973\n",
      "[21,  1100] loss: 0.6146\n",
      "[21,  1200] loss: 0.5947\n",
      "[21,  1300] loss: 0.6158\n",
      "[21,  1400] loss: 0.5997\n",
      "[21,  1500] loss: 0.6480\n",
      "[21,  1600] loss: 0.6436\n",
      "[21,  1700] loss: 0.6502\n",
      "[21,  1800] loss: 0.6201\n",
      "[22,   100] loss: 0.5920\n",
      "[22,   200] loss: 0.5976\n",
      "[22,   300] loss: 0.6283\n",
      "[22,   400] loss: 0.6454\n",
      "[22,   500] loss: 0.6110\n",
      "[22,   600] loss: 0.6049\n",
      "[22,   700] loss: 0.5869\n",
      "[22,   800] loss: 0.6384\n",
      "[22,   900] loss: 0.6385\n",
      "[22,  1000] loss: 0.6012\n",
      "[22,  1100] loss: 0.6126\n",
      "[22,  1200] loss: 0.5846\n",
      "[22,  1300] loss: 0.6474\n",
      "[22,  1400] loss: 0.6237\n",
      "[22,  1500] loss: 0.6459\n",
      "[22,  1600] loss: 0.6118\n",
      "[22,  1700] loss: 0.6281\n",
      "[22,  1800] loss: 0.6107\n",
      "[23,   100] loss: 0.5889\n",
      "[23,   200] loss: 0.5975\n",
      "[23,   300] loss: 0.6207\n",
      "[23,   400] loss: 0.6243\n",
      "[23,   500] loss: 0.6193\n",
      "[23,   600] loss: 0.6010\n",
      "[23,   700] loss: 0.5876\n",
      "[23,   800] loss: 0.6443\n",
      "[23,   900] loss: 0.6272\n",
      "[23,  1000] loss: 0.5871\n",
      "[23,  1100] loss: 0.6089\n",
      "[23,  1200] loss: 0.5745\n",
      "[23,  1300] loss: 0.6043\n",
      "[23,  1400] loss: 0.6015\n",
      "[23,  1500] loss: 0.6500\n",
      "[23,  1600] loss: 0.6104\n",
      "[23,  1700] loss: 0.6242\n",
      "[23,  1800] loss: 0.6349\n",
      "[24,   100] loss: 0.5787\n",
      "[24,   200] loss: 0.5912\n",
      "[24,   300] loss: 0.6194\n",
      "[24,   400] loss: 0.6325\n",
      "[24,   500] loss: 0.5978\n",
      "[24,   600] loss: 0.5982\n",
      "[24,   700] loss: 0.5783\n",
      "[24,   800] loss: 0.6246\n",
      "[24,   900] loss: 0.6510\n",
      "[24,  1000] loss: 0.5949\n",
      "[24,  1100] loss: 0.6038\n",
      "[24,  1200] loss: 0.5712\n",
      "[24,  1300] loss: 0.6075\n",
      "[24,  1400] loss: 0.5993\n",
      "[24,  1500] loss: 0.6553\n",
      "[24,  1600] loss: 0.6004\n",
      "[24,  1700] loss: 0.6157\n",
      "[24,  1800] loss: 0.5961\n",
      "[25,   100] loss: 0.5675\n",
      "[25,   200] loss: 0.6268\n",
      "[25,   300] loss: 0.6389\n",
      "[25,   400] loss: 0.6221\n",
      "[25,   500] loss: 0.5910\n",
      "[25,   600] loss: 0.5853\n",
      "[25,   700] loss: 0.5767\n",
      "[25,   800] loss: 0.6194\n",
      "[25,   900] loss: 0.6260\n",
      "[25,  1000] loss: 0.5753\n",
      "[25,  1100] loss: 0.5947\n",
      "[25,  1200] loss: 0.5708\n",
      "[25,  1300] loss: 0.6411\n",
      "[25,  1400] loss: 0.6020\n",
      "[25,  1500] loss: 0.6338\n",
      "[25,  1600] loss: 0.6027\n",
      "[25,  1700] loss: 0.6053\n",
      "[25,  1800] loss: 0.5935\n",
      "[26,   100] loss: 0.5790\n",
      "[26,   200] loss: 0.5834\n",
      "[26,   300] loss: 0.6160\n",
      "[26,   400] loss: 0.6277\n",
      "[26,   500] loss: 0.5977\n",
      "[26,   600] loss: 0.6057\n",
      "[26,   700] loss: 0.5779\n",
      "[26,   800] loss: 0.6299\n",
      "[26,   900] loss: 0.6365\n",
      "[26,  1000] loss: 0.5700\n",
      "[26,  1100] loss: 0.5838\n",
      "[26,  1200] loss: 0.5749\n",
      "[26,  1300] loss: 0.5887\n",
      "[26,  1400] loss: 0.5885\n",
      "[26,  1500] loss: 0.6307\n",
      "[26,  1600] loss: 0.6207\n",
      "[26,  1700] loss: 0.6068\n",
      "[26,  1800] loss: 0.5953\n",
      "[27,   100] loss: 0.5716\n",
      "[27,   200] loss: 0.5742\n",
      "[27,   300] loss: 0.6129\n",
      "[27,   400] loss: 0.6155\n",
      "[27,   500] loss: 0.5857\n",
      "[27,   600] loss: 0.5923\n",
      "[27,   700] loss: 0.5656\n",
      "[27,   800] loss: 0.6281\n",
      "[27,   900] loss: 0.6389\n",
      "[27,  1000] loss: 0.5840\n",
      "[27,  1100] loss: 0.5889\n",
      "[27,  1200] loss: 0.5624\n",
      "[27,  1300] loss: 0.5788\n",
      "[27,  1400] loss: 0.6419\n",
      "[27,  1500] loss: 0.6299\n",
      "[27,  1600] loss: 0.5920\n",
      "[27,  1700] loss: 0.6059\n",
      "[27,  1800] loss: 0.6229\n",
      "[28,   100] loss: 0.5685\n",
      "[28,   200] loss: 0.5833\n",
      "[28,   300] loss: 0.6059\n",
      "[28,   400] loss: 0.6132\n",
      "[28,   500] loss: 0.5776\n",
      "[28,   600] loss: 0.5886\n",
      "[28,   700] loss: 0.5643\n",
      "[28,   800] loss: 0.6542\n",
      "[28,   900] loss: 0.6426\n",
      "[28,  1000] loss: 0.5678\n",
      "[28,  1100] loss: 0.5933\n",
      "[28,  1200] loss: 0.5479\n",
      "[28,  1300] loss: 0.5870\n",
      "[28,  1400] loss: 0.5913\n",
      "[28,  1500] loss: 0.6299\n",
      "[28,  1600] loss: 0.5896\n",
      "[28,  1700] loss: 0.5992\n",
      "[28,  1800] loss: 0.6030\n",
      "[29,   100] loss: 0.5707\n",
      "[29,   200] loss: 0.5767\n",
      "[29,   300] loss: 0.6070\n",
      "[29,   400] loss: 0.5961\n",
      "[29,   500] loss: 0.5880\n",
      "[29,   600] loss: 0.5842\n",
      "[29,   700] loss: 0.5624\n",
      "[29,   800] loss: 0.6247\n",
      "[29,   900] loss: 0.6192\n",
      "[29,  1000] loss: 0.5699\n",
      "[29,  1100] loss: 0.5853\n",
      "[29,  1200] loss: 0.5640\n",
      "[29,  1300] loss: 0.5691\n",
      "[29,  1400] loss: 0.5847\n",
      "[29,  1500] loss: 0.7922\n",
      "[29,  1600] loss: 0.6733\n",
      "[29,  1700] loss: 0.6277\n",
      "[29,  1800] loss: 0.6017\n",
      "[30,   100] loss: 0.5748\n",
      "[30,   200] loss: 0.5824\n",
      "[30,   300] loss: 0.6130\n",
      "[30,   400] loss: 0.5958\n",
      "[30,   500] loss: 0.5817\n",
      "[30,   600] loss: 0.5716\n",
      "[30,   700] loss: 0.5539\n",
      "[30,   800] loss: 0.6265\n",
      "[30,   900] loss: 0.6082\n",
      "[30,  1000] loss: 0.5740\n",
      "[30,  1100] loss: 0.5849\n",
      "[30,  1200] loss: 0.5559\n",
      "[30,  1300] loss: 0.5617\n",
      "[30,  1400] loss: 0.5712\n",
      "[30,  1500] loss: 0.6283\n",
      "[30,  1600] loss: 0.5857\n",
      "[30,  1700] loss: 0.5965\n",
      "[30,  1800] loss: 0.5818\n"
     ]
    }
   ],
   "source": [
    "my_nn_with_drop, running_loss_values_my_nn_with_drop = train_fun(\n",
    "    num_of_epochs=num_of_epochs,\n",
    "    data_set_class = AgmnTrainDataset,\n",
    "    nn_class = My_NN_With_Drop,\n",
    "    learning_rate = 0.001\n",
    ")"
   ]
  },
  {
   "cell_type": "markdown",
   "metadata": {
    "colab_type": "text",
    "id": "ROhT9gzrDqBa"
   },
   "source": [
    "#### My NN with no drop"
   ]
  },
  {
   "cell_type": "markdown",
   "metadata": {
    "colab_type": "text",
    "id": "YSalktsFaNte"
   },
   "source": [
    "##### lr big"
   ]
  },
  {
   "cell_type": "code",
   "execution_count": null,
   "metadata": {
    "colab": {
     "base_uri": "https://localhost:8080/",
     "height": 1000
    },
    "colab_type": "code",
    "id": "clWY8Kcay7VG",
    "outputId": "0496d741-b8d2-4b6a-b29a-141a70f3e919"
   },
   "outputs": [
    {
     "name": "stdout",
     "output_type": "stream",
     "text": [
      "[1,   100] loss: 14.0744\n",
      "[1,   200] loss: 2.2409\n",
      "[1,   300] loss: 2.2499\n",
      "[1,   400] loss: 2.2393\n",
      "[1,   500] loss: 2.2427\n",
      "[1,   600] loss: 2.2503\n",
      "[1,   700] loss: 2.2556\n",
      "[1,   800] loss: 2.2441\n",
      "[1,   900] loss: 2.2454\n",
      "[2,   100] loss: 2.2508\n",
      "[2,   200] loss: 2.2346\n",
      "[2,   300] loss: 2.2472\n",
      "[2,   400] loss: 2.2392\n",
      "[2,   500] loss: 2.2419\n",
      "[2,   600] loss: 2.2453\n",
      "[2,   700] loss: 2.2507\n",
      "[2,   800] loss: 2.2434\n",
      "[2,   900] loss: 2.2468\n",
      "[3,   100] loss: 2.2449\n",
      "[3,   200] loss: 2.2328\n",
      "[3,   300] loss: 2.2440\n",
      "[3,   400] loss: 2.2363\n",
      "[3,   500] loss: 2.2404\n",
      "[3,   600] loss: 2.2411\n",
      "[3,   700] loss: 2.2490\n",
      "[3,   800] loss: 2.2407\n",
      "[3,   900] loss: 2.2450\n",
      "[4,   100] loss: 2.2439\n",
      "[4,   200] loss: 2.2311\n",
      "[4,   300] loss: 2.2454\n",
      "[4,   400] loss: 2.2382\n",
      "[4,   500] loss: 2.2401\n",
      "[4,   600] loss: 2.2403\n",
      "[4,   700] loss: 2.2481\n",
      "[4,   800] loss: 2.2386\n",
      "[4,   900] loss: 2.2429\n",
      "[5,   100] loss: 2.2422\n",
      "[5,   200] loss: 2.2315\n",
      "[5,   300] loss: 2.2450\n",
      "[5,   400] loss: 2.2367\n",
      "[5,   500] loss: 2.2395\n",
      "[5,   600] loss: 2.2426\n",
      "[5,   700] loss: 2.2501\n",
      "[5,   800] loss: 2.2422\n",
      "[5,   900] loss: 2.2417\n",
      "[6,   100] loss: 2.2415\n",
      "[6,   200] loss: 2.2296\n",
      "[6,   300] loss: 2.2424\n",
      "[6,   400] loss: 2.2370\n",
      "[6,   500] loss: 2.2557\n",
      "[6,   600] loss: 2.2405\n",
      "[6,   700] loss: 2.2476\n",
      "[6,   800] loss: 2.2390\n",
      "[6,   900] loss: 2.2432\n",
      "[7,   100] loss: 2.2495\n",
      "[7,   200] loss: 2.2446\n",
      "[7,   300] loss: 2.2436\n",
      "[7,   400] loss: 2.2343\n",
      "[7,   500] loss: 2.2389\n",
      "[7,   600] loss: 2.2383\n",
      "[7,   700] loss: 2.2465\n",
      "[7,   800] loss: 2.2389\n",
      "[7,   900] loss: 2.2401\n",
      "[8,   100] loss: 2.2387\n",
      "[8,   200] loss: 2.2297\n",
      "[8,   300] loss: 2.2403\n",
      "[8,   400] loss: 2.2336\n",
      "[8,   500] loss: 2.2379\n",
      "[8,   600] loss: 2.2375\n",
      "[8,   700] loss: 2.2453\n",
      "[8,   800] loss: 2.2369\n",
      "[8,   900] loss: 2.2415\n",
      "[9,   100] loss: 2.2410\n",
      "[9,   200] loss: 2.2310\n",
      "[9,   300] loss: 2.2419\n",
      "[9,   400] loss: 2.2360\n",
      "[9,   500] loss: 2.2391\n",
      "[9,   600] loss: 2.2473\n",
      "[9,   700] loss: 2.2561\n",
      "[9,   800] loss: 2.2374\n",
      "[9,   900] loss: 2.2403\n",
      "[10,   100] loss: 2.2397\n",
      "[10,   200] loss: 2.2286\n",
      "[10,   300] loss: 2.2397\n",
      "[10,   400] loss: 2.2334\n",
      "[10,   500] loss: 2.2377\n",
      "[10,   600] loss: 2.2374\n",
      "[10,   700] loss: 2.2462\n",
      "[10,   800] loss: 2.2365\n",
      "[10,   900] loss: 2.2399\n",
      "[11,   100] loss: 2.2515\n",
      "[11,   200] loss: 370.7956\n",
      "[11,   300] loss: 5.7894\n",
      "[11,   400] loss: 2.3412\n",
      "[11,   500] loss: 2.3605\n",
      "[11,   600] loss: 2.2917\n",
      "[11,   700] loss: 2.2850\n",
      "[11,   800] loss: 2.2890\n",
      "[11,   900] loss: 2.2876\n",
      "[12,   100] loss: 2.2777\n",
      "[12,   200] loss: 2.2750\n",
      "[12,   300] loss: 2.2708\n",
      "[12,   400] loss: 2.2809\n",
      "[12,   500] loss: 2.2743\n",
      "[12,   600] loss: 2.2656\n",
      "[12,   700] loss: 2.2734\n",
      "[12,   800] loss: 2.2646\n",
      "[12,   900] loss: 2.2606\n",
      "[13,   100] loss: 2.2622\n",
      "[13,   200] loss: 2.2619\n",
      "[13,   300] loss: 2.2633\n",
      "[13,   400] loss: 2.2542\n",
      "[13,   500] loss: 2.2610\n",
      "[13,   600] loss: 2.2563\n",
      "[13,   700] loss: 2.2617\n",
      "[13,   800] loss: 2.2568\n",
      "[13,   900] loss: 2.2540\n",
      "[14,   100] loss: 2.2585\n",
      "[14,   200] loss: 2.2529\n",
      "[14,   300] loss: 2.2556\n",
      "[14,   400] loss: 2.2484\n",
      "[14,   500] loss: 2.2552\n",
      "[14,   600] loss: 2.2501\n",
      "[14,   700] loss: 2.2560\n",
      "[14,   800] loss: 2.2486\n",
      "[14,   900] loss: 2.2531\n",
      "[15,   100] loss: 2.2535\n",
      "[15,   200] loss: 2.2614\n",
      "[15,   300] loss: 2.2662\n",
      "[15,   400] loss: 2.2482\n",
      "[15,   500] loss: 2.2521\n",
      "[15,   600] loss: 2.2496\n",
      "[15,   700] loss: 2.2579\n",
      "[15,   800] loss: 2.2481\n",
      "[15,   900] loss: 2.2628\n",
      "[16,   100] loss: 2.2501\n",
      "[16,   200] loss: 2.2426\n",
      "[16,   300] loss: 2.2567\n",
      "[16,   400] loss: 2.2458\n",
      "[16,   500] loss: 2.2523\n",
      "[16,   600] loss: 2.2496\n",
      "[16,   700] loss: 2.2623\n",
      "[16,   800] loss: 2.2495\n",
      "[16,   900] loss: 2.2622\n",
      "[17,   100] loss: 2.2500\n",
      "[17,   200] loss: 2.2411\n",
      "[17,   300] loss: 2.2585\n",
      "[17,   400] loss: 2.2432\n",
      "[17,   500] loss: 2.2498\n",
      "[17,   600] loss: 2.2476\n",
      "[17,   700] loss: 2.2527\n",
      "[17,   800] loss: 2.2492\n",
      "[17,   900] loss: 2.2476\n",
      "[18,   100] loss: 2.2481\n",
      "[18,   200] loss: 2.2445\n",
      "[18,   300] loss: 2.2487\n",
      "[18,   400] loss: 2.2377\n",
      "[18,   500] loss: 2.2418\n",
      "[18,   600] loss: 2.2455\n",
      "[18,   700] loss: 2.2503\n",
      "[18,   800] loss: 2.2401\n",
      "[18,   900] loss: 2.2449\n",
      "[19,   100] loss: 2.2448\n",
      "[19,   200] loss: 2.2369\n",
      "[19,   300] loss: 2.2488\n",
      "[19,   400] loss: 2.2385\n",
      "[19,   500] loss: 2.2458\n",
      "[19,   600] loss: 2.2480\n",
      "[19,   700] loss: 2.2528\n",
      "[19,   800] loss: 2.2403\n",
      "[19,   900] loss: 2.2455\n",
      "[20,   100] loss: 2.2479\n",
      "[20,   200] loss: 2.2383\n",
      "[20,   300] loss: 2.2528\n",
      "[20,   400] loss: 2.2419\n",
      "[20,   500] loss: 2.2425\n",
      "[20,   600] loss: 2.2476\n",
      "[20,   700] loss: 2.2553\n",
      "[20,   800] loss: 2.2406\n",
      "[20,   900] loss: 2.2440\n",
      "[21,   100] loss: 2.2468\n",
      "[21,   200] loss: 2.2364\n",
      "[21,   300] loss: 2.2568\n",
      "[21,   400] loss: 2.2466\n",
      "[21,   500] loss: 2.2597\n",
      "[21,   600] loss: 381.3871\n",
      "[21,   700] loss: 3.2360\n",
      "[21,   800] loss: 2.3516\n",
      "[21,   900] loss: 2.3427\n",
      "[22,   100] loss: 2.3317\n",
      "[22,   200] loss: 2.3287\n",
      "[22,   300] loss: 2.3355\n",
      "[22,   400] loss: 2.3063\n",
      "[22,   500] loss: 2.3055\n",
      "[22,   600] loss: 2.3213\n",
      "[22,   700] loss: 2.3098\n",
      "[22,   800] loss: 2.2748\n",
      "[22,   900] loss: 2.2732\n",
      "[23,   100] loss: 2.2678\n",
      "[23,   200] loss: 2.2706\n",
      "[23,   300] loss: 2.2939\n",
      "[23,   400] loss: 2.2664\n",
      "[23,   500] loss: 2.2807\n",
      "[23,   600] loss: 2.2865\n",
      "[23,   700] loss: 2.2762\n",
      "[23,   800] loss: 2.2608\n",
      "[23,   900] loss: 2.2606\n",
      "[24,   100] loss: 2.2590\n",
      "[24,   200] loss: 2.2505\n",
      "[24,   300] loss: 2.2655\n",
      "[24,   400] loss: 2.2585\n",
      "[24,   500] loss: 2.2602\n",
      "[24,   600] loss: 2.2693\n",
      "[24,   700] loss: 2.2612\n",
      "[24,   800] loss: 2.2495\n",
      "[24,   900] loss: 2.2530\n",
      "[25,   100] loss: 2.2535\n",
      "[25,   200] loss: 2.2450\n",
      "[25,   300] loss: 2.2542\n",
      "[25,   400] loss: 2.2471\n",
      "[25,   500] loss: 2.2515\n",
      "[25,   600] loss: 2.2542\n",
      "[25,   700] loss: 2.2555\n",
      "[25,   800] loss: 2.2446\n",
      "[25,   900] loss: 2.2510\n",
      "[26,   100] loss: 2.2514\n",
      "[26,   200] loss: 2.2370\n",
      "[26,   300] loss: 2.2511\n",
      "[26,   400] loss: 2.2461\n",
      "[26,   500] loss: 2.2479\n",
      "[26,   600] loss: 2.2594\n",
      "[26,   700] loss: 2.2598\n",
      "[26,   800] loss: 2.2456\n",
      "[26,   900] loss: 2.2501\n",
      "[27,   100] loss: 2.2489\n",
      "[27,   200] loss: 2.2378\n",
      "[27,   300] loss: 2.2548\n",
      "[27,   400] loss: 2.2472\n",
      "[27,   500] loss: 2.2460\n",
      "[27,   600] loss: 2.2534\n",
      "[27,   700] loss: 2.2575\n",
      "[27,   800] loss: 2.2468\n",
      "[27,   900] loss: 2.2439\n",
      "[28,   100] loss: 2.2484\n",
      "[28,   200] loss: 2.2384\n",
      "[28,   300] loss: 2.2503\n",
      "[28,   400] loss: 2.2438\n",
      "[28,   500] loss: 2.2441\n",
      "[28,   600] loss: 2.2461\n",
      "[28,   700] loss: 2.2511\n",
      "[28,   800] loss: 2.2412\n",
      "[28,   900] loss: 2.2444\n",
      "[29,   100] loss: 2.2497\n",
      "[29,   200] loss: 2.2367\n",
      "[29,   300] loss: 2.2463\n",
      "[29,   400] loss: 2.2388\n",
      "[29,   500] loss: 2.2426\n",
      "[29,   600] loss: 2.2461\n",
      "[29,   700] loss: 2.2523\n",
      "[29,   800] loss: 2.2404\n",
      "[29,   900] loss: 2.2443\n",
      "[30,   100] loss: 2.2455\n",
      "[30,   200] loss: 2.2337\n",
      "[30,   300] loss: 2.2469\n",
      "[30,   400] loss: 2.2396\n",
      "[30,   500] loss: 2.2425\n",
      "[30,   600] loss: 2.2416\n",
      "[30,   700] loss: 2.2520\n",
      "[30,   800] loss: 2.2455\n",
      "[30,   900] loss: 2.2466\n"
     ]
    }
   ],
   "source": [
    "my_nn_with_no_drop_lr_big, running_loss_values_my_nn_with_no_drop_lr_big = train_fun(\n",
    "    num_of_epochs=num_of_epochs,\n",
    "    data_set_class = TrainDataset,\n",
    "    nn_class = My_NN_With_No_Drop,\n",
    "    learning_rate = 0.01\n",
    ")"
   ]
  },
  {
   "cell_type": "markdown",
   "metadata": {
    "colab_type": "text",
    "id": "rQ-Sw3mAaQ6z"
   },
   "source": [
    "##### lr small"
   ]
  },
  {
   "cell_type": "code",
   "execution_count": null,
   "metadata": {
    "colab": {
     "base_uri": "https://localhost:8080/",
     "height": 1000
    },
    "colab_type": "code",
    "id": "nNPJGBvJy7VK",
    "outputId": "7cf0e09f-4747-4e66-b23d-2c9131f07cfa"
   },
   "outputs": [
    {
     "name": "stdout",
     "output_type": "stream",
     "text": [
      "[1,   100] loss: 2.2617\n",
      "[1,   200] loss: 1.9145\n",
      "[1,   300] loss: 1.5403\n",
      "[1,   400] loss: 1.2018\n",
      "[1,   500] loss: 1.0544\n",
      "[1,   600] loss: 0.9242\n",
      "[1,   700] loss: 0.8483\n",
      "[1,   800] loss: 0.8141\n",
      "[1,   900] loss: 0.7736\n",
      "[2,   100] loss: 0.7312\n",
      "[2,   200] loss: 0.7197\n",
      "[2,   300] loss: 0.7045\n",
      "[2,   400] loss: 0.6436\n",
      "[2,   500] loss: 0.6772\n",
      "[2,   600] loss: 0.6336\n",
      "[2,   700] loss: 0.6132\n",
      "[2,   800] loss: 0.5993\n",
      "[2,   900] loss: 0.6037\n",
      "[3,   100] loss: 0.5872\n",
      "[3,   200] loss: 0.5959\n",
      "[3,   300] loss: 0.5899\n",
      "[3,   400] loss: 0.5403\n",
      "[3,   500] loss: 0.5789\n",
      "[3,   600] loss: 0.5402\n",
      "[3,   700] loss: 0.5383\n",
      "[3,   800] loss: 0.5262\n",
      "[3,   900] loss: 0.5365\n",
      "[4,   100] loss: 0.5275\n",
      "[4,   200] loss: 0.5391\n",
      "[4,   300] loss: 0.5342\n",
      "[4,   400] loss: 0.4901\n",
      "[4,   500] loss: 0.5308\n",
      "[4,   600] loss: 0.4923\n",
      "[4,   700] loss: 0.4951\n",
      "[4,   800] loss: 0.4855\n",
      "[4,   900] loss: 0.4951\n",
      "[5,   100] loss: 0.4918\n",
      "[5,   200] loss: 0.5009\n",
      "[5,   300] loss: 0.4983\n",
      "[5,   400] loss: 0.4563\n",
      "[5,   500] loss: 0.4996\n",
      "[5,   600] loss: 0.4605\n",
      "[5,   700] loss: 0.4656\n",
      "[5,   800] loss: 0.4559\n",
      "[5,   900] loss: 0.4658\n",
      "[6,   100] loss: 0.4654\n",
      "[6,   200] loss: 0.4703\n",
      "[6,   300] loss: 0.4715\n",
      "[6,   400] loss: 0.4290\n",
      "[6,   500] loss: 0.4741\n",
      "[6,   600] loss: 0.4348\n",
      "[6,   700] loss: 0.4415\n",
      "[6,   800] loss: 0.4327\n",
      "[6,   900] loss: 0.4436\n",
      "[7,   100] loss: 0.4432\n",
      "[7,   200] loss: 0.4463\n",
      "[7,   300] loss: 0.4508\n",
      "[7,   400] loss: 0.4077\n",
      "[7,   500] loss: 0.4521\n",
      "[7,   600] loss: 0.4142\n",
      "[7,   700] loss: 0.4213\n",
      "[7,   800] loss: 0.4130\n",
      "[7,   900] loss: 0.4256\n",
      "[8,   100] loss: 0.4234\n",
      "[8,   200] loss: 0.4265\n",
      "[8,   300] loss: 0.4337\n",
      "[8,   400] loss: 0.3894\n",
      "[8,   500] loss: 0.4347\n",
      "[8,   600] loss: 0.3969\n",
      "[8,   700] loss: 0.4035\n",
      "[8,   800] loss: 0.3971\n",
      "[8,   900] loss: 0.4112\n",
      "[9,   100] loss: 0.4069\n",
      "[9,   200] loss: 0.4094\n",
      "[9,   300] loss: 0.4177\n",
      "[9,   400] loss: 0.3736\n",
      "[9,   500] loss: 0.4197\n",
      "[9,   600] loss: 0.3820\n",
      "[9,   700] loss: 0.3880\n",
      "[9,   800] loss: 0.3827\n",
      "[9,   900] loss: 0.3975\n",
      "[10,   100] loss: 0.3917\n",
      "[10,   200] loss: 0.3951\n",
      "[10,   300] loss: 0.4039\n",
      "[10,   400] loss: 0.3609\n",
      "[10,   500] loss: 0.4060\n",
      "[10,   600] loss: 0.3704\n",
      "[10,   700] loss: 0.3746\n",
      "[10,   800] loss: 0.3710\n",
      "[10,   900] loss: 0.3863\n",
      "[11,   100] loss: 0.3769\n",
      "[11,   200] loss: 0.3818\n",
      "[11,   300] loss: 0.3924\n",
      "[11,   400] loss: 0.3494\n",
      "[11,   500] loss: 0.3929\n",
      "[11,   600] loss: 0.3590\n",
      "[11,   700] loss: 0.3619\n",
      "[11,   800] loss: 0.3599\n",
      "[11,   900] loss: 0.3757\n",
      "[12,   100] loss: 0.3640\n",
      "[12,   200] loss: 0.3701\n",
      "[12,   300] loss: 0.3812\n",
      "[12,   400] loss: 0.3395\n",
      "[12,   500] loss: 0.3822\n",
      "[12,   600] loss: 0.3487\n",
      "[12,   700] loss: 0.3510\n",
      "[12,   800] loss: 0.3499\n",
      "[12,   900] loss: 0.3667\n",
      "[13,   100] loss: 0.3522\n",
      "[13,   200] loss: 0.3600\n",
      "[13,   300] loss: 0.3712\n",
      "[13,   400] loss: 0.3307\n",
      "[13,   500] loss: 0.3721\n",
      "[13,   600] loss: 0.3396\n",
      "[13,   700] loss: 0.3411\n",
      "[13,   800] loss: 0.3419\n",
      "[13,   900] loss: 0.3580\n",
      "[14,   100] loss: 0.3416\n",
      "[14,   200] loss: 0.3504\n",
      "[14,   300] loss: 0.3630\n",
      "[14,   400] loss: 0.3223\n",
      "[14,   500] loss: 0.3620\n",
      "[14,   600] loss: 0.3317\n",
      "[14,   700] loss: 0.3322\n",
      "[14,   800] loss: 0.3315\n",
      "[14,   900] loss: 0.3497\n",
      "[15,   100] loss: 0.3321\n",
      "[15,   200] loss: 0.3424\n",
      "[15,   300] loss: 0.3541\n",
      "[15,   400] loss: 0.3147\n",
      "[15,   500] loss: 0.3538\n",
      "[15,   600] loss: 0.3242\n",
      "[15,   700] loss: 0.3251\n",
      "[15,   800] loss: 0.3243\n",
      "[15,   900] loss: 0.3436\n",
      "[16,   100] loss: 0.3240\n",
      "[16,   200] loss: 0.3352\n",
      "[16,   300] loss: 0.3455\n",
      "[16,   400] loss: 0.3073\n",
      "[16,   500] loss: 0.3469\n",
      "[16,   600] loss: 0.3167\n",
      "[16,   700] loss: 0.3167\n",
      "[16,   800] loss: 0.3173\n",
      "[16,   900] loss: 0.3368\n",
      "[17,   100] loss: 0.3160\n",
      "[17,   200] loss: 0.3283\n",
      "[17,   300] loss: 0.3371\n",
      "[17,   400] loss: 0.3009\n",
      "[17,   500] loss: 0.3396\n",
      "[17,   600] loss: 0.3105\n",
      "[17,   700] loss: 0.3097\n",
      "[17,   800] loss: 0.3087\n",
      "[17,   900] loss: 0.3311\n",
      "[18,   100] loss: 0.3088\n",
      "[18,   200] loss: 0.3219\n",
      "[18,   300] loss: 0.3296\n",
      "[18,   400] loss: 0.2947\n",
      "[18,   500] loss: 0.3330\n",
      "[18,   600] loss: 0.3042\n",
      "[18,   700] loss: 0.3026\n",
      "[18,   800] loss: 0.3023\n",
      "[18,   900] loss: 0.3258\n",
      "[19,   100] loss: 0.3032\n",
      "[19,   200] loss: 0.3166\n",
      "[19,   300] loss: 0.3228\n",
      "[19,   400] loss: 0.2885\n",
      "[19,   500] loss: 0.3271\n",
      "[19,   600] loss: 0.2984\n",
      "[19,   700] loss: 0.2964\n",
      "[19,   800] loss: 0.2961\n",
      "[19,   900] loss: 0.3197\n",
      "[20,   100] loss: 0.2975\n",
      "[20,   200] loss: 0.3110\n",
      "[20,   300] loss: 0.3162\n",
      "[20,   400] loss: 0.2831\n",
      "[20,   500] loss: 0.3206\n",
      "[20,   600] loss: 0.2928\n",
      "[20,   700] loss: 0.2910\n",
      "[20,   800] loss: 0.2904\n",
      "[20,   900] loss: 0.3133\n",
      "[21,   100] loss: 0.2925\n",
      "[21,   200] loss: 0.3059\n",
      "[21,   300] loss: 0.3098\n",
      "[21,   400] loss: 0.2768\n",
      "[21,   500] loss: 0.3149\n",
      "[21,   600] loss: 0.2875\n",
      "[21,   700] loss: 0.2852\n",
      "[21,   800] loss: 0.2844\n",
      "[21,   900] loss: 0.3067\n",
      "[22,   100] loss: 0.2869\n",
      "[22,   200] loss: 0.3004\n",
      "[22,   300] loss: 0.3041\n",
      "[22,   400] loss: 0.2711\n",
      "[22,   500] loss: 0.3105\n",
      "[22,   600] loss: 0.2827\n",
      "[22,   700] loss: 0.2797\n",
      "[22,   800] loss: 0.2786\n",
      "[22,   900] loss: 0.3013\n",
      "[23,   100] loss: 0.2813\n",
      "[23,   200] loss: 0.2964\n",
      "[23,   300] loss: 0.2988\n",
      "[23,   400] loss: 0.2671\n",
      "[23,   500] loss: 0.3050\n",
      "[23,   600] loss: 0.2781\n",
      "[23,   700] loss: 0.2746\n",
      "[23,   800] loss: 0.2730\n",
      "[23,   900] loss: 0.2961\n",
      "[24,   100] loss: 0.2767\n",
      "[24,   200] loss: 0.2912\n",
      "[24,   300] loss: 0.2942\n",
      "[24,   400] loss: 0.2622\n",
      "[24,   500] loss: 0.2996\n",
      "[24,   600] loss: 0.2733\n",
      "[24,   700] loss: 0.2703\n",
      "[24,   800] loss: 0.2676\n",
      "[24,   900] loss: 0.2909\n",
      "[25,   100] loss: 0.2722\n",
      "[25,   200] loss: 0.2867\n",
      "[25,   300] loss: 0.2891\n",
      "[25,   400] loss: 0.2579\n",
      "[25,   500] loss: 0.2959\n",
      "[25,   600] loss: 0.2674\n",
      "[25,   700] loss: 0.2656\n",
      "[25,   800] loss: 0.2620\n",
      "[25,   900] loss: 0.2856\n",
      "[26,   100] loss: 0.2672\n",
      "[26,   200] loss: 0.2827\n",
      "[26,   300] loss: 0.2847\n",
      "[26,   400] loss: 0.2544\n",
      "[26,   500] loss: 0.2915\n",
      "[26,   600] loss: 0.2634\n",
      "[26,   700] loss: 0.2607\n",
      "[26,   800] loss: 0.2568\n",
      "[26,   900] loss: 0.2801\n",
      "[27,   100] loss: 0.2631\n",
      "[27,   200] loss: 0.2786\n",
      "[27,   300] loss: 0.2796\n",
      "[27,   400] loss: 0.2511\n",
      "[27,   500] loss: 0.2883\n",
      "[27,   600] loss: 0.2588\n",
      "[27,   700] loss: 0.2564\n",
      "[27,   800] loss: 0.2521\n",
      "[27,   900] loss: 0.2752\n",
      "[28,   100] loss: 0.2593\n",
      "[28,   200] loss: 0.2744\n",
      "[28,   300] loss: 0.2744\n",
      "[28,   400] loss: 0.2463\n",
      "[28,   500] loss: 0.2833\n",
      "[28,   600] loss: 0.2550\n",
      "[28,   700] loss: 0.2538\n",
      "[28,   800] loss: 0.2481\n",
      "[28,   900] loss: 0.2716\n",
      "[29,   100] loss: 0.2558\n",
      "[29,   200] loss: 0.2721\n",
      "[29,   300] loss: 0.2712\n",
      "[29,   400] loss: 0.2439\n",
      "[29,   500] loss: 0.2790\n",
      "[29,   600] loss: 0.2509\n",
      "[29,   700] loss: 0.2485\n",
      "[29,   800] loss: 0.2429\n",
      "[29,   900] loss: 0.2668\n",
      "[30,   100] loss: 0.2509\n",
      "[30,   200] loss: 0.2677\n",
      "[30,   300] loss: 0.2670\n",
      "[30,   400] loss: 0.2387\n",
      "[30,   500] loss: 0.2739\n",
      "[30,   600] loss: 0.2474\n",
      "[30,   700] loss: 0.2441\n",
      "[30,   800] loss: 0.2401\n",
      "[30,   900] loss: 0.2628\n"
     ]
    }
   ],
   "source": [
    "my_nn_with_no_drop_lr_small, running_loss_values_my_nn_with_no_drop_lr_small = train_fun(\n",
    "    num_of_epochs=num_of_epochs,\n",
    "    data_set_class = TrainDataset,\n",
    "    nn_class = My_NN_With_No_Drop,\n",
    "    learning_rate = 0.0001\n",
    ")"
   ]
  },
  {
   "cell_type": "markdown",
   "metadata": {
    "colab_type": "text",
    "id": "h0GGkRXsaVWK"
   },
   "source": [
    "##### lr medium"
   ]
  },
  {
   "cell_type": "code",
   "execution_count": null,
   "metadata": {
    "colab": {
     "base_uri": "https://localhost:8080/",
     "height": 1000
    },
    "colab_type": "code",
    "id": "mEyo3wqPDpzK",
    "outputId": "d8cfe254-2873-484a-b936-913761ff8502"
   },
   "outputs": [
    {
     "name": "stdout",
     "output_type": "stream",
     "text": [
      "[1,   100] loss: 2.9868\n",
      "[1,   200] loss: 1.8406\n",
      "[1,   300] loss: 1.3682\n",
      "[1,   400] loss: 1.1229\n",
      "[1,   500] loss: 0.9980\n",
      "[1,   600] loss: 0.9096\n",
      "[1,   700] loss: 0.8235\n",
      "[1,   800] loss: 0.8227\n",
      "[1,   900] loss: 0.7697\n",
      "[2,   100] loss: 0.7613\n",
      "[2,   200] loss: 0.7683\n",
      "[2,   300] loss: 0.7272\n",
      "[2,   400] loss: 0.7217\n",
      "[2,   500] loss: 0.7131\n",
      "[2,   600] loss: 0.6897\n",
      "[2,   700] loss: 0.6558\n",
      "[2,   800] loss: 0.6704\n",
      "[2,   900] loss: 0.6526\n",
      "[3,   100] loss: 0.6429\n",
      "[3,   200] loss: 0.6666\n",
      "[3,   300] loss: 0.6370\n",
      "[3,   400] loss: 0.6241\n",
      "[3,   500] loss: 0.6304\n",
      "[3,   600] loss: 0.6253\n",
      "[3,   700] loss: 0.5981\n",
      "[3,   800] loss: 0.6264\n",
      "[3,   900] loss: 0.5871\n",
      "[4,   100] loss: 0.5979\n",
      "[4,   200] loss: 0.6249\n",
      "[4,   300] loss: 0.5956\n",
      "[4,   400] loss: 0.5903\n",
      "[4,   500] loss: 0.5940\n",
      "[4,   600] loss: 0.5965\n",
      "[4,   700] loss: 0.5617\n",
      "[4,   800] loss: 0.5923\n",
      "[4,   900] loss: 0.5467\n",
      "[5,   100] loss: 0.5812\n",
      "[5,   200] loss: 0.5960\n",
      "[5,   300] loss: 0.5692\n",
      "[5,   400] loss: 0.5603\n",
      "[5,   500] loss: 0.5593\n",
      "[5,   600] loss: 0.5721\n",
      "[5,   700] loss: 0.5458\n",
      "[5,   800] loss: 0.5538\n",
      "[5,   900] loss: 0.5333\n",
      "[6,   100] loss: 0.5639\n",
      "[6,   200] loss: 0.5611\n",
      "[6,   300] loss: 0.5409\n",
      "[6,   400] loss: 0.5406\n",
      "[6,   500] loss: 0.5416\n",
      "[6,   600] loss: 0.5424\n",
      "[6,   700] loss: 0.5160\n",
      "[6,   800] loss: 0.5322\n",
      "[6,   900] loss: 0.5161\n",
      "[7,   100] loss: 0.5311\n",
      "[7,   200] loss: 0.5307\n",
      "[7,   300] loss: 0.5212\n",
      "[7,   400] loss: 0.5227\n",
      "[7,   500] loss: 0.5278\n",
      "[7,   600] loss: 0.5220\n",
      "[7,   700] loss: 0.4936\n",
      "[7,   800] loss: 0.5083\n",
      "[7,   900] loss: 0.4802\n",
      "[8,   100] loss: 0.5035\n",
      "[8,   200] loss: 0.5113\n",
      "[8,   300] loss: 0.5106\n",
      "[8,   400] loss: 0.4984\n",
      "[8,   500] loss: 0.5116\n",
      "[8,   600] loss: 0.5078\n",
      "[8,   700] loss: 0.4759\n",
      "[8,   800] loss: 0.4841\n",
      "[8,   900] loss: 0.4623\n",
      "[9,   100] loss: 0.4838\n",
      "[9,   200] loss: 0.5054\n",
      "[9,   300] loss: 0.4910\n",
      "[9,   400] loss: 0.4813\n",
      "[9,   500] loss: 0.4885\n",
      "[9,   600] loss: 0.4803\n",
      "[9,   700] loss: 0.4668\n",
      "[9,   800] loss: 0.4673\n",
      "[9,   900] loss: 0.4464\n",
      "[10,   100] loss: 0.4756\n",
      "[10,   200] loss: 0.4750\n",
      "[10,   300] loss: 0.4754\n",
      "[10,   400] loss: 0.4774\n",
      "[10,   500] loss: 0.4723\n",
      "[10,   600] loss: 0.4699\n",
      "[10,   700] loss: 0.4489\n",
      "[10,   800] loss: 0.4585\n",
      "[10,   900] loss: 0.4367\n",
      "[11,   100] loss: 0.4628\n",
      "[11,   200] loss: 0.4761\n",
      "[11,   300] loss: 0.4726\n",
      "[11,   400] loss: 0.4479\n",
      "[11,   500] loss: 0.4643\n",
      "[11,   600] loss: 0.4592\n",
      "[11,   700] loss: 0.4414\n",
      "[11,   800] loss: 0.4440\n",
      "[11,   900] loss: 0.4189\n",
      "[12,   100] loss: 0.4473\n",
      "[12,   200] loss: 0.4583\n",
      "[12,   300] loss: 0.4694\n",
      "[12,   400] loss: 0.4450\n",
      "[12,   500] loss: 0.4491\n",
      "[12,   600] loss: 0.4555\n",
      "[12,   700] loss: 0.4181\n",
      "[12,   800] loss: 0.4323\n",
      "[12,   900] loss: 0.4039\n",
      "[13,   100] loss: 0.4344\n",
      "[13,   200] loss: 0.4632\n",
      "[13,   300] loss: 0.4519\n",
      "[13,   400] loss: 0.4285\n",
      "[13,   500] loss: 0.4251\n",
      "[13,   600] loss: 0.4383\n",
      "[13,   700] loss: 0.4063\n",
      "[13,   800] loss: 0.4262\n",
      "[13,   900] loss: 0.4035\n",
      "[14,   100] loss: 0.4407\n",
      "[14,   200] loss: 0.4388\n",
      "[14,   300] loss: 0.4460\n",
      "[14,   400] loss: 0.4313\n",
      "[14,   500] loss: 0.4238\n",
      "[14,   600] loss: 0.4369\n",
      "[14,   700] loss: 0.3973\n",
      "[14,   800] loss: 0.4286\n",
      "[14,   900] loss: 0.3852\n",
      "[15,   100] loss: 0.4335\n",
      "[15,   200] loss: 0.4455\n",
      "[15,   300] loss: 0.4349\n",
      "[15,   400] loss: 0.4263\n",
      "[15,   500] loss: 0.4099\n",
      "[15,   600] loss: 0.4314\n",
      "[15,   700] loss: 0.3936\n",
      "[15,   800] loss: 0.4293\n",
      "[15,   900] loss: 0.3920\n",
      "[16,   100] loss: 0.4226\n",
      "[16,   200] loss: 0.4419\n",
      "[16,   300] loss: 0.4273\n",
      "[16,   400] loss: 0.4173\n",
      "[16,   500] loss: 0.4162\n",
      "[16,   600] loss: 0.4217\n",
      "[16,   700] loss: 0.3810\n",
      "[16,   800] loss: 0.4004\n",
      "[16,   900] loss: 0.3869\n",
      "[17,   100] loss: 0.4159\n",
      "[17,   200] loss: 0.4404\n",
      "[17,   300] loss: 0.4196\n",
      "[17,   400] loss: 0.3940\n",
      "[17,   500] loss: 0.3965\n",
      "[17,   600] loss: 0.4125\n",
      "[17,   700] loss: 0.3840\n",
      "[17,   800] loss: 0.3985\n",
      "[17,   900] loss: 0.3744\n",
      "[18,   100] loss: 0.4003\n",
      "[18,   200] loss: 0.4378\n",
      "[18,   300] loss: 0.4112\n",
      "[18,   400] loss: 0.4049\n",
      "[18,   500] loss: 0.4002\n",
      "[18,   600] loss: 0.4088\n",
      "[18,   700] loss: 0.3744\n",
      "[18,   800] loss: 0.4072\n",
      "[18,   900] loss: 0.3643\n",
      "[19,   100] loss: 0.3887\n",
      "[19,   200] loss: 0.4168\n",
      "[19,   300] loss: 0.3974\n",
      "[19,   400] loss: 0.3795\n",
      "[19,   500] loss: 0.4014\n",
      "[19,   600] loss: 0.4059\n",
      "[19,   700] loss: 0.3752\n",
      "[19,   800] loss: 0.3968\n",
      "[19,   900] loss: 0.3657\n",
      "[20,   100] loss: 0.3795\n",
      "[20,   200] loss: 0.4020\n",
      "[20,   300] loss: 0.3940\n",
      "[20,   400] loss: 0.3733\n",
      "[20,   500] loss: 0.3878\n",
      "[20,   600] loss: 0.4032\n",
      "[20,   700] loss: 0.3727\n",
      "[20,   800] loss: 0.3905\n",
      "[20,   900] loss: 0.3618\n",
      "[21,   100] loss: 0.3892\n",
      "[21,   200] loss: 0.4178\n",
      "[21,   300] loss: 0.4022\n",
      "[21,   400] loss: 0.3625\n",
      "[21,   500] loss: 0.3766\n",
      "[21,   600] loss: 0.3960\n",
      "[21,   700] loss: 0.3720\n",
      "[21,   800] loss: 0.3646\n",
      "[21,   900] loss: 0.3417\n",
      "[22,   100] loss: 0.3790\n",
      "[22,   200] loss: 0.3957\n",
      "[22,   300] loss: 0.3810\n",
      "[22,   400] loss: 0.3654\n",
      "[22,   500] loss: 0.3774\n",
      "[22,   600] loss: 0.3954\n",
      "[22,   700] loss: 0.3649\n",
      "[22,   800] loss: 0.3713\n",
      "[22,   900] loss: 0.3500\n",
      "[23,   100] loss: 0.3676\n",
      "[23,   200] loss: 0.4085\n",
      "[23,   300] loss: 0.3809\n",
      "[23,   400] loss: 0.3630\n",
      "[23,   500] loss: 0.3653\n",
      "[23,   600] loss: 0.3768\n",
      "[23,   700] loss: 0.3678\n",
      "[23,   800] loss: 0.3710\n",
      "[23,   900] loss: 0.3418\n",
      "[24,   100] loss: 0.3711\n",
      "[24,   200] loss: 0.3925\n",
      "[24,   300] loss: 0.3715\n",
      "[24,   400] loss: 0.3643\n",
      "[24,   500] loss: 0.3924\n",
      "[24,   600] loss: 0.3815\n",
      "[24,   700] loss: 0.3548\n",
      "[24,   800] loss: 0.3601\n",
      "[24,   900] loss: 0.3419\n",
      "[25,   100] loss: 0.3532\n",
      "[25,   200] loss: 0.3980\n",
      "[25,   300] loss: 0.3638\n",
      "[25,   400] loss: 0.3526\n",
      "[25,   500] loss: 0.3721\n",
      "[25,   600] loss: 0.3816\n",
      "[25,   700] loss: 0.3476\n",
      "[25,   800] loss: 0.3546\n",
      "[25,   900] loss: 0.3335\n",
      "[26,   100] loss: 0.3581\n",
      "[26,   200] loss: 0.3745\n",
      "[26,   300] loss: 0.3618\n",
      "[26,   400] loss: 0.3531\n",
      "[26,   500] loss: 0.3794\n",
      "[26,   600] loss: 0.3767\n",
      "[26,   700] loss: 0.3473\n",
      "[26,   800] loss: 0.3514\n",
      "[26,   900] loss: 0.3266\n",
      "[27,   100] loss: 0.3538\n",
      "[27,   200] loss: 0.3754\n",
      "[27,   300] loss: 0.3720\n",
      "[27,   400] loss: 0.3543\n",
      "[27,   500] loss: 0.3617\n",
      "[27,   600] loss: 0.3525\n",
      "[27,   700] loss: 0.3392\n",
      "[27,   800] loss: 0.3491\n",
      "[27,   900] loss: 0.3347\n",
      "[28,   100] loss: 0.3537\n",
      "[28,   200] loss: 0.3876\n",
      "[28,   300] loss: 0.3701\n",
      "[28,   400] loss: 0.3460\n",
      "[28,   500] loss: 0.3741\n",
      "[28,   600] loss: 0.3695\n",
      "[28,   700] loss: 0.3397\n",
      "[28,   800] loss: 0.3346\n",
      "[28,   900] loss: 0.3227\n",
      "[29,   100] loss: 0.3596\n",
      "[29,   200] loss: 0.3781\n",
      "[29,   300] loss: 0.3575\n",
      "[29,   400] loss: 0.3438\n",
      "[29,   500] loss: 0.3553\n",
      "[29,   600] loss: 0.3490\n",
      "[29,   700] loss: 0.3313\n",
      "[29,   800] loss: 0.3562\n",
      "[29,   900] loss: 0.3178\n",
      "[30,   100] loss: 0.3558\n",
      "[30,   200] loss: 0.3719\n",
      "[30,   300] loss: 0.3484\n",
      "[30,   400] loss: 0.3422\n",
      "[30,   500] loss: 0.3573\n",
      "[30,   600] loss: 0.3565\n",
      "[30,   700] loss: 0.3394\n",
      "[30,   800] loss: 0.3294\n",
      "[30,   900] loss: 0.3260\n"
     ]
    }
   ],
   "source": [
    "my_nn_with_no_drop, running_loss_values_my_nn_with_no_drop = train_fun(\n",
    "    num_of_epochs=num_of_epochs,\n",
    "    data_set_class = TrainDataset,\n",
    "    nn_class = My_NN_With_No_Drop,\n",
    "    learning_rate = 0.001\n",
    ")"
   ]
  },
  {
   "cell_type": "markdown",
   "metadata": {
    "colab_type": "text",
    "id": "hFF4m4Upfpzr"
   },
   "source": [
    "### Plotting the loss\n",
    "\n",
    "For each network plotting the loss during the training phase"
   ]
  },
  {
   "cell_type": "code",
   "execution_count": null,
   "metadata": {
    "colab": {
     "base_uri": "https://localhost:8080/",
     "height": 295
    },
    "colab_type": "code",
    "id": "iOv0LB6sf95z",
    "outputId": "a2ec3cb7-d3d6-462f-cc29-a2c58e26941f"
   },
   "outputs": [
    {
     "data": {
      "image/png": "[encoded data removed]",
      "text/plain": [
       "<Figure size 432x288 with 1 Axes>"
      ]
     },
     "metadata": {
      "needs_background": "light",
      "tags": []
     },
     "output_type": "display_data"
    }
   ],
   "source": [
    "#original_train_len = 73257\n",
    "#test_len = 26032\n",
    "\n",
    "x_axis = np.arange(1,\n",
    "                   num_of_epochs+1,\n",
    "                   1/int(int(int(73257*0.8)/64)/100))\n",
    "plt.plot(x_axis, running_loss_values_net_FC,label=\"FC\")\n",
    "plt.plot(x_axis, running_loss_values_net_CNN,label=\"CNN\")\n",
    "plt.ylabel(\"loss\")\n",
    "plt.xlabel(\"number of epochs\")\n",
    "plt.title( \"Loss During the Learning Phase\")\n",
    "plt.legend()\n",
    "plt.grid()\n",
    "plt.savefig(\"assignment 8 problem 1\")\n",
    "plt.show()"
   ]
  },
  {
   "cell_type": "code",
   "execution_count": null,
   "metadata": {
    "colab": {
     "base_uri": "https://localhost:8080/",
     "height": 295
    },
    "colab_type": "code",
    "id": "u6wmy-w5wRYf",
    "outputId": "4756fb2c-1abf-4359-cca5-81fed0e39c08"
   },
   "outputs": [
    {
     "data": {
      "image/png": "[encoded data removed]",
      "text/plain": [
       "<Figure size 432x288 with 1 Axes>"
      ]
     },
     "metadata": {
      "needs_background": "light",
      "tags": []
     },
     "output_type": "display_data"
    }
   ],
   "source": [
    "#original_train_len = 73257\n",
    "#test_len = 26032\n",
    "\n",
    "x1_axis = np.arange(1,\n",
    "                   num_of_epochs+1,\n",
    "                   1/int(int(int(73257*0.8)/64)/100))\n",
    "x2_axis = np.arange(1,\n",
    "                   num_of_epochs+1,\n",
    "                   1/(2*int(int(int(73257*0.8)/64)/100)))\n",
    "plt.plot(x2_axis, running_loss_values_my_nn_with_drop,label=\"My NN with additions\")\n",
    "plt.plot(x1_axis, running_loss_values_my_nn_with_no_drop,label=\"My NN without additions\")\n",
    "plt.ylabel(\"loss\")\n",
    "plt.xlabel(\"number of epochs\")\n",
    "plt.title( \"Loss During the Learning Phase\")\n",
    "plt.legend()\n",
    "plt.grid()\n",
    "plt.savefig(\"assignment 8 problem 3a\")\n",
    "plt.show()"
   ]
  },
  {
   "cell_type": "code",
   "execution_count": null,
   "metadata": {
    "colab": {
     "base_uri": "https://localhost:8080/",
     "height": 295
    },
    "colab_type": "code",
    "id": "IEnZ9qBy0M2Z",
    "outputId": "ccdbdcef-ef7a-49c1-e5d1-a48877ad5ae9"
   },
   "outputs": [
    {
     "data": {
      "image/png": "[encoded data removed]",
      "text/plain": [
       "<Figure size 432x288 with 1 Axes>"
      ]
     },
     "metadata": {
      "needs_background": "light",
      "tags": []
     },
     "output_type": "display_data"
    }
   ],
   "source": [
    "running_loss_values_my_nn_with_drop_lr_big\n",
    "\n",
    "#original_train_len = 73257\n",
    "#test_len = 26032\n",
    "\n",
    "x2_axis = np.arange(1,\n",
    "                   num_of_epochs+1,\n",
    "                   1/(2*int(int(int(73257*0.8)/64)/100)))\n",
    "plt.plot(x2_axis,\n",
    "         running_loss_values_my_nn_with_drop_lr_big,\n",
    "         label=\"learning rate = 0.01\")\n",
    "plt.plot(x2_axis,\n",
    "         running_loss_values_my_nn_with_drop,\n",
    "         label=\"learning rate = 0.001\")\n",
    "plt.plot(x2_axis,\n",
    "         running_loss_values_my_nn_with_drop_lr_small,\n",
    "         label=\"learning rate = 0.0001\")\n",
    "plt.ylabel(\"loss\")\n",
    "plt.xlabel(\"number of epochs\")\n",
    "plt.title( \"Loss During the Learning Phase on My NN With Additions\")\n",
    "plt.legend()\n",
    "plt.grid()\n",
    "plt.savefig(\"assignment 8 problem 7a1\")\n",
    "plt.show()"
   ]
  },
  {
   "cell_type": "code",
   "execution_count": null,
   "metadata": {
    "colab": {
     "base_uri": "https://localhost:8080/",
     "height": 295
    },
    "colab_type": "code",
    "id": "vs78NBX_-rk_",
    "outputId": "ad8b659f-ccc0-4e92-aa67-792e7faddfd7"
   },
   "outputs": [
    {
     "data": {
      "image/png": "[encoded data removed]",
      "text/plain": [
       "<Figure size 432x288 with 1 Axes>"
      ]
     },
     "metadata": {
      "needs_background": "light",
      "tags": []
     },
     "output_type": "display_data"
    }
   ],
   "source": [
    "running_loss_values_my_nn_with_drop_lr_big\n",
    "\n",
    "#original_train_len = 73257\n",
    "#test_len = 26032\n",
    "\n",
    "x2_axis = np.arange(1,\n",
    "                   num_of_epochs+1,\n",
    "                   1/(2*int(int(int(73257*0.8)/64)/100)))\n",
    "plt.plot(x2_axis,\n",
    "         running_loss_values_my_nn_with_drop_lr_big,\n",
    "         label=\"learning rate = 0.01\")\n",
    "plt.plot(x2_axis,\n",
    "         running_loss_values_my_nn_with_drop,\n",
    "         label=\"learning rate = 0.001\")\n",
    "plt.plot(x2_axis,\n",
    "         running_loss_values_my_nn_with_drop_lr_small,\n",
    "         label=\"learning rate = 0.0001\")\n",
    "plt.ylabel(\"loss\")\n",
    "plt.xlabel(\"number of epochs\")\n",
    "plt.title( \"Loss During the Learning Phase on My NN With Additions\")\n",
    "plt.legend()\n",
    "plt.grid()\n",
    "plt.ylim(0,4)\n",
    "plt.savefig(\"assignment 8 problem 7a2\")\n",
    "plt.show()"
   ]
  },
  {
   "cell_type": "code",
   "execution_count": null,
   "metadata": {
    "colab": {
     "base_uri": "https://localhost:8080/",
     "height": 295
    },
    "colab_type": "code",
    "id": "F7s82hk41HBA",
    "outputId": "3735938b-99b6-40ea-ab01-ad847ca08d04"
   },
   "outputs": [
    {
     "data": {
      "image/png": "[encoded data removed]",
      "text/plain": [
       "<Figure size 432x288 with 1 Axes>"
      ]
     },
     "metadata": {
      "needs_background": "light",
      "tags": []
     },
     "output_type": "display_data"
    }
   ],
   "source": [
    "\n",
    "#original_train_len = 73257\n",
    "#test_len = 26032\n",
    "\n",
    "x1_axis = np.arange(1,\n",
    "                   num_of_epochs+1,\n",
    "                   1/int(int(int(73257*0.8)/64)/100))\n",
    "plt.plot(x1_axis,\n",
    "         running_loss_values_my_nn_with_no_drop_lr_big,\n",
    "         label=\"learning rate = 0.01\")\n",
    "plt.plot(x1_axis,\n",
    "         running_loss_values_my_nn_with_no_drop,\n",
    "         label=\"learning rate = 0.001\")\n",
    "plt.plot(x1_axis,\n",
    "         running_loss_values_my_nn_with_no_drop_lr_small,\n",
    "         label=\"learning rate = 0.0001\")\n",
    "plt.ylabel(\"loss\")\n",
    "plt.xlabel(\"number of epochs\")\n",
    "plt.title( \"Loss During the Learning Phase on My NN Without Additions\")\n",
    "plt.legend()\n",
    "plt.grid()\n",
    "plt.savefig(\"assignment 8 problem 7b1\")\n",
    "plt.show()"
   ]
  },
  {
   "cell_type": "code",
   "execution_count": null,
   "metadata": {
    "colab": {
     "base_uri": "https://localhost:8080/",
     "height": 295
    },
    "colab_type": "code",
    "id": "DWHAemT6_Nbs",
    "outputId": "d2e57deb-8cad-44aa-ac7c-d0885fae00e7"
   },
   "outputs": [
    {
     "data": {
      "image/png": "[encoded data removed]",
      "text/plain": [
       "<Figure size 432x288 with 1 Axes>"
      ]
     },
     "metadata": {
      "needs_background": "light",
      "tags": []
     },
     "output_type": "display_data"
    }
   ],
   "source": [
    "\n",
    "#original_train_len = 73257\n",
    "#test_len = 26032\n",
    "\n",
    "x1_axis = np.arange(1,\n",
    "                   num_of_epochs+1,\n",
    "                   1/int(int(int(73257*0.8)/64)/100))\n",
    "plt.plot(x1_axis,\n",
    "         running_loss_values_my_nn_with_no_drop_lr_big,\n",
    "         label=\"learning rate = 0.01\")\n",
    "plt.plot(x1_axis,\n",
    "         running_loss_values_my_nn_with_no_drop,\n",
    "         label=\"learning rate = 0.001\")\n",
    "plt.plot(x1_axis,\n",
    "         running_loss_values_my_nn_with_no_drop_lr_small,\n",
    "         label=\"learning rate = 0.0001\")\n",
    "plt.ylabel(\"loss\")\n",
    "plt.xlabel(\"number of epochs\")\n",
    "plt.title( \"Loss During the Learning Phase on My NN Without Additions\")\n",
    "plt.legend()\n",
    "plt.grid()\n",
    "plt.ylim(0,4)\n",
    "plt.savefig(\"assignment 8 problem 7b2\")\n",
    "plt.show()"
   ]
  },
  {
   "cell_type": "code",
   "execution_count": null,
   "metadata": {
    "colab": {
     "base_uri": "https://localhost:8080/",
     "height": 295
    },
    "colab_type": "code",
    "id": "upY07eXd_Z8p",
    "outputId": "d0c32799-181e-4f7f-9764-ed7abe03927e"
   },
   "outputs": [
    {
     "data": {
      "image/png": "[encoded data removed]",
      "text/plain": [
       "<Figure size 432x288 with 1 Axes>"
      ]
     },
     "metadata": {
      "needs_background": "light",
      "tags": []
     },
     "output_type": "display_data"
    }
   ],
   "source": [
    "\n",
    "#original_train_len = 73257\n",
    "#test_len = 26032\n",
    "\n",
    "x1_axis = np.arange(1,\n",
    "                   num_of_epochs+1,\n",
    "                   1/int(int(int(73257*0.8)/64)/100))\n",
    "plt.plot(x1_axis,\n",
    "         running_loss_values_my_nn_with_no_drop_lr_big,\n",
    "         label=\"learning rate = 0.01\")\n",
    "plt.plot(x1_axis,\n",
    "         running_loss_values_my_nn_with_no_drop,\n",
    "         label=\"learning rate = 0.001\")\n",
    "plt.plot(x1_axis,\n",
    "         running_loss_values_my_nn_with_no_drop_lr_small,\n",
    "         label=\"learning rate = 0.0001\")\n",
    "plt.ylabel(\"loss\")\n",
    "plt.xlabel(\"number of epochs\")\n",
    "plt.title( \"Loss During the Learning Phase on My NN Without Additions\")\n",
    "plt.legend()\n",
    "plt.grid()\n",
    "plt.ylim(0,1)\n",
    "plt.savefig(\"assignment 8 problem 7b3\")\n",
    "plt.show()"
   ]
  },
  {
   "cell_type": "markdown",
   "metadata": {
    "colab_type": "text",
    "id": "pY00ygAWlLGA"
   },
   "source": [
    "### Accuracy"
   ]
  },
  {
   "cell_type": "markdown",
   "metadata": {
    "colab_type": "text",
    "id": "UPPNAJgZle-4"
   },
   "source": [
    "#### Define accuracy function"
   ]
  },
  {
   "cell_type": "code",
   "execution_count": null,
   "metadata": {
    "colab": {},
    "colab_type": "code",
    "id": "h9sUS-vhgaBd"
   },
   "outputs": [],
   "source": [
    "def calc_accuracy(data_set_class, net):\n",
    "  data_set = data_set_class()\n",
    "  loader = torch.utils.data.DataLoader(data_set, batch_size=64)\n",
    "  correct = 0\n",
    "  total = 0\n",
    "  with torch.no_grad():\n",
    "    for data in loader:\n",
    "      images, labels = data\n",
    "      images = images.to(device)\n",
    "      labels = labels.to(device)\n",
    "      outputs = net(images)\n",
    "      _, predicted = torch.max(outputs.data, 1)\n",
    "      total += labels.size(0)\n",
    "      correct += (predicted == labels.view(labels.size()[0])).sum().item()\n",
    "  accuracy = correct / total\n",
    "  return accuracy"
   ]
  },
  {
   "cell_type": "markdown",
   "metadata": {
    "colab_type": "text",
    "id": "OkO2oHT4o3YW"
   },
   "source": [
    "#### Compute accuracy"
   ]
  },
  {
   "cell_type": "markdown",
   "metadata": {
    "colab_type": "text",
    "id": "z5x1twinqWZ7"
   },
   "source": [
    "#### Plotting the accuracy"
   ]
  },
  {
   "cell_type": "markdown",
   "metadata": {
    "colab_type": "text",
    "id": "aNhgDicrimAo"
   },
   "source": [
    "##### baseline nets"
   ]
  },
  {
   "cell_type": "code",
   "execution_count": null,
   "metadata": {
    "colab": {},
    "colab_type": "code",
    "id": "fzPI5gS1uAW7"
   },
   "outputs": [],
   "source": [
    "#plt.figure(figsize=[10,8])\n",
    "accuracy_train_net_FC = calc_accuracy(TrainDataset, net_FC)\n",
    "accuracy_validation_FC = calc_accuracy(ValidationDataset, net_FC)\n",
    "accuracy_test_FC = calc_accuracy(TestDataset, net_FC)\n",
    "\n",
    "accuracy_train_net_CNN = calc_accuracy(TrainDataset, net_CNN)\n",
    "accuracy_validation_CNN = calc_accuracy(ValidationDataset, net_CNN)\n",
    "accuracy_test_CNN = calc_accuracy(TestDataset, net_CNN)\n"
   ]
  },
  {
   "cell_type": "code",
   "execution_count": null,
   "metadata": {
    "colab": {
     "base_uri": "https://localhost:8080/",
     "height": 281
    },
    "colab_type": "code",
    "id": "p7OoqzaUjHSk",
    "outputId": "0f0c30f4-b65e-4d8b-f680-21dd53c50f34"
   },
   "outputs": [
    {
     "data": {
      "image/png": "[encoded data removed]",
      "text/plain": [
       "<Figure size 432x288 with 1 Axes>"
      ]
     },
     "metadata": {
      "needs_background": "light",
      "tags": []
     },
     "output_type": "display_data"
    }
   ],
   "source": [
    "param1 = accuracy_train_net_FC\n",
    "param2 = accuracy_train_net_CNN\n",
    "param3 = accuracy_validation_FC\n",
    "param4 = accuracy_validation_CNN\n",
    "param5 = accuracy_test_FC\n",
    "param6 = accuracy_test_CNN\n",
    "y1 = np.array([param1, param2])\n",
    "y2 = np.array([param3, param4])\n",
    "y3 = np.array([param5, param6])\n",
    "ind = np.arange(2)\n",
    "width=0.15\n",
    "p1 = plt.bar(ind-width, y1, width)\n",
    "p2 = plt.bar(ind, y2, width)\n",
    "p3 = plt.bar(ind+width, y3, width)\n",
    "\n",
    "plt.ylabel(\"accuracy\")\n",
    "plt.title(\"Rates of Accuracy\")\n",
    "plt.xticks(ind, ('FC','CNN'))\n",
    "plt.legend((p1[0],p2[0],p3[0]), ('train accuracy',\n",
    "                                 'validation accuracy',\n",
    "                                 'test accuracy'),loc=2)\n",
    "space = 0.55\n",
    "plt.xlim(left = 0-space,right=1+space)\n",
    "plt.ylim(0,1)\n",
    "#plt.yticks(np.array([0,1,accuracy_train_net1,accuracy_validation_net1,accuracy_train_net2, accuracy_validation_net2]))\n",
    "space_up = 0.005\n",
    "space_sides = 0.15\n",
    "plt.text(0-width-space_sides, param1+space_up,'%.5f' % param1, ha='center', va='bottom')\n",
    "plt.text(0, param3+space_up,'%.5f' % param3, ha='center', va='bottom')\n",
    "plt.text(0+width+space_sides, param5+space_up,'%.5f' % param5, ha='center', va='bottom')\n",
    "plt.text(1-width-space_sides, param2+space_up,'%.5f' % param2, ha='center', va='bottom')\n",
    "plt.text(1, param4+space_up,'%.5f' % param4, ha='center', va='bottom')\n",
    "plt.text(1+width+space_sides, param6+space_up,'%.5f' % param6, ha='center', va='bottom')\n",
    "plt.savefig(\"assignment 8 problem 2\")\n",
    "plt.show()\n"
   ]
  },
  {
   "cell_type": "markdown",
   "metadata": {
    "colab_type": "text",
    "id": "Csf4EUR_is6U"
   },
   "source": [
    "##### my nets"
   ]
  },
  {
   "cell_type": "code",
   "execution_count": null,
   "metadata": {
    "colab": {},
    "colab_type": "code",
    "id": "vnNha9Uxux4O"
   },
   "outputs": [],
   "source": [
    "\n",
    "accuracy_train_my_nn_with_drop = calc_accuracy(TrainDataset, my_nn_with_drop)\n",
    "accuracy_validation_my_nn_with_drop = calc_accuracy(ValidationDataset, my_nn_with_drop)\n",
    "accuracy_test_my_nn_with_drop = calc_accuracy(TestDataset, my_nn_with_drop)\n",
    "\n",
    "accuracy_train_my_nn_with_no_drop = calc_accuracy(TrainDataset, my_nn_with_no_drop)\n",
    "accuracy_validation_my_nn_with_no_drop = calc_accuracy(ValidationDataset, my_nn_with_no_drop)\n",
    "accuracy_test_my_nn_with_no_drop = calc_accuracy(TestDataset, my_nn_with_no_drop)\n"
   ]
  },
  {
   "cell_type": "code",
   "execution_count": null,
   "metadata": {
    "colab": {
     "base_uri": "https://localhost:8080/",
     "height": 281
    },
    "colab_type": "code",
    "id": "PeNEAED9EJ-H",
    "outputId": "1bd25456-2e88-4f50-8f42-0b9635475bc4"
   },
   "outputs": [
    {
     "data": {
      "image/png": "[encoded data removed]",
      "text/plain": [
       "<Figure size 432x288 with 1 Axes>"
      ]
     },
     "metadata": {
      "needs_background": "light",
      "tags": []
     },
     "output_type": "display_data"
    }
   ],
   "source": [
    "#plt.figure(figsize=[10,8])\n",
    "\n",
    "\n",
    "param1 = accuracy_train_my_nn_with_drop\n",
    "param2 = accuracy_train_my_nn_with_no_drop\n",
    "param3 = accuracy_validation_my_nn_with_drop\n",
    "param4 = accuracy_validation_my_nn_with_no_drop\n",
    "param5 = accuracy_test_my_nn_with_drop\n",
    "param6 = accuracy_test_my_nn_with_no_drop\n",
    "y1 = np.array([param1, param2])\n",
    "y2 = np.array([param3, param4])\n",
    "y3 = np.array([param5, param6])\n",
    "ind = np.arange(2)\n",
    "width=0.15\n",
    "p1 = plt.bar(ind-width, y1, width)\n",
    "p2 = plt.bar(ind, y2, width)\n",
    "p3 = plt.bar(ind+width, y3, width)\n",
    "\n",
    "plt.ylabel(\"accuracy\")\n",
    "plt.title(\"Rates of Accuracy\")\n",
    "plt.xticks(ind, ('My NN with additions','My NN without additions'))\n",
    "plt.legend((p1[0],p2[0],p3[0]), ('train accuracy',\n",
    "                                 'validation accuracy',\n",
    "                                 'test accuracy'),loc=3)\n",
    "space = 0.55\n",
    "plt.xlim(left = 0-space,right=1+space)\n",
    "plt.ylim(0,1)\n",
    "#plt.yticks(np.array([0,1,accuracy_train_net1,accuracy_validation_net1,accuracy_train_net2, accuracy_validation_net2]))\n",
    "space_up = 0.005\n",
    "space_sides = 0.15\n",
    "plt.text(0-width-space_sides, param1+space_up,'%.5f' % param1, ha='center', va='bottom')\n",
    "plt.text(0, param3+space_up,'%.5f' % param3, ha='center', va='bottom')\n",
    "plt.text(0+width+space_sides, param5+space_up,'%.5f' % param5, ha='center', va='bottom')\n",
    "plt.text(1-width-space_sides, param2+space_up,'%.5f' % param2, ha='center', va='bottom')\n",
    "plt.text(1, param4+space_up,'%.5f' % param4, ha='center', va='bottom')\n",
    "plt.text(1+width+space_sides, param6+space_up,'%.5f' % param6, ha='center', va='bottom')\n",
    "plt.savefig(\"assignment 8 problem 3b\")\n",
    "plt.show()\n"
   ]
  }
 ],
 "metadata": {
  "accelerator": "GPU",
  "colab": {
   "collapsed_sections": [],
   "name": "cv202assignment8.ipynb",
   "provenance": [],
   "toc_visible": true
  },
  "kernelspec": {
   "display_name": "Python 3",
   "language": "python",
   "name": "python3"
  },
  "language_info": {
   "codemirror_mode": {
    "name": "ipython",
    "version": 3
   },
   "file_extension": ".py",
   "mimetype": "text/x-python",
   "name": "python",
   "nbconvert_exporter": "python",
   "pygments_lexer": "ipython3",
   "version": "3.6.4"
  }
 },
 "nbformat": 4,
 "nbformat_minor": 1
}
